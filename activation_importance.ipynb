{
 "cells": [
  {
   "cell_type": "markdown",
   "id": "d97d2dec-91a1-468c-b5fb-3f7d438615b0",
   "metadata": {},
   "source": [
    "## Reproduces experiment in section 2, Table 1"
   ]
  },
  {
   "cell_type": "code",
   "execution_count": null,
   "id": "4414f9d9-240c-4a72-a90d-5ff3f8f1060f",
   "metadata": {},
   "outputs": [],
   "source": [
    "import utils\n",
    "import data_utils\n",
    "import torch\n",
    "from tqdm import tqdm\n",
    "import pandas as pd"
   ]
  },
  {
   "cell_type": "code",
   "execution_count": null,
   "id": "66f87eca-c9f3-4a19-8537-17205a5b17ad",
   "metadata": {},
   "outputs": [],
   "source": [
    "device = \"cuda\"\n",
    "dataset_name = \"imagenet_val\"\n",
    "batch_size = 256\n",
    "target_name = \"resnet50_imagenet\"\n",
    "save_dir = \"saved_activations\"\n",
    "calibration_temp = 1.1\n",
    "pool_mode = \"avg\""
   ]
  },
  {
   "cell_type": "code",
   "execution_count": null,
   "id": "1dc103d2-e0b9-404b-b6dc-014417173405",
   "metadata": {},
   "outputs": [],
   "source": [
    "model, preprocess = data_utils.get_target_model(target_name, device=device)\n",
    "dataset = data_utils.get_data(dataset_name, preprocess)"
   ]
  },
  {
   "cell_type": "code",
   "execution_count": null,
   "id": "5a5c7875-910e-4cca-b752-134e1a87609e",
   "metadata": {},
   "outputs": [],
   "source": [
    "orig_save_path = '{}/{}_{}/orig'.format(save_dir, target_name, dataset_name)\n",
    "orig_pred, orig_acc, orig_loss = utils.save_pred_acc_loss(model, dataset, device, orig_save_path, T=calibration_temp)"
   ]
  },
  {
   "cell_type": "code",
   "execution_count": null,
   "id": "477f0f7f-078e-48d5-824b-6e12df454e80",
   "metadata": {},
   "outputs": [],
   "source": [
    "layer_to_neuron = {'maxpool':64, 'layer1':256, 'layer2':512, 'layer3':1024, 'layer4': 2048}"
   ]
  },
  {
   "cell_type": "code",
   "execution_count": null,
   "id": "a2e980f3-e13f-41e7-9ba2-81d841c1056c",
   "metadata": {},
   "outputs": [],
   "source": [
    "new_database = {'layer':[], 'unit':[]}\n",
    "\n",
    "for cutoff in [0.0003, 0.002, 0.005, 0.02, 0.1, 0.5]:\n",
    "    new_database[\"top_impact:{}\".format(cutoff)] = []\n",
    "\n",
    "for target_layer in layer_to_neuron.keys():\n",
    "    layer_save_path = '{}/{}_{}/{}/'.format(save_dir, target_name, dataset_name, target_layer)\n",
    "    summary_activations = utils.save_summary_activations(model, dataset, device, target_layer, batch_size, layer_save_path, pool_mode=pool_mode)\n",
    "    for target_neuron in tqdm(range(layer_to_neuron[target_layer])):\n",
    "        \n",
    "        neuron_save_path = '{}/{}_{}/{}/{}'.format(save_dir, target_name, dataset_name, target_layer, target_neuron)\n",
    "        new_pred, new_acc, new_loss = utils.save_pal_without_neuron(model, dataset, device, target_layer, target_neuron,\n",
    "                                                                             neuron_save_path, T=calibration_temp)\n",
    "        new_database['layer'].append(target_layer)\n",
    "        new_database['unit'].append(target_neuron)\n",
    "        neuron_impacts = utils.get_per_neuron_impact(orig_acc, orig_loss, new_acc, new_loss)\n",
    "        \n",
    "        sorted_act_vals, sorted_act_ids = torch.sort(summary_activations[:, target_neuron], descending=True)\n",
    "        sorted_impacts = neuron_impacts.gather(0, sorted_act_ids)\n",
    "        total_impact = torch.sum(torch.abs(neuron_impacts))\n",
    "        cum_impact = torch.cumsum(torch.abs(sorted_impacts), dim=0)/total_impact\n",
    "        for cutoff in [0.0003, 0.002, 0.005, 0.02, 0.1, 0.5]:\n",
    "             new_database[\"top_impact:{}\".format(cutoff)].append(cum_impact[int(cutoff*len(cum_impact))].item())"
   ]
  },
  {
   "cell_type": "code",
   "execution_count": null,
   "id": "ebcbcadb-6992-47c5-8634-6399f2233c4d",
   "metadata": {},
   "outputs": [],
   "source": [
    "df = pd.DataFrame(new_database)\n",
    "for column in df.columns:\n",
    "    if column in ['layer', 'unit']:\n",
    "        continue\n",
    "    print(\"{}, mean:{:.3f}%, std:{:.3f}%\".format(column, df[column].mean()*100, df[column].std()*100))"
   ]
  },
  {
   "cell_type": "code",
   "execution_count": null,
   "id": "3231d998-9cd8-490d-8667-3a7515f19836",
   "metadata": {},
   "outputs": [],
   "source": [
    "for layer in ['maxpool', 'layer1', 'layer2', 'layer3', 'layer4']:\n",
    "    print(layer)\n",
    "    curr_df = df[df['layer']==layer]\n",
    "    for column in df.columns:\n",
    "        if column in ['layer', 'unit']:\n",
    "            continue\n",
    "        print(\"{}, mean:{:.3f}%, std:{:.3f}%\".format(column, curr_df[column].mean()*100, curr_df[column].std()*100))\n",
    "    print(\"\")"
   ]
  }
 ],
 "metadata": {
  "kernelspec": {
   "display_name": "Python 3 (ipykernel)",
   "language": "python",
   "name": "python3"
  },
  "language_info": {
   "codemirror_mode": {
    "name": "ipython",
    "version": 3
   },
   "file_extension": ".py",
   "mimetype": "text/x-python",
   "name": "python",
   "nbconvert_exporter": "python",
   "pygments_lexer": "ipython3",
   "version": "3.11.9"
  }
 },
 "nbformat": 4,
 "nbformat_minor": 5
}
