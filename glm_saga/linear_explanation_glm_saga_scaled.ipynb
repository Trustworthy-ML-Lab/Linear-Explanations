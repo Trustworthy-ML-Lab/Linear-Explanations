{
 "cells": [
  {
   "cell_type": "code",
   "execution_count": 1,
   "id": "e5defd09-da1e-4a07-a9ef-6e432b327fb4",
   "metadata": {},
   "outputs": [],
   "source": [
    "import numpy as np\n",
    "import pandas as pd\n",
    "import torch\n",
    "from tqdm import tqdm\n",
    "from matplotlib import pyplot as plt\n",
    "import clip\n",
    "import open_clip\n",
    "\n",
    "import utils\n",
    "import data_utils\n",
    "\n",
    "from torch.utils.data import DataLoader, TensorDataset\n",
    "from glm_saga.elasticnet import IndexedTensorDataset, glm_saga"
   ]
  },
  {
   "cell_type": "code",
   "execution_count": 2,
   "id": "8f952674-3a3e-49c1-b93c-8e325da8c032",
   "metadata": {},
   "outputs": [],
   "source": [
    "device = \"cuda\"\n",
    "dataset_name = \"imagenet_val\"\n",
    "batch_size = 256\n",
    "save_dir = 'saved_activations'\n",
    "clip_name = \"ViT-L-16-SigLIP-384\"#\"ViT-B/16\"#\"ViT-L/14@336px\"#\n",
    "openclip = True\n",
    "concept_set = \"data/filtered_20k_new.txt\"#\"data/combined_concepts.txt\"#\"data/20k.txt\"\n",
    "target_name = \"resnet50\"\n",
    "target_layer = \"layer4\"\n",
    "target_neurons = [i for i in range(50)]\n",
    "\n",
    "if openclip:\n",
    "    clip_model, _, clip_preprocess = open_clip.create_model_and_transforms(clip_name.split(\"_\")[-1], pretrained=\"webli\",\n",
    "                                                                       device=device)\n",
    "else:\n",
    "    clip_model, clip_preprocess = clip.load(clip_name, device=device)\n",
    "\n",
    "model, preprocess = data_utils.get_target_model(target_name, device=device)"
   ]
  },
  {
   "cell_type": "code",
   "execution_count": 3,
   "id": "29000ac3-50ef-405e-b6b2-cba4895dcdaf",
   "metadata": {},
   "outputs": [],
   "source": [
    "dataset = data_utils.get_data(dataset_name, preprocess)\n",
    "clip_data = data_utils.get_data(dataset_name, clip_preprocess)"
   ]
  },
  {
   "cell_type": "code",
   "execution_count": 4,
   "id": "ecc0b8c0-24b9-47ea-b189-32167130b9ea",
   "metadata": {},
   "outputs": [],
   "source": [
    "clip_save_name = \"{}/{}_{}.pt\".format(save_dir, dataset_name, clip_name.replace('/', ''))\n",
    "utils.save_clip_image_features(clip_model, clip_data, clip_save_name, batch_size, device)\n",
    "clip_image_features = torch.load(clip_save_name, map_location=device).float()"
   ]
  },
  {
   "cell_type": "code",
   "execution_count": 5,
   "id": "6a394d83-a351-4f61-8e6c-e9a49ed97f09",
   "metadata": {},
   "outputs": [],
   "source": [
    "with open(concept_set, 'r') as f: \n",
    "    text = (f.read()).split('\\n')\n",
    "if openclip:\n",
    "    tokenized_text = open_clip.get_tokenizer(clip_name.split(\"_\")[-1])(text).to(device)\n",
    "else:\n",
    "    tokenized_text = clip.tokenize(text).to(device)\n",
    "    avg_emb_path = \"{}/20k_avg_{}.pt\".format(save_dir, clip_name.replace(\"/\", \"\"))\n",
    "    avg_text_emb = utils.save_clip_avg_20k(clip_model, avg_emb_path, batch_size=1000, device=device)\n",
    "\n",
    "text_save_name = \"{}/{}_{}.pt\".format(save_dir, concept_set.split(\"/\")[-1].split(\".\")[0], clip_name.replace('/', ''))\n",
    "clip_text_features = utils.get_clip_text_features(clip_model, tokenized_text).float()"
   ]
  },
  {
   "cell_type": "code",
   "execution_count": 6,
   "id": "185e52c8-1046-4e6c-8058-2a21d7da7663",
   "metadata": {},
   "outputs": [
    {
     "name": "stdout",
     "output_type": "stream",
     "text": [
      "torch.Size([50000, 14862])\n",
      "tensor(111.0096, device='cuda:0')\n"
     ]
    }
   ],
   "source": [
    "a = utils.SIGMOID_PARAMS[clip_name][\"a\"]#60\n",
    "b = utils.SIGMOID_PARAMS[clip_name][\"b\"]#-0.08#-0.07\n",
    "\n",
    "with torch.no_grad():\n",
    "    clip_image_features /= clip_image_features.norm(dim=-1, keepdim=True)\n",
    "    clip_text_features /= clip_text_features.norm(dim=-1, keepdim=True)\n",
    "    if openclip:\n",
    "        clip_feats = clip_image_features @ (clip_text_features).T\n",
    "    else:\n",
    "        clip_feats = (clip_image_features @ (clip_text_features-avg_text_emb).T)\n",
    "    clip_feats = torch.nn.functional.sigmoid(a*(clip_feats+b))\n",
    "\n",
    "print(clip_feats.shape)\n",
    "print(torch.mean(torch.sum(clip_feats, dim=1)))\n",
    "\n",
    "##load ensemble results\n",
    "# with torch.no_grad():\n",
    "#     clip_feats = torch.nn.functional.sigmoid(a*(torch.load(\"saved_activations/clip_feats_ensemble_imagenet_filtered_20k.pt\")+b))"
   ]
  },
  {
   "cell_type": "code",
   "execution_count": 7,
   "id": "149d40df-18a7-471e-9725-28b96f2cd637",
   "metadata": {},
   "outputs": [
    {
     "name": "stdout",
     "output_type": "stream",
     "text": [
      "tensor([0.0347, 0.0022, 0.0003,  ..., 0.0126, 0.0275, 0.0009], device='cuda:0') torch.Size([14862])\n",
      "fauna tensor(0.0955) tensor(0.1385)\n",
      "cao tensor(0.0892) tensor(0.1253)\n",
      "beg tensor(0.0889) tensor(0.0935)\n",
      "orig tensor(0.0888) tensor(0.0685)\n",
      "tier tensor(0.0848) tensor(0.1167)\n"
     ]
    }
   ],
   "source": [
    "mean_text = torch.mean(clip_feats, dim=0)\n",
    "std_text = torch.std(clip_feats, dim=0)\n",
    "print(mean_text, mean_text.shape)\n",
    "vals, ids = torch.sort(mean_text, descending=True)\n",
    "for id in ids[:5]:\n",
    "    print(text[id], mean_text[id].cpu(), std_text[id].cpu())"
   ]
  },
  {
   "cell_type": "code",
   "execution_count": 8,
   "id": "fc0e5905-b9c0-4217-a98d-f9fda74f22ae",
   "metadata": {},
   "outputs": [
    {
     "name": "stdout",
     "output_type": "stream",
     "text": [
      "commented tensor(4.7496e-05) tensor(0.0005)\n",
      "notion tensor(3.8516e-05) tensor(0.0006)\n",
      "bootstrap tensor(7.1456e-05) tensor(0.0007)\n",
      "subscribe tensor(7.5272e-05) tensor(0.0007)\n",
      "pdf tensor(0.0002) tensor(0.0007)\n"
     ]
    }
   ],
   "source": [
    "vals, ids = torch.sort(std_text, descending=False)\n",
    "for id in ids[0:5]:\n",
    "    print(text[id], mean_text[id].cpu(), std_text[id].cpu())"
   ]
  },
  {
   "cell_type": "markdown",
   "id": "0e923318-3102-482d-897f-307b90556241",
   "metadata": {},
   "source": [
    "## Deleting concepts that are not active on the dataset"
   ]
  },
  {
   "cell_type": "code",
   "execution_count": 9,
   "id": "e9e88a86-e540-49d9-8a47-41718d528c32",
   "metadata": {},
   "outputs": [
    {
     "name": "stdout",
     "output_type": "stream",
     "text": [
      "14713 torch.Size([50000, 14713])\n"
     ]
    }
   ],
   "source": [
    "active_concepts = std_text>0.002\n",
    "clip_feats = clip_feats[:, active_concepts]\n",
    "text = [concept for i, concept in enumerate(text) if active_concepts[i]]\n",
    "print(len(text), clip_feats.shape)\n",
    "\n",
    "mean_text = mean_text[active_concepts]\n",
    "std_text = std_text[active_concepts]"
   ]
  },
  {
   "cell_type": "code",
   "execution_count": 10,
   "id": "152d0f1b-780f-4642-b84c-c2a3d244334c",
   "metadata": {},
   "outputs": [],
   "source": [
    "#print(mean_text[text.index(\"yellow\")])\n",
    "pil_data = data_utils.get_data(dataset_name)"
   ]
  },
  {
   "cell_type": "code",
   "execution_count": 11,
   "id": "a64ba4bd-0a58-4bd7-b5ae-4c233ad68ade",
   "metadata": {},
   "outputs": [
    {
     "name": "stdout",
     "output_type": "stream",
     "text": [
      "lizard tensor(0.9146)\n",
      "reptiles tensor(0.7256)\n",
      "mos tensor(0.4885)\n",
      "macro tensor(0.4159)\n",
      "opteron tensor(0.4140)\n",
      "ivy tensor(0.3882)\n",
      "fauna tensor(0.3842)\n",
      "organisms tensor(0.3769)\n",
      "bud tensor(0.3537)\n",
      "leaves tensor(0.3495)\n",
      "emerged tensor(0.3327)\n",
      "hiding tensor(0.3220)\n",
      "nutten tensor(0.3113)\n",
      "leaf tensor(0.2960)\n",
      "foliage tensor(0.2736)\n",
      "vegetation tensor(0.2706)\n",
      "mating tensor(0.2661)\n",
      "tended tensor(0.2637)\n",
      "grows tensor(0.2629)\n",
      "wildlife tensor(0.2611)\n"
     ]
    },
    {
     "data": {
      "image/png": "[encoded data removed]",
      "text/plain": [
       "<Figure size 640x480 with 1 Axes>"
      ]
     },
     "metadata": {},
     "output_type": "display_data"
    }
   ],
   "source": [
    "img_id = 2000\n",
    "\n",
    "plt.imshow(pil_data[img_id][0])\n",
    "vals, ids = torch.sort(clip_feats[img_id], descending=True)\n",
    "for id in ids[:20]:\n",
    "    print(text[id], clip_feats[img_id, id].cpu())"
   ]
  },
  {
   "cell_type": "code",
   "execution_count": 12,
   "id": "bb29a44e-8fe5-49a6-866b-cd09af60f8d3",
   "metadata": {},
   "outputs": [
    {
     "name": "stdout",
     "output_type": "stream",
     "text": [
      "torch.Size([50000, 50])\n"
     ]
    }
   ],
   "source": [
    "summary_activations = []\n",
    "\n",
    "layer_save_path = '{}/{}_{}/{}/'.format(save_dir, target_name, dataset_name, target_layer)\n",
    "#for target_neuron in target_neurons:\n",
    "activations = utils.save_summary_activations(model, dataset, device, target_layer, batch_size, layer_save_path)\n",
    "summary_activations = [activations[:, neuron:neuron+1] for neuron in target_neurons]\n",
    "summary_activations = torch.cat(summary_activations, dim=1)\n",
    "\n",
    "print(summary_activations.shape)\n",
    "del clip_image_features, clip_text_features, activations\n",
    "torch.cuda.empty_cache()"
   ]
  },
  {
   "cell_type": "code",
   "execution_count": 13,
   "id": "94dc7e61-48f3-4f04-b2d4-778c5643fecd",
   "metadata": {},
   "outputs": [],
   "source": [
    "train_ids = torch.load(\"data/imagenet_val_splits/train_ids.pt\")\n",
    "val_ids = torch.load(\"data/imagenet_val_splits/val_ids.pt\")\n",
    "\n",
    "train_data = clip_feats[train_ids].float()\n",
    "val_data = clip_feats[val_ids].float()\n",
    "\n",
    "train_target = summary_activations[train_ids]\n",
    "val_target = summary_activations[val_ids]\n",
    "\n",
    "del clip_feats\n",
    "torch.cuda.empty_cache()"
   ]
  },
  {
   "cell_type": "code",
   "execution_count": 14,
   "id": "098180db-5d4f-400b-83a3-94cd845e2776",
   "metadata": {},
   "outputs": [],
   "source": [
    "with torch.no_grad():\n",
    "    train_mean = torch.mean(train_data, dim=0, keepdim=True)\n",
    "    train_std = torch.std(train_data, dim=0, keepdim=True)\n",
    "    #print(train_mean, train_std)\n",
    "    train_data -= train_mean\n",
    "    train_data /= train_std\n",
    "\n",
    "    target_mean = torch.mean(summary_activations, dim=0, keepdim=True)\n",
    "    target_std = torch.std(summary_activations, dim=0, keepdim=True)\n",
    "    train_target = (train_target-target_mean)/target_std\n",
    "    indexed_train_ds = IndexedTensorDataset(train_data, train_target)\n",
    "\n",
    "    val_data -= train_mean\n",
    "    val_data /= train_std\n",
    "\n",
    "    val_target = (val_target - target_mean)/target_std\n",
    "    \n",
    "    val_ds = TensorDataset(val_data, val_target)"
   ]
  },
  {
   "cell_type": "code",
   "execution_count": 15,
   "id": "036eaea8-74d7-41b2-bb99-28a9dbedde7e",
   "metadata": {},
   "outputs": [
    {
     "name": "stderr",
     "output_type": "stream",
     "text": [
      "  0%|▏                                                                                 | 1/500 [00:01<13:01,  1.57s/it]"
     ]
    },
    {
     "name": "stdout",
     "output_type": "stream",
     "text": [
      "obj 25.834518432617188 weight nnz 273849/735650 (0.3723) obj_best 25.834518432617188\n"
     ]
    },
    {
     "name": "stderr",
     "output_type": "stream",
     "text": [
      "  0%|▎                                                                                 | 2/500 [00:02<12:14,  1.47s/it]"
     ]
    },
    {
     "name": "stdout",
     "output_type": "stream",
     "text": [
      "obj 22.415660858154297 weight nnz 44934/735650 (0.0611) obj_best 22.415660858154297\n"
     ]
    },
    {
     "name": "stderr",
     "output_type": "stream",
     "text": [
      "  1%|▍                                                                                 | 3/500 [00:04<11:51,  1.43s/it]"
     ]
    },
    {
     "name": "stdout",
     "output_type": "stream",
     "text": [
      "obj 22.7102108001709 weight nnz 35175/735650 (0.0478) obj_best 22.415660858154297\n"
     ]
    },
    {
     "name": "stderr",
     "output_type": "stream",
     "text": [
      "  1%|▋                                                                                 | 4/500 [00:05<12:00,  1.45s/it]"
     ]
    },
    {
     "name": "stdout",
     "output_type": "stream",
     "text": [
      "obj 22.410682678222656 weight nnz 27617/735650 (0.0375) obj_best 22.410682678222656\n"
     ]
    },
    {
     "name": "stderr",
     "output_type": "stream",
     "text": [
      "  1%|▊                                                                                 | 5/500 [00:07<11:44,  1.42s/it]"
     ]
    },
    {
     "name": "stdout",
     "output_type": "stream",
     "text": [
      "obj 22.3339900970459 weight nnz 24019/735650 (0.0327) obj_best 22.3339900970459\n"
     ]
    },
    {
     "name": "stderr",
     "output_type": "stream",
     "text": [
      "  1%|▉                                                                                 | 6/500 [00:08<11:35,  1.41s/it]"
     ]
    },
    {
     "name": "stdout",
     "output_type": "stream",
     "text": [
      "obj 22.226245880126953 weight nnz 21309/735650 (0.0290) obj_best 22.226245880126953\n"
     ]
    },
    {
     "name": "stderr",
     "output_type": "stream",
     "text": [
      "  1%|█▏                                                                                | 7/500 [00:09<11:32,  1.41s/it]"
     ]
    },
    {
     "name": "stdout",
     "output_type": "stream",
     "text": [
      "obj 22.151714324951172 weight nnz 19368/735650 (0.0263) obj_best 22.151714324951172\n"
     ]
    },
    {
     "name": "stderr",
     "output_type": "stream",
     "text": [
      "  2%|█▎                                                                                | 8/500 [00:11<11:49,  1.44s/it]"
     ]
    },
    {
     "name": "stdout",
     "output_type": "stream",
     "text": [
      "obj 22.084375381469727 weight nnz 17855/735650 (0.0243) obj_best 22.084375381469727\n"
     ]
    },
    {
     "name": "stderr",
     "output_type": "stream",
     "text": [
      "  2%|█▍                                                                                | 9/500 [00:12<11:41,  1.43s/it]"
     ]
    },
    {
     "name": "stdout",
     "output_type": "stream",
     "text": [
      "obj 22.02907371520996 weight nnz 16647/735650 (0.0226) obj_best 22.02907371520996\n"
     ]
    },
    {
     "name": "stderr",
     "output_type": "stream",
     "text": [
      "  2%|█▌                                                                               | 10/500 [00:14<11:35,  1.42s/it]"
     ]
    },
    {
     "name": "stdout",
     "output_type": "stream",
     "text": [
      "obj 21.981229782104492 weight nnz 15585/735650 (0.0212) obj_best 21.981229782104492\n"
     ]
    },
    {
     "name": "stderr",
     "output_type": "stream",
     "text": [
      "  2%|█▊                                                                               | 11/500 [00:15<11:28,  1.41s/it]"
     ]
    },
    {
     "name": "stdout",
     "output_type": "stream",
     "text": [
      "obj 21.93916893005371 weight nnz 14704/735650 (0.0200) obj_best 21.93916893005371\n"
     ]
    },
    {
     "name": "stderr",
     "output_type": "stream",
     "text": [
      "  2%|█▉                                                                               | 12/500 [00:17<11:20,  1.39s/it]"
     ]
    },
    {
     "name": "stdout",
     "output_type": "stream",
     "text": [
      "obj 21.9027156829834 weight nnz 13992/735650 (0.0190) obj_best 21.9027156829834\n"
     ]
    },
    {
     "name": "stderr",
     "output_type": "stream",
     "text": [
      "  3%|██                                                                               | 13/500 [00:18<11:15,  1.39s/it]"
     ]
    },
    {
     "name": "stdout",
     "output_type": "stream",
     "text": [
      "obj 21.870141983032227 weight nnz 13382/735650 (0.0182) obj_best 21.870141983032227\n"
     ]
    },
    {
     "name": "stderr",
     "output_type": "stream",
     "text": [
      "  3%|██▎                                                                              | 14/500 [00:19<11:16,  1.39s/it]"
     ]
    },
    {
     "name": "stdout",
     "output_type": "stream",
     "text": [
      "obj 21.841100692749023 weight nnz 12809/735650 (0.0174) obj_best 21.841100692749023\n"
     ]
    },
    {
     "name": "stderr",
     "output_type": "stream",
     "text": [
      "  3%|██▍                                                                              | 15/500 [00:21<11:34,  1.43s/it]"
     ]
    },
    {
     "name": "stdout",
     "output_type": "stream",
     "text": [
      "obj 21.815317153930664 weight nnz 12278/735650 (0.0167) obj_best 21.815317153930664\n"
     ]
    },
    {
     "name": "stderr",
     "output_type": "stream",
     "text": [
      "  3%|██▌                                                                              | 16/500 [00:22<11:29,  1.42s/it]"
     ]
    },
    {
     "name": "stdout",
     "output_type": "stream",
     "text": [
      "obj 21.79208755493164 weight nnz 11810/735650 (0.0161) obj_best 21.79208755493164\n"
     ]
    },
    {
     "name": "stderr",
     "output_type": "stream",
     "text": [
      "  3%|██▊                                                                              | 17/500 [00:24<11:24,  1.42s/it]"
     ]
    },
    {
     "name": "stdout",
     "output_type": "stream",
     "text": [
      "obj 21.77069664001465 weight nnz 11413/735650 (0.0155) obj_best 21.77069664001465\n"
     ]
    },
    {
     "name": "stderr",
     "output_type": "stream",
     "text": [
      "  4%|██▉                                                                              | 18/500 [00:25<11:17,  1.41s/it]"
     ]
    },
    {
     "name": "stdout",
     "output_type": "stream",
     "text": [
      "obj 21.751235961914062 weight nnz 11041/735650 (0.0150) obj_best 21.751235961914062\n"
     ]
    },
    {
     "name": "stderr",
     "output_type": "stream",
     "text": [
      "  4%|███                                                                              | 19/500 [00:27<11:25,  1.43s/it]"
     ]
    },
    {
     "name": "stdout",
     "output_type": "stream",
     "text": [
      "obj 21.733474731445312 weight nnz 10694/735650 (0.0145) obj_best 21.733474731445312\n"
     ]
    },
    {
     "name": "stderr",
     "output_type": "stream",
     "text": [
      "  4%|███▏                                                                             | 20/500 [00:28<11:15,  1.41s/it]"
     ]
    },
    {
     "name": "stdout",
     "output_type": "stream",
     "text": [
      "obj 21.717182159423828 weight nnz 10373/735650 (0.0141) obj_best 21.717182159423828\n"
     ]
    },
    {
     "name": "stderr",
     "output_type": "stream",
     "text": [
      "  4%|███▍                                                                             | 21/500 [00:29<11:11,  1.40s/it]"
     ]
    },
    {
     "name": "stdout",
     "output_type": "stream",
     "text": [
      "obj 21.70208740234375 weight nnz 10086/735650 (0.0137) obj_best 21.70208740234375\n"
     ]
    },
    {
     "name": "stderr",
     "output_type": "stream",
     "text": [
      "  4%|███▌                                                                             | 22/500 [00:31<11:09,  1.40s/it]"
     ]
    },
    {
     "name": "stdout",
     "output_type": "stream",
     "text": [
      "obj 21.688241958618164 weight nnz 9808/735650 (0.0133) obj_best 21.688241958618164\n"
     ]
    },
    {
     "name": "stderr",
     "output_type": "stream",
     "text": [
      "  5%|███▋                                                                             | 23/500 [00:32<11:08,  1.40s/it]"
     ]
    },
    {
     "name": "stdout",
     "output_type": "stream",
     "text": [
      "obj 21.67546272277832 weight nnz 9572/735650 (0.0130) obj_best 21.67546272277832\n"
     ]
    },
    {
     "name": "stderr",
     "output_type": "stream",
     "text": [
      "  5%|███▉                                                                             | 24/500 [00:33<11:06,  1.40s/it]"
     ]
    },
    {
     "name": "stdout",
     "output_type": "stream",
     "text": [
      "obj 21.663732528686523 weight nnz 9333/735650 (0.0127) obj_best 21.663732528686523\n"
     ]
    },
    {
     "name": "stderr",
     "output_type": "stream",
     "text": [
      "  5%|████                                                                             | 25/500 [00:35<11:00,  1.39s/it]"
     ]
    },
    {
     "name": "stdout",
     "output_type": "stream",
     "text": [
      "obj 21.65240478515625 weight nnz 9130/735650 (0.0124) obj_best 21.65240478515625\n"
     ]
    },
    {
     "name": "stderr",
     "output_type": "stream",
     "text": [
      "  5%|████▏                                                                            | 26/500 [00:36<11:11,  1.42s/it]"
     ]
    },
    {
     "name": "stdout",
     "output_type": "stream",
     "text": [
      "obj 21.641984939575195 weight nnz 8958/735650 (0.0122) obj_best 21.641984939575195\n"
     ]
    },
    {
     "name": "stderr",
     "output_type": "stream",
     "text": [
      "  5%|████▎                                                                            | 27/500 [00:38<11:05,  1.41s/it]"
     ]
    },
    {
     "name": "stdout",
     "output_type": "stream",
     "text": [
      "obj 21.632293701171875 weight nnz 8779/735650 (0.0119) obj_best 21.632293701171875\n"
     ]
    },
    {
     "name": "stderr",
     "output_type": "stream",
     "text": [
      "  6%|████▌                                                                            | 28/500 [00:39<11:02,  1.40s/it]"
     ]
    },
    {
     "name": "stdout",
     "output_type": "stream",
     "text": [
      "obj 21.62301254272461 weight nnz 8619/735650 (0.0117) obj_best 21.62301254272461\n"
     ]
    },
    {
     "name": "stderr",
     "output_type": "stream",
     "text": [
      "  6%|████▋                                                                            | 29/500 [00:41<11:02,  1.41s/it]"
     ]
    },
    {
     "name": "stdout",
     "output_type": "stream",
     "text": [
      "obj 21.61458969116211 weight nnz 8438/735650 (0.0115) obj_best 21.61458969116211\n"
     ]
    },
    {
     "name": "stderr",
     "output_type": "stream",
     "text": [
      "  6%|████▊                                                                            | 30/500 [00:42<11:14,  1.44s/it]"
     ]
    },
    {
     "name": "stdout",
     "output_type": "stream",
     "text": [
      "obj 21.606571197509766 weight nnz 8300/735650 (0.0113) obj_best 21.606571197509766\n"
     ]
    },
    {
     "name": "stderr",
     "output_type": "stream",
     "text": [
      "  6%|█████                                                                            | 31/500 [00:43<11:07,  1.42s/it]"
     ]
    },
    {
     "name": "stdout",
     "output_type": "stream",
     "text": [
      "obj 21.59902572631836 weight nnz 8161/735650 (0.0111) obj_best 21.59902572631836\n"
     ]
    },
    {
     "name": "stderr",
     "output_type": "stream",
     "text": [
      "  6%|█████▏                                                                           | 32/500 [00:45<10:58,  1.41s/it]"
     ]
    },
    {
     "name": "stdout",
     "output_type": "stream",
     "text": [
      "obj 21.591888427734375 weight nnz 8044/735650 (0.0109) obj_best 21.591888427734375\n"
     ]
    },
    {
     "name": "stderr",
     "output_type": "stream",
     "text": [
      "  7%|█████▎                                                                           | 33/500 [00:46<10:53,  1.40s/it]"
     ]
    },
    {
     "name": "stdout",
     "output_type": "stream",
     "text": [
      "obj 21.585041046142578 weight nnz 7924/735650 (0.0108) obj_best 21.585041046142578\n"
     ]
    },
    {
     "name": "stderr",
     "output_type": "stream",
     "text": [
      "  7%|█████▌                                                                           | 34/500 [00:48<10:51,  1.40s/it]"
     ]
    },
    {
     "name": "stdout",
     "output_type": "stream",
     "text": [
      "obj 21.57868003845215 weight nnz 7802/735650 (0.0106) obj_best 21.57868003845215\n"
     ]
    },
    {
     "name": "stderr",
     "output_type": "stream",
     "text": [
      "  7%|█████▋                                                                           | 35/500 [00:49<10:51,  1.40s/it]"
     ]
    },
    {
     "name": "stdout",
     "output_type": "stream",
     "text": [
      "obj 21.572620391845703 weight nnz 7680/735650 (0.0104) obj_best 21.572620391845703\n"
     ]
    },
    {
     "name": "stderr",
     "output_type": "stream",
     "text": [
      "  7%|█████▊                                                                           | 36/500 [00:50<10:54,  1.41s/it]"
     ]
    },
    {
     "name": "stdout",
     "output_type": "stream",
     "text": [
      "obj 21.56689453125 weight nnz 7577/735650 (0.0103) obj_best 21.56689453125\n"
     ]
    },
    {
     "name": "stderr",
     "output_type": "stream",
     "text": [
      "  7%|█████▉                                                                           | 37/500 [00:52<11:09,  1.45s/it]"
     ]
    },
    {
     "name": "stdout",
     "output_type": "stream",
     "text": [
      "obj 21.561487197875977 weight nnz 7458/735650 (0.0101) obj_best 21.561487197875977\n"
     ]
    },
    {
     "name": "stderr",
     "output_type": "stream",
     "text": [
      "  8%|██████▏                                                                          | 38/500 [00:53<11:01,  1.43s/it]"
     ]
    },
    {
     "name": "stdout",
     "output_type": "stream",
     "text": [
      "obj 21.556360244750977 weight nnz 7374/735650 (0.0100) obj_best 21.556360244750977\n"
     ]
    },
    {
     "name": "stderr",
     "output_type": "stream",
     "text": [
      "  8%|██████▎                                                                          | 39/500 [00:55<10:52,  1.42s/it]"
     ]
    },
    {
     "name": "stdout",
     "output_type": "stream",
     "text": [
      "obj 21.551450729370117 weight nnz 7290/735650 (0.0099) obj_best 21.551450729370117\n"
     ]
    },
    {
     "name": "stderr",
     "output_type": "stream",
     "text": [
      "  8%|██████▍                                                                          | 40/500 [00:56<10:47,  1.41s/it]"
     ]
    },
    {
     "name": "stdout",
     "output_type": "stream",
     "text": [
      "obj 21.54682731628418 weight nnz 7201/735650 (0.0098) obj_best 21.54682731628418\n"
     ]
    },
    {
     "name": "stderr",
     "output_type": "stream",
     "text": [
      "  8%|██████▋                                                                          | 41/500 [00:58<10:58,  1.44s/it]"
     ]
    },
    {
     "name": "stdout",
     "output_type": "stream",
     "text": [
      "obj 21.542402267456055 weight nnz 7120/735650 (0.0097) obj_best 21.542402267456055\n"
     ]
    },
    {
     "name": "stderr",
     "output_type": "stream",
     "text": [
      "  8%|██████▊                                                                          | 42/500 [00:59<10:54,  1.43s/it]"
     ]
    },
    {
     "name": "stdout",
     "output_type": "stream",
     "text": [
      "obj 21.53823471069336 weight nnz 7034/735650 (0.0096) obj_best 21.53823471069336\n"
     ]
    },
    {
     "name": "stderr",
     "output_type": "stream",
     "text": [
      "  9%|██████▉                                                                          | 43/500 [01:00<10:50,  1.42s/it]"
     ]
    },
    {
     "name": "stdout",
     "output_type": "stream",
     "text": [
      "obj 21.53416633605957 weight nnz 6961/735650 (0.0095) obj_best 21.53416633605957\n"
     ]
    },
    {
     "name": "stderr",
     "output_type": "stream",
     "text": [
      "  9%|███████▏                                                                         | 44/500 [01:02<10:45,  1.42s/it]"
     ]
    },
    {
     "name": "stdout",
     "output_type": "stream",
     "text": [
      "obj 21.530324935913086 weight nnz 6879/735650 (0.0094) obj_best 21.530324935913086\n"
     ]
    },
    {
     "name": "stderr",
     "output_type": "stream",
     "text": [
      "  9%|███████▎                                                                         | 45/500 [01:03<10:43,  1.41s/it]"
     ]
    },
    {
     "name": "stdout",
     "output_type": "stream",
     "text": [
      "obj 21.526689529418945 weight nnz 6807/735650 (0.0093) obj_best 21.526689529418945\n"
     ]
    },
    {
     "name": "stderr",
     "output_type": "stream",
     "text": [
      "  9%|███████▍                                                                         | 46/500 [01:05<10:41,  1.41s/it]"
     ]
    },
    {
     "name": "stdout",
     "output_type": "stream",
     "text": [
      "obj 21.523174285888672 weight nnz 6728/735650 (0.0091) obj_best 21.523174285888672\n"
     ]
    },
    {
     "name": "stderr",
     "output_type": "stream",
     "text": [
      "  9%|███████▌                                                                         | 47/500 [01:06<10:36,  1.40s/it]"
     ]
    },
    {
     "name": "stdout",
     "output_type": "stream",
     "text": [
      "obj 21.519899368286133 weight nnz 6648/735650 (0.0090) obj_best 21.519899368286133\n"
     ]
    },
    {
     "name": "stderr",
     "output_type": "stream",
     "text": [
      " 10%|███████▊                                                                         | 48/500 [01:07<10:45,  1.43s/it]"
     ]
    },
    {
     "name": "stdout",
     "output_type": "stream",
     "text": [
      "obj 21.516735076904297 weight nnz 6576/735650 (0.0089) obj_best 21.516735076904297\n"
     ]
    },
    {
     "name": "stderr",
     "output_type": "stream",
     "text": [
      " 10%|███████▉                                                                         | 49/500 [01:09<10:35,  1.41s/it]"
     ]
    },
    {
     "name": "stdout",
     "output_type": "stream",
     "text": [
      "obj 21.513622283935547 weight nnz 6523/735650 (0.0089) obj_best 21.513622283935547\n"
     ]
    },
    {
     "name": "stderr",
     "output_type": "stream",
     "text": [
      " 10%|████████                                                                         | 50/500 [01:10<10:31,  1.40s/it]"
     ]
    },
    {
     "name": "stdout",
     "output_type": "stream",
     "text": [
      "obj 21.51073455810547 weight nnz 6468/735650 (0.0088) obj_best 21.51073455810547\n"
     ]
    },
    {
     "name": "stderr",
     "output_type": "stream",
     "text": [
      " 10%|████████▎                                                                        | 51/500 [01:12<10:29,  1.40s/it]"
     ]
    },
    {
     "name": "stdout",
     "output_type": "stream",
     "text": [
      "obj 21.507877349853516 weight nnz 6402/735650 (0.0087) obj_best 21.507877349853516\n"
     ]
    },
    {
     "name": "stderr",
     "output_type": "stream",
     "text": [
      " 10%|████████▍                                                                        | 52/500 [01:13<10:43,  1.44s/it]"
     ]
    },
    {
     "name": "stdout",
     "output_type": "stream",
     "text": [
      "obj 21.50523567199707 weight nnz 6348/735650 (0.0086) obj_best 21.50523567199707\n"
     ]
    },
    {
     "name": "stderr",
     "output_type": "stream",
     "text": [
      " 11%|████████▌                                                                        | 53/500 [01:15<10:41,  1.43s/it]"
     ]
    },
    {
     "name": "stdout",
     "output_type": "stream",
     "text": [
      "obj 21.502647399902344 weight nnz 6300/735650 (0.0086) obj_best 21.502647399902344\n"
     ]
    },
    {
     "name": "stderr",
     "output_type": "stream",
     "text": [
      " 11%|████████▋                                                                        | 54/500 [01:16<10:30,  1.41s/it]"
     ]
    },
    {
     "name": "stdout",
     "output_type": "stream",
     "text": [
      "obj 21.500194549560547 weight nnz 6242/735650 (0.0085) obj_best 21.500194549560547\n"
     ]
    },
    {
     "name": "stderr",
     "output_type": "stream",
     "text": [
      " 11%|████████▉                                                                        | 55/500 [01:17<10:22,  1.40s/it]"
     ]
    },
    {
     "name": "stdout",
     "output_type": "stream",
     "text": [
      "obj 21.497804641723633 weight nnz 6202/735650 (0.0084) obj_best 21.497804641723633\n"
     ]
    },
    {
     "name": "stderr",
     "output_type": "stream",
     "text": [
      " 11%|█████████                                                                        | 56/500 [01:19<10:19,  1.40s/it]"
     ]
    },
    {
     "name": "stdout",
     "output_type": "stream",
     "text": [
      "obj 21.49553871154785 weight nnz 6156/735650 (0.0084) obj_best 21.49553871154785\n"
     ]
    },
    {
     "name": "stderr",
     "output_type": "stream",
     "text": [
      " 11%|█████████▏                                                                       | 57/500 [01:20<10:16,  1.39s/it]"
     ]
    },
    {
     "name": "stdout",
     "output_type": "stream",
     "text": [
      "obj 21.49336051940918 weight nnz 6097/735650 (0.0083) obj_best 21.49336051940918\n"
     ]
    },
    {
     "name": "stderr",
     "output_type": "stream",
     "text": [
      " 12%|█████████▍                                                                       | 58/500 [01:21<10:16,  1.39s/it]"
     ]
    },
    {
     "name": "stdout",
     "output_type": "stream",
     "text": [
      "obj 21.49125099182129 weight nnz 6060/735650 (0.0082) obj_best 21.49125099182129\n"
     ]
    },
    {
     "name": "stderr",
     "output_type": "stream",
     "text": [
      " 12%|█████████▌                                                                       | 59/500 [01:23<10:30,  1.43s/it]"
     ]
    },
    {
     "name": "stdout",
     "output_type": "stream",
     "text": [
      "obj 21.48919677734375 weight nnz 6017/735650 (0.0082) obj_best 21.48919677734375\n"
     ]
    },
    {
     "name": "stderr",
     "output_type": "stream",
     "text": [
      " 12%|█████████▋                                                                       | 60/500 [01:24<10:28,  1.43s/it]"
     ]
    },
    {
     "name": "stdout",
     "output_type": "stream",
     "text": [
      "obj 21.487234115600586 weight nnz 5985/735650 (0.0081) obj_best 21.487234115600586\n"
     ]
    },
    {
     "name": "stderr",
     "output_type": "stream",
     "text": [
      " 12%|█████████▉                                                                       | 61/500 [01:26<10:22,  1.42s/it]"
     ]
    },
    {
     "name": "stdout",
     "output_type": "stream",
     "text": [
      "obj 21.48533058166504 weight nnz 5943/735650 (0.0081) obj_best 21.48533058166504\n"
     ]
    },
    {
     "name": "stderr",
     "output_type": "stream",
     "text": [
      " 12%|██████████                                                                       | 62/500 [01:27<10:14,  1.40s/it]"
     ]
    },
    {
     "name": "stdout",
     "output_type": "stream",
     "text": [
      "obj 21.483562469482422 weight nnz 5899/735650 (0.0080) obj_best 21.483562469482422\n"
     ]
    },
    {
     "name": "stderr",
     "output_type": "stream",
     "text": [
      " 13%|██████████▏                                                                      | 63/500 [01:29<10:35,  1.45s/it]"
     ]
    },
    {
     "name": "stdout",
     "output_type": "stream",
     "text": [
      "obj 21.481840133666992 weight nnz 5865/735650 (0.0080) obj_best 21.481840133666992\n"
     ]
    },
    {
     "name": "stderr",
     "output_type": "stream",
     "text": [
      " 13%|██████████▎                                                                      | 64/500 [01:30<10:29,  1.44s/it]"
     ]
    },
    {
     "name": "stdout",
     "output_type": "stream",
     "text": [
      "obj 21.48013687133789 weight nnz 5832/735650 (0.0079) obj_best 21.48013687133789\n"
     ]
    },
    {
     "name": "stderr",
     "output_type": "stream",
     "text": [
      " 13%|██████████▌                                                                      | 65/500 [01:32<10:23,  1.43s/it]"
     ]
    },
    {
     "name": "stdout",
     "output_type": "stream",
     "text": [
      "obj 21.478513717651367 weight nnz 5804/735650 (0.0079) obj_best 21.478513717651367\n"
     ]
    },
    {
     "name": "stderr",
     "output_type": "stream",
     "text": [
      " 13%|██████████▋                                                                      | 66/500 [01:33<10:22,  1.43s/it]"
     ]
    },
    {
     "name": "stdout",
     "output_type": "stream",
     "text": [
      "obj 21.476938247680664 weight nnz 5763/735650 (0.0078) obj_best 21.476938247680664\n"
     ]
    },
    {
     "name": "stderr",
     "output_type": "stream",
     "text": [
      " 13%|██████████▊                                                                      | 67/500 [01:34<10:16,  1.42s/it]"
     ]
    },
    {
     "name": "stdout",
     "output_type": "stream",
     "text": [
      "obj 21.475454330444336 weight nnz 5729/735650 (0.0078) obj_best 21.475454330444336\n"
     ]
    },
    {
     "name": "stderr",
     "output_type": "stream",
     "text": [
      " 14%|███████████                                                                      | 68/500 [01:36<10:09,  1.41s/it]"
     ]
    },
    {
     "name": "stdout",
     "output_type": "stream",
     "text": [
      "obj 21.47396469116211 weight nnz 5702/735650 (0.0078) obj_best 21.47396469116211\n"
     ]
    },
    {
     "name": "stderr",
     "output_type": "stream",
     "text": [
      " 14%|███████████▏                                                                     | 69/500 [01:37<10:07,  1.41s/it]"
     ]
    },
    {
     "name": "stdout",
     "output_type": "stream",
     "text": [
      "obj 21.472553253173828 weight nnz 5656/735650 (0.0077) obj_best 21.472553253173828\n"
     ]
    },
    {
     "name": "stderr",
     "output_type": "stream",
     "text": [
      " 14%|███████████▎                                                                     | 70/500 [01:39<10:13,  1.43s/it]"
     ]
    },
    {
     "name": "stdout",
     "output_type": "stream",
     "text": [
      "obj 21.471208572387695 weight nnz 5621/735650 (0.0076) obj_best 21.471208572387695\n"
     ]
    },
    {
     "name": "stderr",
     "output_type": "stream",
     "text": [
      " 14%|███████████▌                                                                     | 71/500 [01:40<10:09,  1.42s/it]"
     ]
    },
    {
     "name": "stdout",
     "output_type": "stream",
     "text": [
      "obj 21.46987533569336 weight nnz 5591/735650 (0.0076) obj_best 21.46987533569336\n"
     ]
    },
    {
     "name": "stderr",
     "output_type": "stream",
     "text": [
      " 14%|███████████▋                                                                     | 72/500 [01:42<10:07,  1.42s/it]"
     ]
    },
    {
     "name": "stdout",
     "output_type": "stream",
     "text": [
      "obj 21.468589782714844 weight nnz 5559/735650 (0.0076) obj_best 21.468589782714844\n"
     ]
    },
    {
     "name": "stderr",
     "output_type": "stream",
     "text": [
      " 15%|███████████▊                                                                     | 73/500 [01:43<10:05,  1.42s/it]"
     ]
    },
    {
     "name": "stdout",
     "output_type": "stream",
     "text": [
      "obj 21.46735954284668 weight nnz 5531/735650 (0.0075) obj_best 21.46735954284668\n"
     ]
    },
    {
     "name": "stderr",
     "output_type": "stream",
     "text": [
      " 15%|███████████▉                                                                     | 74/500 [01:44<10:16,  1.45s/it]"
     ]
    },
    {
     "name": "stdout",
     "output_type": "stream",
     "text": [
      "obj 21.466167449951172 weight nnz 5507/735650 (0.0075) obj_best 21.466167449951172\n"
     ]
    },
    {
     "name": "stderr",
     "output_type": "stream",
     "text": [
      " 15%|████████████▏                                                                    | 75/500 [01:46<10:07,  1.43s/it]"
     ]
    },
    {
     "name": "stdout",
     "output_type": "stream",
     "text": [
      "obj 21.464962005615234 weight nnz 5481/735650 (0.0075) obj_best 21.464962005615234\n"
     ]
    },
    {
     "name": "stderr",
     "output_type": "stream",
     "text": [
      " 15%|████████████▎                                                                    | 76/500 [01:47<09:59,  1.41s/it]"
     ]
    },
    {
     "name": "stdout",
     "output_type": "stream",
     "text": [
      "obj 21.46383285522461 weight nnz 5463/735650 (0.0074) obj_best 21.46383285522461\n"
     ]
    },
    {
     "name": "stderr",
     "output_type": "stream",
     "text": [
      " 15%|████████████▍                                                                    | 77/500 [01:49<10:00,  1.42s/it]"
     ]
    },
    {
     "name": "stdout",
     "output_type": "stream",
     "text": [
      "obj 21.46272850036621 weight nnz 5446/735650 (0.0074) obj_best 21.46272850036621\n"
     ]
    },
    {
     "name": "stderr",
     "output_type": "stream",
     "text": [
      " 16%|████████████▋                                                                    | 78/500 [01:50<09:51,  1.40s/it]"
     ]
    },
    {
     "name": "stdout",
     "output_type": "stream",
     "text": [
      "obj 21.461641311645508 weight nnz 5424/735650 (0.0074) obj_best 21.461641311645508\n"
     ]
    },
    {
     "name": "stderr",
     "output_type": "stream",
     "text": [
      " 16%|████████████▊                                                                    | 79/500 [01:51<09:49,  1.40s/it]"
     ]
    },
    {
     "name": "stdout",
     "output_type": "stream",
     "text": [
      "obj 21.46059799194336 weight nnz 5402/735650 (0.0073) obj_best 21.46059799194336\n"
     ]
    },
    {
     "name": "stderr",
     "output_type": "stream",
     "text": [
      " 16%|████████████▉                                                                    | 80/500 [01:53<09:52,  1.41s/it]"
     ]
    },
    {
     "name": "stdout",
     "output_type": "stream",
     "text": [
      "obj 21.459617614746094 weight nnz 5372/735650 (0.0073) obj_best 21.459617614746094\n"
     ]
    },
    {
     "name": "stderr",
     "output_type": "stream",
     "text": [
      " 16%|█████████████                                                                    | 81/500 [01:54<10:08,  1.45s/it]"
     ]
    },
    {
     "name": "stdout",
     "output_type": "stream",
     "text": [
      "obj 21.458637237548828 weight nnz 5350/735650 (0.0073) obj_best 21.458637237548828\n"
     ]
    },
    {
     "name": "stderr",
     "output_type": "stream",
     "text": [
      " 16%|█████████████▎                                                                   | 82/500 [01:56<09:59,  1.43s/it]"
     ]
    },
    {
     "name": "stdout",
     "output_type": "stream",
     "text": [
      "obj 21.457691192626953 weight nnz 5325/735650 (0.0072) obj_best 21.457691192626953\n"
     ]
    },
    {
     "name": "stderr",
     "output_type": "stream",
     "text": [
      " 17%|█████████████▍                                                                   | 83/500 [01:57<09:51,  1.42s/it]"
     ]
    },
    {
     "name": "stdout",
     "output_type": "stream",
     "text": [
      "obj 21.45675277709961 weight nnz 5312/735650 (0.0072) obj_best 21.45675277709961\n"
     ]
    },
    {
     "name": "stderr",
     "output_type": "stream",
     "text": [
      " 17%|█████████████▌                                                                   | 84/500 [01:59<09:44,  1.41s/it]"
     ]
    },
    {
     "name": "stdout",
     "output_type": "stream",
     "text": [
      "obj 21.45585060119629 weight nnz 5300/735650 (0.0072) obj_best 21.45585060119629\n"
     ]
    },
    {
     "name": "stderr",
     "output_type": "stream",
     "text": [
      " 17%|█████████████▊                                                                   | 85/500 [02:00<09:52,  1.43s/it]"
     ]
    },
    {
     "name": "stdout",
     "output_type": "stream",
     "text": [
      "obj 21.454994201660156 weight nnz 5274/735650 (0.0072) obj_best 21.454994201660156\n"
     ]
    },
    {
     "name": "stderr",
     "output_type": "stream",
     "text": [
      " 17%|█████████████▉                                                                   | 86/500 [02:01<09:45,  1.42s/it]"
     ]
    },
    {
     "name": "stdout",
     "output_type": "stream",
     "text": [
      "obj 21.454143524169922 weight nnz 5236/735650 (0.0071) obj_best 21.454143524169922\n"
     ]
    },
    {
     "name": "stderr",
     "output_type": "stream",
     "text": [
      " 17%|██████████████                                                                   | 87/500 [02:03<09:42,  1.41s/it]"
     ]
    },
    {
     "name": "stdout",
     "output_type": "stream",
     "text": [
      "obj 21.453338623046875 weight nnz 5218/735650 (0.0071) obj_best 21.453338623046875\n"
     ]
    },
    {
     "name": "stderr",
     "output_type": "stream",
     "text": [
      " 18%|██████████████▎                                                                  | 88/500 [02:04<09:42,  1.41s/it]"
     ]
    },
    {
     "name": "stdout",
     "output_type": "stream",
     "text": [
      "obj 21.45250701904297 weight nnz 5196/735650 (0.0071) obj_best 21.45250701904297\n"
     ]
    },
    {
     "name": "stderr",
     "output_type": "stream",
     "text": [
      " 18%|██████████████▍                                                                  | 89/500 [02:06<09:38,  1.41s/it]"
     ]
    },
    {
     "name": "stdout",
     "output_type": "stream",
     "text": [
      "obj 21.451738357543945 weight nnz 5170/735650 (0.0070) obj_best 21.451738357543945\n"
     ]
    },
    {
     "name": "stderr",
     "output_type": "stream",
     "text": [
      " 18%|██████████████▌                                                                  | 90/500 [02:07<09:35,  1.40s/it]"
     ]
    },
    {
     "name": "stdout",
     "output_type": "stream",
     "text": [
      "obj 21.450977325439453 weight nnz 5158/735650 (0.0070) obj_best 21.450977325439453\n"
     ]
    },
    {
     "name": "stderr",
     "output_type": "stream",
     "text": [
      " 18%|██████████████▋                                                                  | 91/500 [02:08<09:34,  1.40s/it]"
     ]
    },
    {
     "name": "stdout",
     "output_type": "stream",
     "text": [
      "obj 21.450212478637695 weight nnz 5141/735650 (0.0070) obj_best 21.450212478637695\n"
     ]
    },
    {
     "name": "stderr",
     "output_type": "stream",
     "text": [
      " 18%|██████████████▉                                                                  | 92/500 [02:10<09:42,  1.43s/it]"
     ]
    },
    {
     "name": "stdout",
     "output_type": "stream",
     "text": [
      "obj 21.449522018432617 weight nnz 5124/735650 (0.0070) obj_best 21.449522018432617\n"
     ]
    },
    {
     "name": "stderr",
     "output_type": "stream",
     "text": [
      " 19%|███████████████                                                                  | 93/500 [02:11<09:37,  1.42s/it]"
     ]
    },
    {
     "name": "stdout",
     "output_type": "stream",
     "text": [
      "obj 21.448823928833008 weight nnz 5104/735650 (0.0069) obj_best 21.448823928833008\n"
     ]
    },
    {
     "name": "stderr",
     "output_type": "stream",
     "text": [
      " 19%|███████████████▏                                                                 | 94/500 [02:13<09:35,  1.42s/it]"
     ]
    },
    {
     "name": "stdout",
     "output_type": "stream",
     "text": [
      "obj 21.4481201171875 weight nnz 5087/735650 (0.0069) obj_best 21.4481201171875\n"
     ]
    },
    {
     "name": "stderr",
     "output_type": "stream",
     "text": [
      " 19%|███████████████▍                                                                 | 95/500 [02:14<09:39,  1.43s/it]"
     ]
    },
    {
     "name": "stdout",
     "output_type": "stream",
     "text": [
      "obj 21.447467803955078 weight nnz 5070/735650 (0.0069) obj_best 21.447467803955078\n"
     ]
    },
    {
     "name": "stderr",
     "output_type": "stream",
     "text": [
      " 19%|███████████████▌                                                                 | 96/500 [02:16<09:50,  1.46s/it]"
     ]
    },
    {
     "name": "stdout",
     "output_type": "stream",
     "text": [
      "obj 21.446813583374023 weight nnz 5054/735650 (0.0069) obj_best 21.446813583374023\n"
     ]
    },
    {
     "name": "stderr",
     "output_type": "stream",
     "text": [
      " 19%|███████████████▋                                                                 | 97/500 [02:17<09:39,  1.44s/it]"
     ]
    },
    {
     "name": "stdout",
     "output_type": "stream",
     "text": [
      "obj 21.446178436279297 weight nnz 5041/735650 (0.0069) obj_best 21.446178436279297\n"
     ]
    },
    {
     "name": "stderr",
     "output_type": "stream",
     "text": [
      " 20%|███████████████▉                                                                 | 98/500 [02:18<09:30,  1.42s/it]"
     ]
    },
    {
     "name": "stdout",
     "output_type": "stream",
     "text": [
      "obj 21.4455509185791 weight nnz 5027/735650 (0.0068) obj_best 21.4455509185791\n"
     ]
    },
    {
     "name": "stderr",
     "output_type": "stream",
     "text": [
      " 20%|████████████████                                                                 | 99/500 [02:20<09:21,  1.40s/it]"
     ]
    },
    {
     "name": "stdout",
     "output_type": "stream",
     "text": [
      "obj 21.444969177246094 weight nnz 5007/735650 (0.0068) obj_best 21.444969177246094\n"
     ]
    },
    {
     "name": "stderr",
     "output_type": "stream",
     "text": [
      " 20%|████████████████                                                                | 100/500 [02:21<09:21,  1.40s/it]"
     ]
    },
    {
     "name": "stdout",
     "output_type": "stream",
     "text": [
      "obj 21.444387435913086 weight nnz 4995/735650 (0.0068) obj_best 21.444387435913086\n"
     ]
    },
    {
     "name": "stderr",
     "output_type": "stream",
     "text": [
      " 20%|████████████████▏                                                               | 101/500 [02:23<09:22,  1.41s/it]"
     ]
    },
    {
     "name": "stdout",
     "output_type": "stream",
     "text": [
      "obj 21.44380760192871 weight nnz 4978/735650 (0.0068) obj_best 21.44380760192871\n"
     ]
    },
    {
     "name": "stderr",
     "output_type": "stream",
     "text": [
      " 20%|████████████████▎                                                               | 102/500 [02:24<09:19,  1.41s/it]"
     ]
    },
    {
     "name": "stdout",
     "output_type": "stream",
     "text": [
      "obj 21.443260192871094 weight nnz 4965/735650 (0.0067) obj_best 21.443260192871094\n"
     ]
    },
    {
     "name": "stderr",
     "output_type": "stream",
     "text": [
      " 21%|████████████████▍                                                               | 103/500 [02:26<09:34,  1.45s/it]"
     ]
    },
    {
     "name": "stdout",
     "output_type": "stream",
     "text": [
      "obj 21.44271469116211 weight nnz 4949/735650 (0.0067) obj_best 21.44271469116211\n"
     ]
    },
    {
     "name": "stderr",
     "output_type": "stream",
     "text": [
      " 21%|████████████████▋                                                               | 104/500 [02:27<09:23,  1.42s/it]"
     ]
    },
    {
     "name": "stdout",
     "output_type": "stream",
     "text": [
      "obj 21.44219398498535 weight nnz 4935/735650 (0.0067) obj_best 21.44219398498535\n"
     ]
    },
    {
     "name": "stderr",
     "output_type": "stream",
     "text": [
      " 21%|████████████████▊                                                               | 105/500 [02:28<09:16,  1.41s/it]"
     ]
    },
    {
     "name": "stdout",
     "output_type": "stream",
     "text": [
      "obj 21.441688537597656 weight nnz 4919/735650 (0.0067) obj_best 21.441688537597656\n"
     ]
    },
    {
     "name": "stderr",
     "output_type": "stream",
     "text": [
      " 21%|████████████████▉                                                               | 106/500 [02:30<09:20,  1.42s/it]"
     ]
    },
    {
     "name": "stdout",
     "output_type": "stream",
     "text": [
      "obj 21.44118309020996 weight nnz 4906/735650 (0.0067) obj_best 21.44118309020996\n"
     ]
    },
    {
     "name": "stderr",
     "output_type": "stream",
     "text": [
      " 21%|█████████████████                                                               | 107/500 [02:31<09:24,  1.44s/it]"
     ]
    },
    {
     "name": "stdout",
     "output_type": "stream",
     "text": [
      "obj 21.44069480895996 weight nnz 4891/735650 (0.0066) obj_best 21.44069480895996\n"
     ]
    },
    {
     "name": "stderr",
     "output_type": "stream",
     "text": [
      " 22%|█████████████████▎                                                              | 108/500 [02:33<09:19,  1.43s/it]"
     ]
    },
    {
     "name": "stdout",
     "output_type": "stream",
     "text": [
      "obj 21.440214157104492 weight nnz 4880/735650 (0.0066) obj_best 21.440214157104492\n"
     ]
    },
    {
     "name": "stderr",
     "output_type": "stream",
     "text": [
      " 22%|█████████████████▍                                                              | 109/500 [02:34<09:14,  1.42s/it]"
     ]
    },
    {
     "name": "stdout",
     "output_type": "stream",
     "text": [
      "obj 21.439743041992188 weight nnz 4862/735650 (0.0066) obj_best 21.439743041992188\n"
     ]
    },
    {
     "name": "stderr",
     "output_type": "stream",
     "text": [
      " 22%|█████████████████▌                                                              | 110/500 [02:35<09:10,  1.41s/it]"
     ]
    },
    {
     "name": "stdout",
     "output_type": "stream",
     "text": [
      "obj 21.43929100036621 weight nnz 4847/735650 (0.0066) obj_best 21.43929100036621\n"
     ]
    },
    {
     "name": "stderr",
     "output_type": "stream",
     "text": [
      " 22%|█████████████████▊                                                              | 111/500 [02:37<09:07,  1.41s/it]"
     ]
    },
    {
     "name": "stdout",
     "output_type": "stream",
     "text": [
      "obj 21.438852310180664 weight nnz 4830/735650 (0.0066) obj_best 21.438852310180664\n"
     ]
    },
    {
     "name": "stderr",
     "output_type": "stream",
     "text": [
      " 22%|█████████████████▉                                                              | 112/500 [02:38<09:02,  1.40s/it]"
     ]
    },
    {
     "name": "stdout",
     "output_type": "stream",
     "text": [
      "obj 21.438432693481445 weight nnz 4821/735650 (0.0066) obj_best 21.438432693481445\n"
     ]
    },
    {
     "name": "stderr",
     "output_type": "stream",
     "text": [
      " 23%|██████████████████                                                              | 113/500 [02:40<08:57,  1.39s/it]"
     ]
    },
    {
     "name": "stdout",
     "output_type": "stream",
     "text": [
      "obj 21.438013076782227 weight nnz 4809/735650 (0.0065) obj_best 21.438013076782227\n"
     ]
    },
    {
     "name": "stderr",
     "output_type": "stream",
     "text": [
      " 23%|██████████████████▏                                                             | 114/500 [02:41<08:55,  1.39s/it]"
     ]
    },
    {
     "name": "stdout",
     "output_type": "stream",
     "text": [
      "obj 21.437589645385742 weight nnz 4800/735650 (0.0065) obj_best 21.437589645385742\n"
     ]
    },
    {
     "name": "stderr",
     "output_type": "stream",
     "text": [
      " 23%|██████████████████▍                                                             | 115/500 [02:42<09:08,  1.42s/it]"
     ]
    },
    {
     "name": "stdout",
     "output_type": "stream",
     "text": [
      "obj 21.437179565429688 weight nnz 4787/735650 (0.0065) obj_best 21.437179565429688\n"
     ]
    },
    {
     "name": "stderr",
     "output_type": "stream",
     "text": [
      " 23%|██████████████████▌                                                             | 116/500 [02:44<09:06,  1.42s/it]"
     ]
    },
    {
     "name": "stdout",
     "output_type": "stream",
     "text": [
      "obj 21.436792373657227 weight nnz 4777/735650 (0.0065) obj_best 21.436792373657227\n"
     ]
    },
    {
     "name": "stderr",
     "output_type": "stream",
     "text": [
      " 23%|██████████████████▋                                                             | 117/500 [02:45<09:02,  1.42s/it]"
     ]
    },
    {
     "name": "stdout",
     "output_type": "stream",
     "text": [
      "obj 21.4364070892334 weight nnz 4764/735650 (0.0065) obj_best 21.4364070892334\n"
     ]
    },
    {
     "name": "stderr",
     "output_type": "stream",
     "text": [
      " 24%|██████████████████▉                                                             | 118/500 [02:47<09:12,  1.45s/it]"
     ]
    },
    {
     "name": "stdout",
     "output_type": "stream",
     "text": [
      "obj 21.43603515625 weight nnz 4758/735650 (0.0065) obj_best 21.43603515625\n"
     ]
    },
    {
     "name": "stderr",
     "output_type": "stream",
     "text": [
      " 24%|███████████████████                                                             | 119/500 [02:48<09:01,  1.42s/it]"
     ]
    },
    {
     "name": "stdout",
     "output_type": "stream",
     "text": [
      "obj 21.435651779174805 weight nnz 4754/735650 (0.0065) obj_best 21.435651779174805\n"
     ]
    },
    {
     "name": "stderr",
     "output_type": "stream",
     "text": [
      " 24%|███████████████████▏                                                            | 120/500 [02:50<08:57,  1.42s/it]"
     ]
    },
    {
     "name": "stdout",
     "output_type": "stream",
     "text": [
      "obj 21.43528938293457 weight nnz 4745/735650 (0.0065) obj_best 21.43528938293457\n"
     ]
    },
    {
     "name": "stderr",
     "output_type": "stream",
     "text": [
      " 24%|███████████████████▎                                                            | 121/500 [02:51<08:52,  1.40s/it]"
     ]
    },
    {
     "name": "stdout",
     "output_type": "stream",
     "text": [
      "obj 21.434947967529297 weight nnz 4735/735650 (0.0064) obj_best 21.434947967529297\n"
     ]
    },
    {
     "name": "stderr",
     "output_type": "stream",
     "text": [
      " 24%|███████████████████▌                                                            | 122/500 [02:52<08:49,  1.40s/it]"
     ]
    },
    {
     "name": "stdout",
     "output_type": "stream",
     "text": [
      "obj 21.434593200683594 weight nnz 4726/735650 (0.0064) obj_best 21.434593200683594\n"
     ]
    },
    {
     "name": "stderr",
     "output_type": "stream",
     "text": [
      " 25%|███████████████████▋                                                            | 123/500 [02:54<08:47,  1.40s/it]"
     ]
    },
    {
     "name": "stdout",
     "output_type": "stream",
     "text": [
      "obj 21.434253692626953 weight nnz 4720/735650 (0.0064) obj_best 21.434253692626953\n"
     ]
    },
    {
     "name": "stderr",
     "output_type": "stream",
     "text": [
      " 25%|███████████████████▊                                                            | 124/500 [02:55<08:47,  1.40s/it]"
     ]
    },
    {
     "name": "stdout",
     "output_type": "stream",
     "text": [
      "obj 21.433917999267578 weight nnz 4718/735650 (0.0064) obj_best 21.433917999267578\n"
     ]
    },
    {
     "name": "stderr",
     "output_type": "stream",
     "text": [
      " 25%|████████████████████                                                            | 125/500 [02:57<08:46,  1.40s/it]"
     ]
    },
    {
     "name": "stdout",
     "output_type": "stream",
     "text": [
      "obj 21.433595657348633 weight nnz 4705/735650 (0.0064) obj_best 21.433595657348633\n"
     ]
    },
    {
     "name": "stderr",
     "output_type": "stream",
     "text": [
      " 25%|████████████████████▏                                                           | 126/500 [02:58<08:52,  1.42s/it]"
     ]
    },
    {
     "name": "stdout",
     "output_type": "stream",
     "text": [
      "obj 21.43328285217285 weight nnz 4696/735650 (0.0064) obj_best 21.43328285217285\n"
     ]
    },
    {
     "name": "stderr",
     "output_type": "stream",
     "text": [
      " 25%|████████████████████▎                                                           | 127/500 [02:59<08:44,  1.41s/it]"
     ]
    },
    {
     "name": "stdout",
     "output_type": "stream",
     "text": [
      "obj 21.432968139648438 weight nnz 4692/735650 (0.0064) obj_best 21.432968139648438\n"
     ]
    },
    {
     "name": "stderr",
     "output_type": "stream",
     "text": [
      " 26%|████████████████████▍                                                           | 128/500 [03:01<08:38,  1.40s/it]"
     ]
    },
    {
     "name": "stdout",
     "output_type": "stream",
     "text": [
      "obj 21.432662963867188 weight nnz 4686/735650 (0.0064) obj_best 21.432662963867188\n"
     ]
    },
    {
     "name": "stderr",
     "output_type": "stream",
     "text": [
      " 26%|████████████████████▋                                                           | 129/500 [03:02<08:36,  1.39s/it]"
     ]
    },
    {
     "name": "stdout",
     "output_type": "stream",
     "text": [
      "obj 21.432363510131836 weight nnz 4678/735650 (0.0064) obj_best 21.432363510131836\n"
     ]
    },
    {
     "name": "stderr",
     "output_type": "stream",
     "text": [
      " 26%|████████████████████▊                                                           | 130/500 [03:04<08:52,  1.44s/it]"
     ]
    },
    {
     "name": "stdout",
     "output_type": "stream",
     "text": [
      "obj 21.43206787109375 weight nnz 4668/735650 (0.0063) obj_best 21.43206787109375\n"
     ]
    },
    {
     "name": "stderr",
     "output_type": "stream",
     "text": [
      " 26%|████████████████████▉                                                           | 131/500 [03:05<08:46,  1.43s/it]"
     ]
    },
    {
     "name": "stdout",
     "output_type": "stream",
     "text": [
      "obj 21.431781768798828 weight nnz 4660/735650 (0.0063) obj_best 21.431781768798828\n"
     ]
    },
    {
     "name": "stderr",
     "output_type": "stream",
     "text": [
      " 26%|█████████████████████                                                           | 132/500 [03:07<08:41,  1.42s/it]"
     ]
    },
    {
     "name": "stdout",
     "output_type": "stream",
     "text": [
      "obj 21.431495666503906 weight nnz 4650/735650 (0.0063) obj_best 21.431495666503906\n"
     ]
    },
    {
     "name": "stderr",
     "output_type": "stream",
     "text": [
      " 27%|█████████████████████▎                                                          | 133/500 [03:08<08:35,  1.40s/it]"
     ]
    },
    {
     "name": "stdout",
     "output_type": "stream",
     "text": [
      "obj 21.43122673034668 weight nnz 4641/735650 (0.0063) obj_best 21.43122673034668\n"
     ]
    },
    {
     "name": "stderr",
     "output_type": "stream",
     "text": [
      " 27%|█████████████████████▍                                                          | 134/500 [03:09<08:29,  1.39s/it]"
     ]
    },
    {
     "name": "stdout",
     "output_type": "stream",
     "text": [
      "obj 21.430950164794922 weight nnz 4637/735650 (0.0063) obj_best 21.430950164794922\n"
     ]
    },
    {
     "name": "stderr",
     "output_type": "stream",
     "text": [
      " 27%|█████████████████████▌                                                          | 135/500 [03:11<08:24,  1.38s/it]"
     ]
    },
    {
     "name": "stdout",
     "output_type": "stream",
     "text": [
      "obj 21.430700302124023 weight nnz 4624/735650 (0.0063) obj_best 21.430700302124023\n"
     ]
    },
    {
     "name": "stderr",
     "output_type": "stream",
     "text": [
      " 27%|█████████████████████▊                                                          | 136/500 [03:12<08:22,  1.38s/it]"
     ]
    },
    {
     "name": "stdout",
     "output_type": "stream",
     "text": [
      "obj 21.430442810058594 weight nnz 4613/735650 (0.0063) obj_best 21.430442810058594\n"
     ]
    },
    {
     "name": "stderr",
     "output_type": "stream",
     "text": [
      " 27%|█████████████████████▉                                                          | 137/500 [03:14<08:36,  1.42s/it]"
     ]
    },
    {
     "name": "stdout",
     "output_type": "stream",
     "text": [
      "obj 21.43019676208496 weight nnz 4603/735650 (0.0063) obj_best 21.43019676208496\n"
     ]
    },
    {
     "name": "stderr",
     "output_type": "stream",
     "text": [
      " 28%|██████████████████████                                                          | 138/500 [03:15<08:34,  1.42s/it]"
     ]
    },
    {
     "name": "stdout",
     "output_type": "stream",
     "text": [
      "obj 21.429956436157227 weight nnz 4592/735650 (0.0062) obj_best 21.429956436157227\n"
     ]
    },
    {
     "name": "stderr",
     "output_type": "stream",
     "text": [
      " 28%|██████████████████████▏                                                         | 139/500 [03:16<08:31,  1.42s/it]"
     ]
    },
    {
     "name": "stdout",
     "output_type": "stream",
     "text": [
      "obj 21.429718017578125 weight nnz 4587/735650 (0.0062) obj_best 21.429718017578125\n"
     ]
    },
    {
     "name": "stderr",
     "output_type": "stream",
     "text": [
      " 28%|██████████████████████▍                                                         | 140/500 [03:18<08:26,  1.41s/it]"
     ]
    },
    {
     "name": "stdout",
     "output_type": "stream",
     "text": [
      "obj 21.42947006225586 weight nnz 4586/735650 (0.0062) obj_best 21.42947006225586\n"
     ]
    },
    {
     "name": "stderr",
     "output_type": "stream",
     "text": [
      " 28%|██████████████████████▌                                                         | 141/500 [03:19<08:33,  1.43s/it]"
     ]
    },
    {
     "name": "stdout",
     "output_type": "stream",
     "text": [
      "obj 21.42923355102539 weight nnz 4582/735650 (0.0062) obj_best 21.42923355102539\n"
     ]
    },
    {
     "name": "stderr",
     "output_type": "stream",
     "text": [
      " 28%|██████████████████████▋                                                         | 142/500 [03:21<08:24,  1.41s/it]"
     ]
    },
    {
     "name": "stdout",
     "output_type": "stream",
     "text": [
      "obj 21.429012298583984 weight nnz 4576/735650 (0.0062) obj_best 21.429012298583984\n"
     ]
    },
    {
     "name": "stderr",
     "output_type": "stream",
     "text": [
      " 29%|██████████████████████▉                                                         | 143/500 [03:22<08:18,  1.40s/it]"
     ]
    },
    {
     "name": "stdout",
     "output_type": "stream",
     "text": [
      "obj 21.42878532409668 weight nnz 4570/735650 (0.0062) obj_best 21.42878532409668\n"
     ]
    },
    {
     "name": "stderr",
     "output_type": "stream",
     "text": [
      " 29%|███████████████████████                                                         | 144/500 [03:23<08:16,  1.39s/it]"
     ]
    },
    {
     "name": "stdout",
     "output_type": "stream",
     "text": [
      "obj 21.42856788635254 weight nnz 4567/735650 (0.0062) obj_best 21.42856788635254\n"
     ]
    },
    {
     "name": "stderr",
     "output_type": "stream",
     "text": [
      " 29%|███████████████████████▏                                                        | 145/500 [03:25<08:17,  1.40s/it]"
     ]
    },
    {
     "name": "stdout",
     "output_type": "stream",
     "text": [
      "obj 21.428354263305664 weight nnz 4561/735650 (0.0062) obj_best 21.428354263305664\n"
     ]
    },
    {
     "name": "stderr",
     "output_type": "stream",
     "text": [
      " 29%|███████████████████████▎                                                        | 146/500 [03:26<08:17,  1.40s/it]"
     ]
    },
    {
     "name": "stdout",
     "output_type": "stream",
     "text": [
      "obj 21.42815399169922 weight nnz 4553/735650 (0.0062) obj_best 21.42815399169922\n"
     ]
    },
    {
     "name": "stderr",
     "output_type": "stream",
     "text": [
      " 29%|███████████████████████▌                                                        | 147/500 [03:28<08:15,  1.41s/it]"
     ]
    },
    {
     "name": "stdout",
     "output_type": "stream",
     "text": [
      "obj 21.427936553955078 weight nnz 4549/735650 (0.0062) obj_best 21.427936553955078\n"
     ]
    },
    {
     "name": "stderr",
     "output_type": "stream",
     "text": [
      " 30%|███████████████████████▋                                                        | 148/500 [03:29<08:21,  1.42s/it]"
     ]
    },
    {
     "name": "stdout",
     "output_type": "stream",
     "text": [
      "obj 21.427738189697266 weight nnz 4546/735650 (0.0062) obj_best 21.427738189697266\n"
     ]
    },
    {
     "name": "stderr",
     "output_type": "stream",
     "text": [
      " 30%|███████████████████████▊                                                        | 149/500 [03:30<08:13,  1.41s/it]"
     ]
    },
    {
     "name": "stdout",
     "output_type": "stream",
     "text": [
      "obj 21.427541732788086 weight nnz 4543/735650 (0.0062) obj_best 21.427541732788086\n"
     ]
    },
    {
     "name": "stderr",
     "output_type": "stream",
     "text": [
      " 30%|████████████████████████                                                        | 150/500 [03:32<08:08,  1.40s/it]"
     ]
    },
    {
     "name": "stdout",
     "output_type": "stream",
     "text": [
      "obj 21.42734718322754 weight nnz 4532/735650 (0.0062) obj_best 21.42734718322754\n"
     ]
    },
    {
     "name": "stderr",
     "output_type": "stream",
     "text": [
      " 30%|████████████████████████▏                                                       | 151/500 [03:33<08:05,  1.39s/it]"
     ]
    },
    {
     "name": "stdout",
     "output_type": "stream",
     "text": [
      "obj 21.427162170410156 weight nnz 4529/735650 (0.0062) obj_best 21.427162170410156\n"
     ]
    },
    {
     "name": "stderr",
     "output_type": "stream",
     "text": [
      " 30%|████████████████████████▎                                                       | 152/500 [03:35<08:20,  1.44s/it]"
     ]
    },
    {
     "name": "stdout",
     "output_type": "stream",
     "text": [
      "obj 21.42696762084961 weight nnz 4522/735650 (0.0061) obj_best 21.42696762084961\n"
     ]
    },
    {
     "name": "stderr",
     "output_type": "stream",
     "text": [
      " 31%|████████████████████████▍                                                       | 153/500 [03:36<08:16,  1.43s/it]"
     ]
    },
    {
     "name": "stdout",
     "output_type": "stream",
     "text": [
      "obj 21.426786422729492 weight nnz 4516/735650 (0.0061) obj_best 21.426786422729492\n"
     ]
    },
    {
     "name": "stderr",
     "output_type": "stream",
     "text": [
      " 31%|████████████████████████▋                                                       | 154/500 [03:38<08:13,  1.43s/it]"
     ]
    },
    {
     "name": "stdout",
     "output_type": "stream",
     "text": [
      "obj 21.426612854003906 weight nnz 4511/735650 (0.0061) obj_best 21.426612854003906\n"
     ]
    },
    {
     "name": "stderr",
     "output_type": "stream",
     "text": [
      " 31%|████████████████████████▊                                                       | 155/500 [03:39<08:05,  1.41s/it]"
     ]
    },
    {
     "name": "stdout",
     "output_type": "stream",
     "text": [
      "obj 21.426441192626953 weight nnz 4506/735650 (0.0061) obj_best 21.426441192626953\n"
     ]
    },
    {
     "name": "stderr",
     "output_type": "stream",
     "text": [
      " 31%|████████████████████████▉                                                       | 156/500 [03:40<08:01,  1.40s/it]"
     ]
    },
    {
     "name": "stdout",
     "output_type": "stream",
     "text": [
      "obj 21.42625617980957 weight nnz 4500/735650 (0.0061) obj_best 21.42625617980957\n"
     ]
    },
    {
     "name": "stderr",
     "output_type": "stream",
     "text": [
      " 31%|█████████████████████████                                                       | 157/500 [03:42<08:00,  1.40s/it]"
     ]
    },
    {
     "name": "stdout",
     "output_type": "stream",
     "text": [
      "obj 21.42607879638672 weight nnz 4496/735650 (0.0061) obj_best 21.42607879638672\n"
     ]
    },
    {
     "name": "stderr",
     "output_type": "stream",
     "text": [
      " 32%|█████████████████████████▎                                                      | 158/500 [03:43<07:58,  1.40s/it]"
     ]
    },
    {
     "name": "stdout",
     "output_type": "stream",
     "text": [
      "obj 21.42591667175293 weight nnz 4488/735650 (0.0061) obj_best 21.42591667175293\n"
     ]
    },
    {
     "name": "stderr",
     "output_type": "stream",
     "text": [
      " 32%|█████████████████████████▍                                                      | 159/500 [03:45<08:08,  1.43s/it]"
     ]
    },
    {
     "name": "stdout",
     "output_type": "stream",
     "text": [
      "obj 21.425756454467773 weight nnz 4481/735650 (0.0061) obj_best 21.425756454467773\n"
     ]
    },
    {
     "name": "stderr",
     "output_type": "stream",
     "text": [
      " 32%|█████████████████████████▌                                                      | 160/500 [03:46<08:03,  1.42s/it]"
     ]
    },
    {
     "name": "stdout",
     "output_type": "stream",
     "text": [
      "obj 21.425600051879883 weight nnz 4474/735650 (0.0061) obj_best 21.425600051879883\n"
     ]
    },
    {
     "name": "stderr",
     "output_type": "stream",
     "text": [
      " 32%|█████████████████████████▊                                                      | 161/500 [03:47<08:02,  1.42s/it]"
     ]
    },
    {
     "name": "stdout",
     "output_type": "stream",
     "text": [
      "obj 21.425434112548828 weight nnz 4466/735650 (0.0061) obj_best 21.425434112548828\n"
     ]
    },
    {
     "name": "stderr",
     "output_type": "stream",
     "text": [
      " 32%|█████████████████████████▉                                                      | 162/500 [03:49<07:55,  1.41s/it]"
     ]
    },
    {
     "name": "stdout",
     "output_type": "stream",
     "text": [
      "obj 21.42528533935547 weight nnz 4459/735650 (0.0061) obj_best 21.42528533935547\n"
     ]
    },
    {
     "name": "stderr",
     "output_type": "stream",
     "text": [
      " 33%|██████████████████████████                                                      | 163/500 [03:50<08:00,  1.43s/it]"
     ]
    },
    {
     "name": "stdout",
     "output_type": "stream",
     "text": [
      "obj 21.42513084411621 weight nnz 4454/735650 (0.0061) obj_best 21.42513084411621\n"
     ]
    },
    {
     "name": "stderr",
     "output_type": "stream",
     "text": [
      " 33%|██████████████████████████▏                                                     | 164/500 [03:52<07:58,  1.43s/it]"
     ]
    },
    {
     "name": "stdout",
     "output_type": "stream",
     "text": [
      "obj 21.424985885620117 weight nnz 4448/735650 (0.0060) obj_best 21.424985885620117\n"
     ]
    },
    {
     "name": "stderr",
     "output_type": "stream",
     "text": [
      " 33%|██████████████████████████▍                                                     | 165/500 [03:53<07:51,  1.41s/it]"
     ]
    },
    {
     "name": "stdout",
     "output_type": "stream",
     "text": [
      "obj 21.424827575683594 weight nnz 4445/735650 (0.0060) obj_best 21.424827575683594\n"
     ]
    },
    {
     "name": "stderr",
     "output_type": "stream",
     "text": [
      " 33%|██████████████████████████▌                                                     | 166/500 [03:54<07:49,  1.41s/it]"
     ]
    },
    {
     "name": "stdout",
     "output_type": "stream",
     "text": [
      "obj 21.4246883392334 weight nnz 4436/735650 (0.0060) obj_best 21.4246883392334\n"
     ]
    },
    {
     "name": "stderr",
     "output_type": "stream",
     "text": [
      " 33%|██████████████████████████▋                                                     | 167/500 [03:56<07:49,  1.41s/it]"
     ]
    },
    {
     "name": "stdout",
     "output_type": "stream",
     "text": [
      "obj 21.424549102783203 weight nnz 4427/735650 (0.0060) obj_best 21.424549102783203\n"
     ]
    },
    {
     "name": "stderr",
     "output_type": "stream",
     "text": [
      " 34%|██████████████████████████▉                                                     | 168/500 [03:57<07:46,  1.41s/it]"
     ]
    },
    {
     "name": "stdout",
     "output_type": "stream",
     "text": [
      "obj 21.424413681030273 weight nnz 4421/735650 (0.0060) obj_best 21.424413681030273\n"
     ]
    },
    {
     "name": "stderr",
     "output_type": "stream",
     "text": [
      " 34%|███████████████████████████                                                     | 169/500 [03:59<07:43,  1.40s/it]"
     ]
    },
    {
     "name": "stdout",
     "output_type": "stream",
     "text": [
      "obj 21.424272537231445 weight nnz 4417/735650 (0.0060) obj_best 21.424272537231445\n"
     ]
    },
    {
     "name": "stderr",
     "output_type": "stream",
     "text": [
      " 34%|███████████████████████████▏                                                    | 170/500 [04:00<07:49,  1.42s/it]"
     ]
    },
    {
     "name": "stdout",
     "output_type": "stream",
     "text": [
      "obj 21.42414093017578 weight nnz 4412/735650 (0.0060) obj_best 21.42414093017578\n"
     ]
    },
    {
     "name": "stderr",
     "output_type": "stream",
     "text": [
      " 34%|███████████████████████████▎                                                    | 171/500 [04:01<07:44,  1.41s/it]"
     ]
    },
    {
     "name": "stdout",
     "output_type": "stream",
     "text": [
      "obj 21.42399787902832 weight nnz 4407/735650 (0.0060) obj_best 21.42399787902832\n"
     ]
    },
    {
     "name": "stderr",
     "output_type": "stream",
     "text": [
      " 34%|███████████████████████████▌                                                    | 172/500 [04:03<07:39,  1.40s/it]"
     ]
    },
    {
     "name": "stdout",
     "output_type": "stream",
     "text": [
      "obj 21.42386817932129 weight nnz 4405/735650 (0.0060) obj_best 21.42386817932129\n"
     ]
    },
    {
     "name": "stderr",
     "output_type": "stream",
     "text": [
      " 35%|███████████████████████████▋                                                    | 173/500 [04:04<07:38,  1.40s/it]"
     ]
    },
    {
     "name": "stdout",
     "output_type": "stream",
     "text": [
      "obj 21.423744201660156 weight nnz 4400/735650 (0.0060) obj_best 21.423744201660156\n"
     ]
    },
    {
     "name": "stderr",
     "output_type": "stream",
     "text": [
      " 35%|███████████████████████████▊                                                    | 174/500 [04:06<07:47,  1.43s/it]"
     ]
    },
    {
     "name": "stdout",
     "output_type": "stream",
     "text": [
      "obj 21.423612594604492 weight nnz 4389/735650 (0.0060) obj_best 21.423612594604492\n"
     ]
    },
    {
     "name": "stderr",
     "output_type": "stream",
     "text": [
      " 35%|████████████████████████████                                                    | 175/500 [04:07<07:45,  1.43s/it]"
     ]
    },
    {
     "name": "stdout",
     "output_type": "stream",
     "text": [
      "obj 21.423492431640625 weight nnz 4388/735650 (0.0060) obj_best 21.423492431640625\n"
     ]
    },
    {
     "name": "stderr",
     "output_type": "stream",
     "text": [
      " 35%|████████████████████████████▏                                                   | 176/500 [04:09<07:41,  1.42s/it]"
     ]
    },
    {
     "name": "stdout",
     "output_type": "stream",
     "text": [
      "obj 21.423372268676758 weight nnz 4384/735650 (0.0060) obj_best 21.423372268676758\n"
     ]
    },
    {
     "name": "stderr",
     "output_type": "stream",
     "text": [
      " 35%|████████████████████████████▎                                                   | 177/500 [04:10<07:33,  1.41s/it]"
     ]
    },
    {
     "name": "stdout",
     "output_type": "stream",
     "text": [
      "obj 21.42325210571289 weight nnz 4383/735650 (0.0060) obj_best 21.42325210571289\n"
     ]
    },
    {
     "name": "stderr",
     "output_type": "stream",
     "text": [
      " 36%|████████████████████████████▍                                                   | 178/500 [04:11<07:30,  1.40s/it]"
     ]
    },
    {
     "name": "stdout",
     "output_type": "stream",
     "text": [
      "obj 21.42313575744629 weight nnz 4377/735650 (0.0059) obj_best 21.42313575744629\n"
     ]
    },
    {
     "name": "stderr",
     "output_type": "stream",
     "text": [
      " 36%|████████████████████████████▋                                                   | 179/500 [04:13<07:26,  1.39s/it]"
     ]
    },
    {
     "name": "stdout",
     "output_type": "stream",
     "text": [
      "obj 21.423019409179688 weight nnz 4375/735650 (0.0059) obj_best 21.423019409179688\n"
     ]
    },
    {
     "name": "stderr",
     "output_type": "stream",
     "text": [
      " 36%|████████████████████████████▊                                                   | 180/500 [04:14<07:25,  1.39s/it]"
     ]
    },
    {
     "name": "stdout",
     "output_type": "stream",
     "text": [
      "obj 21.422903060913086 weight nnz 4369/735650 (0.0059) obj_best 21.422903060913086\n"
     ]
    },
    {
     "name": "stderr",
     "output_type": "stream",
     "text": [
      " 36%|████████████████████████████▉                                                   | 181/500 [04:16<07:35,  1.43s/it]"
     ]
    },
    {
     "name": "stdout",
     "output_type": "stream",
     "text": [
      "obj 21.42279052734375 weight nnz 4363/735650 (0.0059) obj_best 21.42279052734375\n"
     ]
    },
    {
     "name": "stderr",
     "output_type": "stream",
     "text": [
      " 36%|█████████████████████████████                                                   | 182/500 [04:17<07:32,  1.42s/it]"
     ]
    },
    {
     "name": "stdout",
     "output_type": "stream",
     "text": [
      "obj 21.422687530517578 weight nnz 4359/735650 (0.0059) obj_best 21.422687530517578\n"
     ]
    },
    {
     "name": "stderr",
     "output_type": "stream",
     "text": [
      " 37%|█████████████████████████████▎                                                  | 183/500 [04:18<07:30,  1.42s/it]"
     ]
    },
    {
     "name": "stdout",
     "output_type": "stream",
     "text": [
      "obj 21.422574996948242 weight nnz 4356/735650 (0.0059) obj_best 21.422574996948242\n"
     ]
    },
    {
     "name": "stderr",
     "output_type": "stream",
     "text": [
      " 37%|█████████████████████████████▍                                                  | 184/500 [04:20<07:23,  1.40s/it]"
     ]
    },
    {
     "name": "stdout",
     "output_type": "stream",
     "text": [
      "obj 21.422468185424805 weight nnz 4349/735650 (0.0059) obj_best 21.422468185424805\n"
     ]
    },
    {
     "name": "stderr",
     "output_type": "stream",
     "text": [
      " 37%|█████████████████████████████▌                                                  | 185/500 [04:21<07:30,  1.43s/it]"
     ]
    },
    {
     "name": "stdout",
     "output_type": "stream",
     "text": [
      "obj 21.4223690032959 weight nnz 4349/735650 (0.0059) obj_best 21.422468185424805\n"
     ]
    },
    {
     "name": "stderr",
     "output_type": "stream",
     "text": [
      " 37%|█████████████████████████████▊                                                  | 186/500 [04:23<07:22,  1.41s/it]"
     ]
    },
    {
     "name": "stdout",
     "output_type": "stream",
     "text": [
      "obj 21.422260284423828 weight nnz 4344/735650 (0.0059) obj_best 21.422260284423828\n"
     ]
    },
    {
     "name": "stderr",
     "output_type": "stream",
     "text": [
      " 37%|█████████████████████████████▉                                                  | 187/500 [04:24<07:19,  1.40s/it]"
     ]
    },
    {
     "name": "stdout",
     "output_type": "stream",
     "text": [
      "obj 21.42215919494629 weight nnz 4340/735650 (0.0059) obj_best 21.42215919494629\n"
     ]
    },
    {
     "name": "stderr",
     "output_type": "stream",
     "text": [
      " 38%|██████████████████████████████                                                  | 188/500 [04:25<07:18,  1.41s/it]"
     ]
    },
    {
     "name": "stdout",
     "output_type": "stream",
     "text": [
      "obj 21.422054290771484 weight nnz 4340/735650 (0.0059) obj_best 21.422054290771484\n"
     ]
    },
    {
     "name": "stderr",
     "output_type": "stream",
     "text": [
      " 38%|██████████████████████████████▏                                                 | 189/500 [04:27<07:17,  1.41s/it]"
     ]
    },
    {
     "name": "stdout",
     "output_type": "stream",
     "text": [
      "obj 21.42195701599121 weight nnz 4336/735650 (0.0059) obj_best 21.422054290771484\n"
     ]
    },
    {
     "name": "stderr",
     "output_type": "stream",
     "text": [
      " 38%|██████████████████████████████▍                                                 | 190/500 [04:28<07:15,  1.41s/it]"
     ]
    },
    {
     "name": "stdout",
     "output_type": "stream",
     "text": [
      "obj 21.421855926513672 weight nnz 4331/735650 (0.0059) obj_best 21.421855926513672\n"
     ]
    },
    {
     "name": "stderr",
     "output_type": "stream",
     "text": [
      " 38%|██████████████████████████████▌                                                 | 191/500 [04:30<07:11,  1.40s/it]"
     ]
    },
    {
     "name": "stdout",
     "output_type": "stream",
     "text": [
      "obj 21.421764373779297 weight nnz 4328/735650 (0.0059) obj_best 21.421855926513672\n"
     ]
    },
    {
     "name": "stderr",
     "output_type": "stream",
     "text": [
      " 38%|██████████████████████████████▋                                                 | 192/500 [04:31<07:17,  1.42s/it]"
     ]
    },
    {
     "name": "stdout",
     "output_type": "stream",
     "text": [
      "obj 21.421674728393555 weight nnz 4326/735650 (0.0059) obj_best 21.421674728393555\n"
     ]
    },
    {
     "name": "stderr",
     "output_type": "stream",
     "text": [
      " 39%|██████████████████████████████▉                                                 | 193/500 [04:33<07:10,  1.40s/it]"
     ]
    },
    {
     "name": "stdout",
     "output_type": "stream",
     "text": [
      "obj 21.421579360961914 weight nnz 4323/735650 (0.0059) obj_best 21.421674728393555\n"
     ]
    },
    {
     "name": "stderr",
     "output_type": "stream",
     "text": [
      " 39%|███████████████████████████████                                                 | 194/500 [04:34<07:06,  1.39s/it]"
     ]
    },
    {
     "name": "stdout",
     "output_type": "stream",
     "text": [
      "obj 21.421489715576172 weight nnz 4319/735650 (0.0059) obj_best 21.421489715576172\n"
     ]
    },
    {
     "name": "stderr",
     "output_type": "stream",
     "text": [
      " 39%|███████████████████████████████▏                                                | 195/500 [04:35<07:06,  1.40s/it]"
     ]
    },
    {
     "name": "stdout",
     "output_type": "stream",
     "text": [
      "obj 21.42140007019043 weight nnz 4313/735650 (0.0059) obj_best 21.421489715576172\n"
     ]
    },
    {
     "name": "stderr",
     "output_type": "stream",
     "text": [
      " 39%|███████████████████████████████▎                                                | 196/500 [04:37<07:15,  1.43s/it]"
     ]
    },
    {
     "name": "stdout",
     "output_type": "stream",
     "text": [
      "obj 21.42131996154785 weight nnz 4310/735650 (0.0059) obj_best 21.42131996154785\n"
     ]
    },
    {
     "name": "stderr",
     "output_type": "stream",
     "text": [
      " 39%|███████████████████████████████▌                                                | 197/500 [04:38<07:10,  1.42s/it]"
     ]
    },
    {
     "name": "stdout",
     "output_type": "stream",
     "text": [
      "obj 21.42123031616211 weight nnz 4304/735650 (0.0059) obj_best 21.42131996154785\n"
     ]
    },
    {
     "name": "stderr",
     "output_type": "stream",
     "text": [
      " 40%|███████████████████████████████▋                                                | 198/500 [04:40<07:04,  1.41s/it]"
     ]
    },
    {
     "name": "stdout",
     "output_type": "stream",
     "text": [
      "obj 21.421146392822266 weight nnz 4300/735650 (0.0058) obj_best 21.421146392822266\n"
     ]
    },
    {
     "name": "stderr",
     "output_type": "stream",
     "text": [
      " 40%|███████████████████████████████▊                                                | 199/500 [04:41<07:01,  1.40s/it]"
     ]
    },
    {
     "name": "stdout",
     "output_type": "stream",
     "text": [
      "obj 21.421064376831055 weight nnz 4297/735650 (0.0058) obj_best 21.421146392822266\n"
     ]
    },
    {
     "name": "stderr",
     "output_type": "stream",
     "text": [
      " 40%|████████████████████████████████                                                | 200/500 [04:42<06:57,  1.39s/it]"
     ]
    },
    {
     "name": "stdout",
     "output_type": "stream",
     "text": [
      "obj 21.42098617553711 weight nnz 4292/735650 (0.0058) obj_best 21.42098617553711\n"
     ]
    },
    {
     "name": "stderr",
     "output_type": "stream",
     "text": [
      " 40%|████████████████████████████████▏                                               | 201/500 [04:44<06:54,  1.38s/it]"
     ]
    },
    {
     "name": "stdout",
     "output_type": "stream",
     "text": [
      "obj 21.420900344848633 weight nnz 4291/735650 (0.0058) obj_best 21.42098617553711\n"
     ]
    },
    {
     "name": "stderr",
     "output_type": "stream",
     "text": [
      " 40%|████████████████████████████████▎                                               | 202/500 [04:45<06:53,  1.39s/it]"
     ]
    },
    {
     "name": "stdout",
     "output_type": "stream",
     "text": [
      "obj 21.420822143554688 weight nnz 4286/735650 (0.0058) obj_best 21.420822143554688\n"
     ]
    },
    {
     "name": "stderr",
     "output_type": "stream",
     "text": [
      " 41%|████████████████████████████████▍                                               | 203/500 [04:47<07:04,  1.43s/it]"
     ]
    },
    {
     "name": "stdout",
     "output_type": "stream",
     "text": [
      "obj 21.420745849609375 weight nnz 4281/735650 (0.0058) obj_best 21.420822143554688\n"
     ]
    },
    {
     "name": "stderr",
     "output_type": "stream",
     "text": [
      " 41%|████████████████████████████████▋                                               | 204/500 [04:48<07:00,  1.42s/it]"
     ]
    },
    {
     "name": "stdout",
     "output_type": "stream",
     "text": [
      "obj 21.420663833618164 weight nnz 4276/735650 (0.0058) obj_best 21.420663833618164\n"
     ]
    },
    {
     "name": "stderr",
     "output_type": "stream",
     "text": [
      " 41%|████████████████████████████████▊                                               | 205/500 [04:49<06:55,  1.41s/it]"
     ]
    },
    {
     "name": "stdout",
     "output_type": "stream",
     "text": [
      "obj 21.420591354370117 weight nnz 4271/735650 (0.0058) obj_best 21.420663833618164\n"
     ]
    },
    {
     "name": "stderr",
     "output_type": "stream",
     "text": [
      " 41%|████████████████████████████████▉                                               | 206/500 [04:51<06:51,  1.40s/it]"
     ]
    },
    {
     "name": "stdout",
     "output_type": "stream",
     "text": [
      "obj 21.420516967773438 weight nnz 4270/735650 (0.0058) obj_best 21.420516967773438\n"
     ]
    },
    {
     "name": "stderr",
     "output_type": "stream",
     "text": [
      " 41%|█████████████████████████████████                                               | 207/500 [04:52<06:55,  1.42s/it]"
     ]
    },
    {
     "name": "stdout",
     "output_type": "stream",
     "text": [
      "obj 21.420440673828125 weight nnz 4266/735650 (0.0058) obj_best 21.420516967773438\n"
     ]
    },
    {
     "name": "stderr",
     "output_type": "stream",
     "text": [
      " 42%|█████████████████████████████████▎                                              | 208/500 [04:54<06:48,  1.40s/it]"
     ]
    },
    {
     "name": "stdout",
     "output_type": "stream",
     "text": [
      "obj 21.42037010192871 weight nnz 4263/735650 (0.0058) obj_best 21.42037010192871\n"
     ]
    },
    {
     "name": "stderr",
     "output_type": "stream",
     "text": [
      " 42%|█████████████████████████████████▍                                              | 209/500 [04:55<06:46,  1.40s/it]"
     ]
    },
    {
     "name": "stdout",
     "output_type": "stream",
     "text": [
      "obj 21.42029571533203 weight nnz 4263/735650 (0.0058) obj_best 21.42037010192871\n"
     ]
    },
    {
     "name": "stderr",
     "output_type": "stream",
     "text": [
      " 42%|█████████████████████████████████▌                                              | 210/500 [04:56<06:48,  1.41s/it]"
     ]
    },
    {
     "name": "stdout",
     "output_type": "stream",
     "text": [
      "obj 21.420225143432617 weight nnz 4260/735650 (0.0058) obj_best 21.420225143432617\n"
     ]
    },
    {
     "name": "stderr",
     "output_type": "stream",
     "text": [
      " 42%|█████████████████████████████████▊                                              | 211/500 [04:58<06:48,  1.41s/it]"
     ]
    },
    {
     "name": "stdout",
     "output_type": "stream",
     "text": [
      "obj 21.420154571533203 weight nnz 4256/735650 (0.0058) obj_best 21.420225143432617\n"
     ]
    },
    {
     "name": "stderr",
     "output_type": "stream",
     "text": [
      " 42%|█████████████████████████████████▉                                              | 212/500 [04:59<06:45,  1.41s/it]"
     ]
    },
    {
     "name": "stdout",
     "output_type": "stream",
     "text": [
      "obj 21.420085906982422 weight nnz 4254/735650 (0.0058) obj_best 21.420085906982422\n"
     ]
    },
    {
     "name": "stderr",
     "output_type": "stream",
     "text": [
      " 43%|██████████████████████████████████                                              | 213/500 [05:01<06:40,  1.40s/it]"
     ]
    },
    {
     "name": "stdout",
     "output_type": "stream",
     "text": [
      "obj 21.42001724243164 weight nnz 4250/735650 (0.0058) obj_best 21.420085906982422\n"
     ]
    },
    {
     "name": "stderr",
     "output_type": "stream",
     "text": [
      " 43%|██████████████████████████████████▏                                             | 214/500 [05:02<06:45,  1.42s/it]"
     ]
    },
    {
     "name": "stdout",
     "output_type": "stream",
     "text": [
      "obj 21.419950485229492 weight nnz 4250/735650 (0.0058) obj_best 21.419950485229492\n"
     ]
    },
    {
     "name": "stderr",
     "output_type": "stream",
     "text": [
      " 43%|██████████████████████████████████▍                                             | 215/500 [05:03<06:39,  1.40s/it]"
     ]
    },
    {
     "name": "stdout",
     "output_type": "stream",
     "text": [
      "obj 21.419883728027344 weight nnz 4248/735650 (0.0058) obj_best 21.419950485229492\n"
     ]
    },
    {
     "name": "stderr",
     "output_type": "stream",
     "text": [
      " 43%|██████████████████████████████████▌                                             | 216/500 [05:05<06:40,  1.41s/it]"
     ]
    },
    {
     "name": "stdout",
     "output_type": "stream",
     "text": [
      "obj 21.419818878173828 weight nnz 4248/735650 (0.0058) obj_best 21.419818878173828\n"
     ]
    },
    {
     "name": "stderr",
     "output_type": "stream",
     "text": [
      " 43%|██████████████████████████████████▋                                             | 217/500 [05:06<06:39,  1.41s/it]"
     ]
    },
    {
     "name": "stdout",
     "output_type": "stream",
     "text": [
      "obj 21.41975212097168 weight nnz 4245/735650 (0.0058) obj_best 21.419818878173828\n"
     ]
    },
    {
     "name": "stderr",
     "output_type": "stream",
     "text": [
      " 44%|██████████████████████████████████▉                                             | 218/500 [05:08<06:47,  1.44s/it]"
     ]
    },
    {
     "name": "stdout",
     "output_type": "stream",
     "text": [
      "obj 21.41969108581543 weight nnz 4243/735650 (0.0058) obj_best 21.41969108581543\n"
     ]
    },
    {
     "name": "stderr",
     "output_type": "stream",
     "text": [
      " 44%|███████████████████████████████████                                             | 219/500 [05:09<06:43,  1.44s/it]"
     ]
    },
    {
     "name": "stdout",
     "output_type": "stream",
     "text": [
      "obj 21.41963005065918 weight nnz 4242/735650 (0.0058) obj_best 21.41969108581543\n"
     ]
    },
    {
     "name": "stderr",
     "output_type": "stream",
     "text": [
      " 44%|███████████████████████████████████▏                                            | 220/500 [05:11<06:37,  1.42s/it]"
     ]
    },
    {
     "name": "stdout",
     "output_type": "stream",
     "text": [
      "obj 21.419574737548828 weight nnz 4240/735650 (0.0058) obj_best 21.419574737548828\n"
     ]
    },
    {
     "name": "stderr",
     "output_type": "stream",
     "text": [
      " 44%|███████████████████████████████████▎                                            | 221/500 [05:12<06:31,  1.40s/it]"
     ]
    },
    {
     "name": "stdout",
     "output_type": "stream",
     "text": [
      "obj 21.41950798034668 weight nnz 4240/735650 (0.0058) obj_best 21.419574737548828\n"
     ]
    },
    {
     "name": "stderr",
     "output_type": "stream",
     "text": [
      " 44%|███████████████████████████████████▌                                            | 222/500 [05:13<06:26,  1.39s/it]"
     ]
    },
    {
     "name": "stdout",
     "output_type": "stream",
     "text": [
      "obj 21.419448852539062 weight nnz 4240/735650 (0.0058) obj_best 21.419448852539062\n"
     ]
    },
    {
     "name": "stderr",
     "output_type": "stream",
     "text": [
      " 45%|███████████████████████████████████▋                                            | 223/500 [05:15<06:24,  1.39s/it]"
     ]
    },
    {
     "name": "stdout",
     "output_type": "stream",
     "text": [
      "obj 21.419384002685547 weight nnz 4237/735650 (0.0058) obj_best 21.419448852539062\n"
     ]
    },
    {
     "name": "stderr",
     "output_type": "stream",
     "text": [
      " 45%|███████████████████████████████████▊                                            | 224/500 [05:16<06:25,  1.40s/it]"
     ]
    },
    {
     "name": "stdout",
     "output_type": "stream",
     "text": [
      "obj 21.419334411621094 weight nnz 4233/735650 (0.0058) obj_best 21.419334411621094\n"
     ]
    },
    {
     "name": "stderr",
     "output_type": "stream",
     "text": [
      " 45%|████████████████████████████████████                                            | 225/500 [05:18<06:33,  1.43s/it]"
     ]
    },
    {
     "name": "stdout",
     "output_type": "stream",
     "text": [
      "obj 21.419275283813477 weight nnz 4230/735650 (0.0058) obj_best 21.419334411621094\n"
     ]
    },
    {
     "name": "stderr",
     "output_type": "stream",
     "text": [
      " 45%|████████████████████████████████████▏                                           | 226/500 [05:19<06:29,  1.42s/it]"
     ]
    },
    {
     "name": "stdout",
     "output_type": "stream",
     "text": [
      "obj 21.419218063354492 weight nnz 4229/735650 (0.0057) obj_best 21.419218063354492\n"
     ]
    },
    {
     "name": "stderr",
     "output_type": "stream",
     "text": [
      " 45%|████████████████████████████████████▎                                           | 227/500 [05:20<06:25,  1.41s/it]"
     ]
    },
    {
     "name": "stdout",
     "output_type": "stream",
     "text": [
      "obj 21.419158935546875 weight nnz 4225/735650 (0.0057) obj_best 21.419218063354492\n"
     ]
    },
    {
     "name": "stderr",
     "output_type": "stream",
     "text": [
      " 46%|████████████████████████████████████▍                                           | 228/500 [05:22<06:21,  1.40s/it]"
     ]
    },
    {
     "name": "stdout",
     "output_type": "stream",
     "text": [
      "obj 21.41910743713379 weight nnz 4224/735650 (0.0057) obj_best 21.41910743713379\n"
     ]
    },
    {
     "name": "stderr",
     "output_type": "stream",
     "text": [
      " 46%|████████████████████████████████████▋                                           | 229/500 [05:23<06:26,  1.43s/it]"
     ]
    },
    {
     "name": "stdout",
     "output_type": "stream",
     "text": [
      "obj 21.419052124023438 weight nnz 4221/735650 (0.0057) obj_best 21.41910743713379\n"
     ]
    },
    {
     "name": "stderr",
     "output_type": "stream",
     "text": [
      " 46%|████████████████████████████████████▊                                           | 230/500 [05:25<06:20,  1.41s/it]"
     ]
    },
    {
     "name": "stdout",
     "output_type": "stream",
     "text": [
      "obj 21.418994903564453 weight nnz 4219/735650 (0.0057) obj_best 21.418994903564453\n"
     ]
    },
    {
     "name": "stderr",
     "output_type": "stream",
     "text": [
      " 46%|████████████████████████████████████▉                                           | 231/500 [05:26<06:19,  1.41s/it]"
     ]
    },
    {
     "name": "stdout",
     "output_type": "stream",
     "text": [
      "obj 21.418943405151367 weight nnz 4216/735650 (0.0057) obj_best 21.418994903564453\n"
     ]
    },
    {
     "name": "stderr",
     "output_type": "stream",
     "text": [
      " 46%|█████████████████████████████████████                                           | 232/500 [05:28<06:19,  1.42s/it]"
     ]
    },
    {
     "name": "stdout",
     "output_type": "stream",
     "text": [
      "obj 21.418893814086914 weight nnz 4214/735650 (0.0057) obj_best 21.418893814086914\n"
     ]
    },
    {
     "name": "stderr",
     "output_type": "stream",
     "text": [
      " 47%|█████████████████████████████████████▎                                          | 233/500 [05:29<06:19,  1.42s/it]"
     ]
    },
    {
     "name": "stdout",
     "output_type": "stream",
     "text": [
      "obj 21.41884422302246 weight nnz 4212/735650 (0.0057) obj_best 21.418893814086914\n"
     ]
    },
    {
     "name": "stderr",
     "output_type": "stream",
     "text": [
      " 47%|█████████████████████████████████████▍                                          | 234/500 [05:30<06:15,  1.41s/it]"
     ]
    },
    {
     "name": "stdout",
     "output_type": "stream",
     "text": [
      "obj 21.41878890991211 weight nnz 4210/735650 (0.0057) obj_best 21.41878890991211\n"
     ]
    },
    {
     "name": "stderr",
     "output_type": "stream",
     "text": [
      " 47%|█████████████████████████████████████▌                                          | 235/500 [05:32<06:11,  1.40s/it]"
     ]
    },
    {
     "name": "stdout",
     "output_type": "stream",
     "text": [
      "obj 21.418739318847656 weight nnz 4210/735650 (0.0057) obj_best 21.41878890991211\n"
     ]
    },
    {
     "name": "stderr",
     "output_type": "stream",
     "text": [
      " 47%|█████████████████████████████████████▊                                          | 236/500 [05:33<06:15,  1.42s/it]"
     ]
    },
    {
     "name": "stdout",
     "output_type": "stream",
     "text": [
      "obj 21.418691635131836 weight nnz 4208/735650 (0.0057) obj_best 21.41878890991211\n"
     ]
    },
    {
     "name": "stderr",
     "output_type": "stream",
     "text": [
      " 47%|█████████████████████████████████████▉                                          | 237/500 [05:35<06:09,  1.41s/it]"
     ]
    },
    {
     "name": "stdout",
     "output_type": "stream",
     "text": [
      "obj 21.418642044067383 weight nnz 4206/735650 (0.0057) obj_best 21.418642044067383\n"
     ]
    },
    {
     "name": "stderr",
     "output_type": "stream",
     "text": [
      " 48%|██████████████████████████████████████                                          | 238/500 [05:36<06:08,  1.41s/it]"
     ]
    },
    {
     "name": "stdout",
     "output_type": "stream",
     "text": [
      "obj 21.41859245300293 weight nnz 4206/735650 (0.0057) obj_best 21.418642044067383\n"
     ]
    },
    {
     "name": "stderr",
     "output_type": "stream",
     "text": [
      " 48%|██████████████████████████████████████▏                                         | 239/500 [05:37<06:06,  1.40s/it]"
     ]
    },
    {
     "name": "stdout",
     "output_type": "stream",
     "text": [
      "obj 21.418542861938477 weight nnz 4205/735650 (0.0057) obj_best 21.418642044067383\n"
     ]
    },
    {
     "name": "stderr",
     "output_type": "stream",
     "text": [
      " 48%|██████████████████████████████████████▍                                         | 240/500 [05:39<06:13,  1.44s/it]"
     ]
    },
    {
     "name": "stdout",
     "output_type": "stream",
     "text": [
      "obj 21.41849708557129 weight nnz 4201/735650 (0.0057) obj_best 21.41849708557129\n"
     ]
    },
    {
     "name": "stderr",
     "output_type": "stream",
     "text": [
      " 48%|██████████████████████████████████████▌                                         | 241/500 [05:40<06:08,  1.42s/it]"
     ]
    },
    {
     "name": "stdout",
     "output_type": "stream",
     "text": [
      "obj 21.4184513092041 weight nnz 4200/735650 (0.0057) obj_best 21.41849708557129\n"
     ]
    },
    {
     "name": "stderr",
     "output_type": "stream",
     "text": [
      " 48%|██████████████████████████████████████▋                                         | 242/500 [05:42<06:02,  1.41s/it]"
     ]
    },
    {
     "name": "stdout",
     "output_type": "stream",
     "text": [
      "obj 21.418405532836914 weight nnz 4200/735650 (0.0057) obj_best 21.41849708557129\n"
     ]
    },
    {
     "name": "stderr",
     "output_type": "stream",
     "text": [
      " 49%|██████████████████████████████████████▉                                         | 243/500 [05:43<05:58,  1.39s/it]"
     ]
    },
    {
     "name": "stdout",
     "output_type": "stream",
     "text": [
      "obj 21.418367385864258 weight nnz 4197/735650 (0.0057) obj_best 21.418367385864258\n"
     ]
    },
    {
     "name": "stderr",
     "output_type": "stream",
     "text": [
      " 49%|███████████████████████████████████████                                         | 244/500 [05:44<05:55,  1.39s/it]"
     ]
    },
    {
     "name": "stdout",
     "output_type": "stream",
     "text": [
      "obj 21.418325424194336 weight nnz 4195/735650 (0.0057) obj_best 21.418367385864258\n"
     ]
    },
    {
     "name": "stderr",
     "output_type": "stream",
     "text": [
      " 49%|███████████████████████████████████████▏                                        | 245/500 [05:46<05:54,  1.39s/it]"
     ]
    },
    {
     "name": "stdout",
     "output_type": "stream",
     "text": [
      "obj 21.41828155517578 weight nnz 4194/735650 (0.0057) obj_best 21.418367385864258\n"
     ]
    },
    {
     "name": "stderr",
     "output_type": "stream",
     "text": [
      " 49%|███████████████████████████████████████▎                                        | 246/500 [05:47<05:54,  1.40s/it]"
     ]
    },
    {
     "name": "stdout",
     "output_type": "stream",
     "text": [
      "obj 21.418241500854492 weight nnz 4192/735650 (0.0057) obj_best 21.418241500854492\n"
     ]
    },
    {
     "name": "stderr",
     "output_type": "stream",
     "text": [
      " 49%|███████████████████████████████████████▌                                        | 247/500 [05:49<06:03,  1.44s/it]"
     ]
    },
    {
     "name": "stdout",
     "output_type": "stream",
     "text": [
      "obj 21.418201446533203 weight nnz 4186/735650 (0.0057) obj_best 21.418241500854492\n"
     ]
    },
    {
     "name": "stderr",
     "output_type": "stream",
     "text": [
      " 50%|███████████████████████████████████████▋                                        | 248/500 [05:50<06:01,  1.43s/it]"
     ]
    },
    {
     "name": "stdout",
     "output_type": "stream",
     "text": [
      "obj 21.41815948486328 weight nnz 4186/735650 (0.0057) obj_best 21.418241500854492\n"
     ]
    },
    {
     "name": "stderr",
     "output_type": "stream",
     "text": [
      " 50%|███████████████████████████████████████▊                                        | 249/500 [05:52<05:55,  1.41s/it]"
     ]
    },
    {
     "name": "stdout",
     "output_type": "stream",
     "text": [
      "obj 21.418123245239258 weight nnz 4186/735650 (0.0057) obj_best 21.418123245239258\n"
     ]
    },
    {
     "name": "stderr",
     "output_type": "stream",
     "text": [
      " 50%|████████████████████████████████████████                                        | 250/500 [05:53<05:50,  1.40s/it]"
     ]
    },
    {
     "name": "stdout",
     "output_type": "stream",
     "text": [
      "obj 21.418081283569336 weight nnz 4184/735650 (0.0057) obj_best 21.418123245239258\n"
     ]
    },
    {
     "name": "stderr",
     "output_type": "stream",
     "text": [
      " 50%|████████████████████████████████████████▏                                       | 251/500 [05:54<05:55,  1.43s/it]"
     ]
    },
    {
     "name": "stdout",
     "output_type": "stream",
     "text": [
      "obj 21.418041229248047 weight nnz 4183/735650 (0.0057) obj_best 21.418123245239258\n"
     ]
    },
    {
     "name": "stderr",
     "output_type": "stream",
     "text": [
      " 50%|████████████████████████████████████████▎                                       | 252/500 [05:56<05:50,  1.41s/it]"
     ]
    },
    {
     "name": "stdout",
     "output_type": "stream",
     "text": [
      "obj 21.418006896972656 weight nnz 4181/735650 (0.0057) obj_best 21.418006896972656\n"
     ]
    },
    {
     "name": "stderr",
     "output_type": "stream",
     "text": [
      " 51%|████████████████████████████████████████▍                                       | 253/500 [05:57<05:48,  1.41s/it]"
     ]
    },
    {
     "name": "stdout",
     "output_type": "stream",
     "text": [
      "obj 21.41796875 weight nnz 4180/735650 (0.0057) obj_best 21.418006896972656\n"
     ]
    },
    {
     "name": "stderr",
     "output_type": "stream",
     "text": [
      " 51%|████████████████████████████████████████▋                                       | 254/500 [05:59<05:46,  1.41s/it]"
     ]
    },
    {
     "name": "stdout",
     "output_type": "stream",
     "text": [
      "obj 21.417932510375977 weight nnz 4179/735650 (0.0057) obj_best 21.418006896972656\n"
     ]
    },
    {
     "name": "stderr",
     "output_type": "stream",
     "text": [
      " 51%|████████████████████████████████████████▊                                       | 255/500 [06:00<05:44,  1.41s/it]"
     ]
    },
    {
     "name": "stdout",
     "output_type": "stream",
     "text": [
      "obj 21.417898178100586 weight nnz 4178/735650 (0.0057) obj_best 21.417898178100586\n"
     ]
    },
    {
     "name": "stderr",
     "output_type": "stream",
     "text": [
      " 51%|████████████████████████████████████████▉                                       | 256/500 [06:01<05:41,  1.40s/it]"
     ]
    },
    {
     "name": "stdout",
     "output_type": "stream",
     "text": [
      "obj 21.417861938476562 weight nnz 4175/735650 (0.0057) obj_best 21.417898178100586\n"
     ]
    },
    {
     "name": "stderr",
     "output_type": "stream",
     "text": [
      " 51%|█████████████████████████████████████████                                       | 257/500 [06:03<05:38,  1.39s/it]"
     ]
    },
    {
     "name": "stdout",
     "output_type": "stream",
     "text": [
      "obj 21.41782569885254 weight nnz 4175/735650 (0.0057) obj_best 21.417898178100586\n"
     ]
    },
    {
     "name": "stderr",
     "output_type": "stream",
     "text": [
      " 52%|█████████████████████████████████████████▎                                      | 258/500 [06:04<05:43,  1.42s/it]"
     ]
    },
    {
     "name": "stdout",
     "output_type": "stream",
     "text": [
      "obj 21.417789459228516 weight nnz 4174/735650 (0.0057) obj_best 21.417789459228516\n"
     ]
    },
    {
     "name": "stderr",
     "output_type": "stream",
     "text": [
      " 52%|█████████████████████████████████████████▍                                      | 259/500 [06:06<05:39,  1.41s/it]"
     ]
    },
    {
     "name": "stdout",
     "output_type": "stream",
     "text": [
      "obj 21.417757034301758 weight nnz 4171/735650 (0.0057) obj_best 21.417789459228516\n"
     ]
    },
    {
     "name": "stderr",
     "output_type": "stream",
     "text": [
      " 52%|█████████████████████████████████████████▌                                      | 260/500 [06:07<05:39,  1.41s/it]"
     ]
    },
    {
     "name": "stdout",
     "output_type": "stream",
     "text": [
      "obj 21.417724609375 weight nnz 4170/735650 (0.0057) obj_best 21.417789459228516\n"
     ]
    },
    {
     "name": "stderr",
     "output_type": "stream",
     "text": [
      " 52%|█████████████████████████████████████████▊                                      | 261/500 [06:08<05:37,  1.41s/it]"
     ]
    },
    {
     "name": "stdout",
     "output_type": "stream",
     "text": [
      "obj 21.41769027709961 weight nnz 4169/735650 (0.0057) obj_best 21.417789459228516\n"
     ]
    },
    {
     "name": "stderr",
     "output_type": "stream",
     "text": [
      " 52%|█████████████████████████████████████████▉                                      | 262/500 [06:10<05:44,  1.45s/it]"
     ]
    },
    {
     "name": "stdout",
     "output_type": "stream",
     "text": [
      "obj 21.41765594482422 weight nnz 4167/735650 (0.0057) obj_best 21.41765594482422\n"
     ]
    },
    {
     "name": "stderr",
     "output_type": "stream",
     "text": [
      " 53%|██████████████████████████████████████████                                      | 263/500 [06:11<05:41,  1.44s/it]"
     ]
    },
    {
     "name": "stdout",
     "output_type": "stream",
     "text": [
      "obj 21.417621612548828 weight nnz 4166/735650 (0.0057) obj_best 21.41765594482422\n"
     ]
    },
    {
     "name": "stderr",
     "output_type": "stream",
     "text": [
      " 53%|██████████████████████████████████████████▏                                     | 264/500 [06:13<05:35,  1.42s/it]"
     ]
    },
    {
     "name": "stdout",
     "output_type": "stream",
     "text": [
      "obj 21.417593002319336 weight nnz 4166/735650 (0.0057) obj_best 21.41765594482422\n"
     ]
    },
    {
     "name": "stderr",
     "output_type": "stream",
     "text": [
      " 53%|██████████████████████████████████████████▍                                     | 265/500 [06:14<05:31,  1.41s/it]"
     ]
    },
    {
     "name": "stdout",
     "output_type": "stream",
     "text": [
      "obj 21.41756248474121 weight nnz 4167/735650 (0.0057) obj_best 21.41765594482422\n"
     ]
    },
    {
     "name": "stderr",
     "output_type": "stream",
     "text": [
      " 53%|██████████████████████████████████████████▌                                     | 266/500 [06:15<05:26,  1.40s/it]"
     ]
    },
    {
     "name": "stdout",
     "output_type": "stream",
     "text": [
      "obj 21.417531967163086 weight nnz 4164/735650 (0.0057) obj_best 21.417531967163086\n"
     ]
    },
    {
     "name": "stderr",
     "output_type": "stream",
     "text": [
      " 53%|██████████████████████████████████████████▋                                     | 267/500 [06:17<05:25,  1.40s/it]"
     ]
    },
    {
     "name": "stdout",
     "output_type": "stream",
     "text": [
      "obj 21.417499542236328 weight nnz 4164/735650 (0.0057) obj_best 21.417531967163086\n"
     ]
    },
    {
     "name": "stderr",
     "output_type": "stream",
     "text": [
      " 54%|██████████████████████████████████████████▉                                     | 268/500 [06:18<05:23,  1.40s/it]"
     ]
    },
    {
     "name": "stdout",
     "output_type": "stream",
     "text": [
      "obj 21.417470932006836 weight nnz 4161/735650 (0.0057) obj_best 21.417531967163086\n"
     ]
    },
    {
     "name": "stderr",
     "output_type": "stream",
     "text": [
      " 54%|███████████████████████████████████████████                                     | 269/500 [06:20<05:34,  1.45s/it]"
     ]
    },
    {
     "name": "stdout",
     "output_type": "stream",
     "text": [
      "obj 21.41744041442871 weight nnz 4160/735650 (0.0057) obj_best 21.417531967163086\n"
     ]
    },
    {
     "name": "stderr",
     "output_type": "stream",
     "text": [
      " 54%|███████████████████████████████████████████▏                                    | 270/500 [06:21<05:28,  1.43s/it]"
     ]
    },
    {
     "name": "stdout",
     "output_type": "stream",
     "text": [
      "obj 21.41741371154785 weight nnz 4160/735650 (0.0057) obj_best 21.41741371154785\n"
     ]
    },
    {
     "name": "stderr",
     "output_type": "stream",
     "text": [
      " 54%|███████████████████████████████████████████▎                                    | 271/500 [06:23<05:22,  1.41s/it]"
     ]
    },
    {
     "name": "stdout",
     "output_type": "stream",
     "text": [
      "obj 21.41738510131836 weight nnz 4158/735650 (0.0057) obj_best 21.41741371154785\n"
     ]
    },
    {
     "name": "stderr",
     "output_type": "stream",
     "text": [
      " 54%|███████████████████████████████████████████▌                                    | 272/500 [06:24<05:19,  1.40s/it]"
     ]
    },
    {
     "name": "stdout",
     "output_type": "stream",
     "text": [
      "obj 21.417356491088867 weight nnz 4158/735650 (0.0057) obj_best 21.41741371154785\n"
     ]
    },
    {
     "name": "stderr",
     "output_type": "stream",
     "text": [
      " 55%|███████████████████████████████████████████▋                                    | 273/500 [06:25<05:22,  1.42s/it]"
     ]
    },
    {
     "name": "stdout",
     "output_type": "stream",
     "text": [
      "obj 21.417327880859375 weight nnz 4156/735650 (0.0056) obj_best 21.41741371154785\n"
     ]
    },
    {
     "name": "stderr",
     "output_type": "stream",
     "text": [
      " 55%|███████████████████████████████████████████▊                                    | 274/500 [06:27<05:21,  1.42s/it]"
     ]
    },
    {
     "name": "stdout",
     "output_type": "stream",
     "text": [
      "obj 21.417301177978516 weight nnz 4156/735650 (0.0056) obj_best 21.417301177978516\n"
     ]
    },
    {
     "name": "stderr",
     "output_type": "stream",
     "text": [
      " 55%|████████████████████████████████████████████                                    | 275/500 [06:28<05:18,  1.42s/it]"
     ]
    },
    {
     "name": "stdout",
     "output_type": "stream",
     "text": [
      "obj 21.417274475097656 weight nnz 4154/735650 (0.0056) obj_best 21.417301177978516\n"
     ]
    },
    {
     "name": "stderr",
     "output_type": "stream",
     "text": [
      " 55%|████████████████████████████████████████████▏                                   | 276/500 [06:30<05:16,  1.41s/it]"
     ]
    },
    {
     "name": "stdout",
     "output_type": "stream",
     "text": [
      "obj 21.41724967956543 weight nnz 4154/735650 (0.0056) obj_best 21.417301177978516\n"
     ]
    },
    {
     "name": "stderr",
     "output_type": "stream",
     "text": [
      " 55%|████████████████████████████████████████████▎                                   | 277/500 [06:31<05:14,  1.41s/it]"
     ]
    },
    {
     "name": "stdout",
     "output_type": "stream",
     "text": [
      "obj 21.417221069335938 weight nnz 4153/735650 (0.0056) obj_best 21.417301177978516\n"
     ]
    },
    {
     "name": "stderr",
     "output_type": "stream",
     "text": [
      " 56%|████████████████████████████████████████████▍                                   | 278/500 [06:32<05:10,  1.40s/it]"
     ]
    },
    {
     "name": "stdout",
     "output_type": "stream",
     "text": [
      "obj 21.41719627380371 weight nnz 4153/735650 (0.0056) obj_best 21.41719627380371\n"
     ]
    },
    {
     "name": "stderr",
     "output_type": "stream",
     "text": [
      " 56%|████████████████████████████████████████████▋                                   | 279/500 [06:34<05:07,  1.39s/it]"
     ]
    },
    {
     "name": "stdout",
     "output_type": "stream",
     "text": [
      "obj 21.417165756225586 weight nnz 4153/735650 (0.0056) obj_best 21.41719627380371\n"
     ]
    },
    {
     "name": "stderr",
     "output_type": "stream",
     "text": [
      " 56%|████████████████████████████████████████████▊                                   | 280/500 [06:35<05:12,  1.42s/it]"
     ]
    },
    {
     "name": "stdout",
     "output_type": "stream",
     "text": [
      "obj 21.41714096069336 weight nnz 4153/735650 (0.0056) obj_best 21.41719627380371\n"
     ]
    },
    {
     "name": "stderr",
     "output_type": "stream",
     "text": [
      " 56%|████████████████████████████████████████████▉                                   | 281/500 [06:37<05:09,  1.41s/it]"
     ]
    },
    {
     "name": "stdout",
     "output_type": "stream",
     "text": [
      "obj 21.417116165161133 weight nnz 4154/735650 (0.0056) obj_best 21.41719627380371\n"
     ]
    },
    {
     "name": "stderr",
     "output_type": "stream",
     "text": [
      " 56%|█████████████████████████████████████████████                                   | 282/500 [06:38<05:07,  1.41s/it]"
     ]
    },
    {
     "name": "stdout",
     "output_type": "stream",
     "text": [
      "obj 21.417091369628906 weight nnz 4151/735650 (0.0056) obj_best 21.417091369628906\n"
     ]
    },
    {
     "name": "stderr",
     "output_type": "stream",
     "text": [
      " 57%|█████████████████████████████████████████████▎                                  | 283/500 [06:40<05:05,  1.41s/it]"
     ]
    },
    {
     "name": "stdout",
     "output_type": "stream",
     "text": [
      "obj 21.417068481445312 weight nnz 4150/735650 (0.0056) obj_best 21.417091369628906\n"
     ]
    },
    {
     "name": "stderr",
     "output_type": "stream",
     "text": [
      " 57%|█████████████████████████████████████████████▍                                  | 284/500 [06:41<05:10,  1.44s/it]"
     ]
    },
    {
     "name": "stdout",
     "output_type": "stream",
     "text": [
      "obj 21.417041778564453 weight nnz 4151/735650 (0.0056) obj_best 21.417091369628906\n"
     ]
    },
    {
     "name": "stderr",
     "output_type": "stream",
     "text": [
      " 57%|█████████████████████████████████████████████▌                                  | 285/500 [06:42<05:04,  1.42s/it]"
     ]
    },
    {
     "name": "stdout",
     "output_type": "stream",
     "text": [
      "obj 21.417016983032227 weight nnz 4151/735650 (0.0056) obj_best 21.417091369628906\n"
     ]
    },
    {
     "name": "stderr",
     "output_type": "stream",
     "text": [
      " 57%|█████████████████████████████████████████████▊                                  | 286/500 [06:44<04:59,  1.40s/it]"
     ]
    },
    {
     "name": "stdout",
     "output_type": "stream",
     "text": [
      "obj 21.416990280151367 weight nnz 4147/735650 (0.0056) obj_best 21.416990280151367\n"
     ]
    },
    {
     "name": "stderr",
     "output_type": "stream",
     "text": [
      " 57%|█████████████████████████████████████████████▉                                  | 287/500 [06:45<04:56,  1.39s/it]"
     ]
    },
    {
     "name": "stdout",
     "output_type": "stream",
     "text": [
      "obj 21.41697120666504 weight nnz 4148/735650 (0.0056) obj_best 21.416990280151367\n"
     ]
    },
    {
     "name": "stderr",
     "output_type": "stream",
     "text": [
      " 58%|██████████████████████████████████████████████                                  | 288/500 [06:47<04:55,  1.39s/it]"
     ]
    },
    {
     "name": "stdout",
     "output_type": "stream",
     "text": [
      "obj 21.416946411132812 weight nnz 4146/735650 (0.0056) obj_best 21.416990280151367\n"
     ]
    },
    {
     "name": "stderr",
     "output_type": "stream",
     "text": [
      " 58%|██████████████████████████████████████████████▏                                 | 289/500 [06:48<04:54,  1.39s/it]"
     ]
    },
    {
     "name": "stdout",
     "output_type": "stream",
     "text": [
      "obj 21.41692543029785 weight nnz 4146/735650 (0.0056) obj_best 21.416990280151367\n"
     ]
    },
    {
     "name": "stderr",
     "output_type": "stream",
     "text": [
      " 58%|██████████████████████████████████████████████▍                                 | 290/500 [06:49<04:53,  1.40s/it]"
     ]
    },
    {
     "name": "stdout",
     "output_type": "stream",
     "text": [
      "obj 21.416900634765625 weight nnz 4146/735650 (0.0056) obj_best 21.416990280151367\n"
     ]
    },
    {
     "name": "stderr",
     "output_type": "stream",
     "text": [
      " 58%|██████████████████████████████████████████████▌                                 | 291/500 [06:51<04:59,  1.43s/it]"
     ]
    },
    {
     "name": "stdout",
     "output_type": "stream",
     "text": [
      "obj 21.416879653930664 weight nnz 4147/735650 (0.0056) obj_best 21.416879653930664\n"
     ]
    },
    {
     "name": "stderr",
     "output_type": "stream",
     "text": [
      " 58%|██████████████████████████████████████████████▋                                 | 292/500 [06:52<04:54,  1.41s/it]"
     ]
    },
    {
     "name": "stdout",
     "output_type": "stream",
     "text": [
      "obj 21.41685676574707 weight nnz 4147/735650 (0.0056) obj_best 21.416879653930664\n"
     ]
    },
    {
     "name": "stderr",
     "output_type": "stream",
     "text": [
      " 59%|██████████████████████████████████████████████▉                                 | 293/500 [06:54<04:50,  1.41s/it]"
     ]
    },
    {
     "name": "stdout",
     "output_type": "stream",
     "text": [
      "obj 21.41683578491211 weight nnz 4147/735650 (0.0056) obj_best 21.416879653930664\n"
     ]
    },
    {
     "name": "stderr",
     "output_type": "stream",
     "text": [
      " 59%|███████████████████████████████████████████████                                 | 294/500 [06:55<04:47,  1.39s/it]"
     ]
    },
    {
     "name": "stdout",
     "output_type": "stream",
     "text": [
      "obj 21.41681480407715 weight nnz 4146/735650 (0.0056) obj_best 21.416879653930664\n"
     ]
    },
    {
     "name": "stderr",
     "output_type": "stream",
     "text": [
      " 59%|███████████████████████████████████████████████▏                                | 295/500 [06:56<04:53,  1.43s/it]"
     ]
    },
    {
     "name": "stdout",
     "output_type": "stream",
     "text": [
      "obj 21.416793823242188 weight nnz 4145/735650 (0.0056) obj_best 21.416879653930664\n"
     ]
    },
    {
     "name": "stderr",
     "output_type": "stream",
     "text": [
      " 59%|███████████████████████████████████████████████▎                                | 296/500 [06:58<04:50,  1.42s/it]"
     ]
    },
    {
     "name": "stdout",
     "output_type": "stream",
     "text": [
      "obj 21.416772842407227 weight nnz 4145/735650 (0.0056) obj_best 21.416772842407227\n"
     ]
    },
    {
     "name": "stderr",
     "output_type": "stream",
     "text": [
      " 59%|███████████████████████████████████████████████▌                                | 297/500 [06:59<04:48,  1.42s/it]"
     ]
    },
    {
     "name": "stdout",
     "output_type": "stream",
     "text": [
      "obj 21.416748046875 weight nnz 4142/735650 (0.0056) obj_best 21.416772842407227\n"
     ]
    },
    {
     "name": "stderr",
     "output_type": "stream",
     "text": [
      " 60%|███████████████████████████████████████████████▋                                | 298/500 [07:01<04:46,  1.42s/it]"
     ]
    },
    {
     "name": "stdout",
     "output_type": "stream",
     "text": [
      "obj 21.416730880737305 weight nnz 4139/735650 (0.0056) obj_best 21.416772842407227\n"
     ]
    },
    {
     "name": "stderr",
     "output_type": "stream",
     "text": [
      " 60%|███████████████████████████████████████████████▊                                | 299/500 [07:02<04:43,  1.41s/it]"
     ]
    },
    {
     "name": "stdout",
     "output_type": "stream",
     "text": [
      "obj 21.416709899902344 weight nnz 4138/735650 (0.0056) obj_best 21.416772842407227\n"
     ]
    },
    {
     "name": "stderr",
     "output_type": "stream",
     "text": [
      " 60%|████████████████████████████████████████████████                                | 300/500 [07:03<04:39,  1.40s/it]"
     ]
    },
    {
     "name": "stdout",
     "output_type": "stream",
     "text": [
      "obj 21.416690826416016 weight nnz 4137/735650 (0.0056) obj_best 21.416772842407227\n"
     ]
    },
    {
     "name": "stderr",
     "output_type": "stream",
     "text": [
      " 60%|████████████████████████████████████████████████▏                               | 301/500 [07:05<04:36,  1.39s/it]"
     ]
    },
    {
     "name": "stdout",
     "output_type": "stream",
     "text": [
      "obj 21.416671752929688 weight nnz 4137/735650 (0.0056) obj_best 21.416671752929688\n"
     ]
    },
    {
     "name": "stderr",
     "output_type": "stream",
     "text": [
      " 60%|████████████████████████████████████████████████▎                               | 302/500 [07:06<04:40,  1.42s/it]"
     ]
    },
    {
     "name": "stdout",
     "output_type": "stream",
     "text": [
      "obj 21.416650772094727 weight nnz 4137/735650 (0.0056) obj_best 21.416671752929688\n"
     ]
    },
    {
     "name": "stderr",
     "output_type": "stream",
     "text": [
      " 61%|████████████████████████████████████████████████▍                               | 303/500 [07:08<04:38,  1.42s/it]"
     ]
    },
    {
     "name": "stdout",
     "output_type": "stream",
     "text": [
      "obj 21.4166316986084 weight nnz 4136/735650 (0.0056) obj_best 21.416671752929688\n"
     ]
    },
    {
     "name": "stderr",
     "output_type": "stream",
     "text": [
      " 61%|████████████████████████████████████████████████▋                               | 304/500 [07:09<04:36,  1.41s/it]"
     ]
    },
    {
     "name": "stdout",
     "output_type": "stream",
     "text": [
      "obj 21.41661262512207 weight nnz 4134/735650 (0.0056) obj_best 21.416671752929688\n"
     ]
    },
    {
     "name": "stderr",
     "output_type": "stream",
     "text": [
      " 61%|████████████████████████████████████████████████▊                               | 305/500 [07:11<04:34,  1.41s/it]"
     ]
    },
    {
     "name": "stdout",
     "output_type": "stream",
     "text": [
      "obj 21.416595458984375 weight nnz 4131/735650 (0.0056) obj_best 21.416671752929688\n"
     ]
    },
    {
     "name": "stderr",
     "output_type": "stream",
     "text": [
      " 61%|████████████████████████████████████████████████▊                               | 305/500 [07:12<04:36,  1.42s/it]"
     ]
    },
    {
     "name": "stdout",
     "output_type": "stream",
     "text": [
      "obj 21.416574478149414 weight nnz 4129/735650 (0.0056) obj_best 21.416671752929688\n",
      "obj 21.416574478149414 weight nnz 4129/735650 (0.0056) obj_best 21.416671752929688 [early stop at 305]\n"
     ]
    },
    {
     "name": "stderr",
     "output_type": "stream",
     "text": [
      "\n"
     ]
    },
    {
     "name": "stdout",
     "output_type": "stream",
     "text": [
      "(0) lambda 0.0505, loss 21.4166 [val loss 21.5962] [test loss -1.0000], sparsity 0.005612723441854143 [4129/735650], time 433.0160746574402, lr 0.0005\n"
     ]
    }
   ],
   "source": [
    "saga_batch_size = 512#256 best with one neuron at a time\n",
    "n_iters = 500\n",
    "lam = 5e-2#7e-2#5e-2#3e-2 was best with one neuron at a time\n",
    "\n",
    "indexed_train_loader = DataLoader(indexed_train_ds, batch_size=saga_batch_size, shuffle=True)\n",
    "val_loader = DataLoader(val_ds, batch_size=saga_batch_size, shuffle=False)\n",
    "\n",
    "linear = torch.nn.Linear(in_features = train_data.shape[1], out_features = len(target_neurons)).to(device)\n",
    "linear.weight.data.zero_()\n",
    "linear.bias.data.zero_()\n",
    "\n",
    "STEP_SIZE = 5e-4#7e-4#1e-4#3e-5#7e-4 best with one neuron at a time\n",
    "ALPHA = 0.99#0.99 best for one neuron at a time\n",
    "metadata = {}\n",
    "metadata['max_reg'] = {}\n",
    "metadata['max_reg']['nongrouped'] = lam\n",
    "#lookbehind=10, tol=1e-7 was best with one neuron at a time\n",
    "output_proj = glm_saga(linear, indexed_train_loader, STEP_SIZE, n_iters, ALPHA, epsilon=1, k=1, val_loader = val_loader,\n",
    "                       n_ex=len(train_data), do_zero=False, metadata=metadata, n_classes = len(target_neurons), family='gaussian',\n",
    "                       lookbehind=5, tol=1e-4, verbose=True)\n",
    "\n",
    "W_g = output_proj['path'][0]['weight']\n",
    "b_g = output_proj['path'][0]['bias']"
   ]
  },
  {
   "cell_type": "code",
   "execution_count": 16,
   "id": "4a55b2bf-583d-4826-a54f-6ec85e9eea9c",
   "metadata": {},
   "outputs": [
    {
     "data": {
      "text/plain": [
       "<All keys matched successfully>"
      ]
     },
     "execution_count": 16,
     "metadata": {},
     "output_type": "execute_result"
    }
   ],
   "source": [
    "linear.load_state_dict({\"weight\":W_g, \"bias\":b_g})"
   ]
  },
  {
   "cell_type": "code",
   "execution_count": 17,
   "id": "bbf40314-f0fb-41df-973a-5343c8756469",
   "metadata": {
    "scrolled": true
   },
   "outputs": [
    {
     "name": "stdout",
     "output_type": "stream",
     "text": [
      "0\n",
      "refill tensor(0.0737)\n",
      "stainless tensor(0.0697)\n",
      "bottle tensor(0.0615)\n",
      "cosmetic tensor(0.0584)\n",
      "adjustable tensor(0.0489)\n",
      "hog tensor(0.0450)\n",
      "terrier tensor(0.0409)\n",
      "removable tensor(0.0368)\n",
      "trap tensor(0.0360)\n",
      "1\n",
      "autographed tensor(0.0533)\n",
      "signage tensor(0.0528)\n",
      "sign tensor(0.0444)\n",
      "cider tensor(0.0363)\n",
      "fade tensor(0.0359)\n",
      "barber tensor(0.0357)\n",
      "bottle tensor(0.0336)\n",
      "store tensor(0.0321)\n",
      "prohibition tensor(0.0311)\n",
      "2\n",
      "wedding tensor(0.0646)\n",
      "scientist tensor(0.0576)\n",
      "wed tensor(0.0472)\n",
      "formal tensor(0.0368)\n",
      "pharmacist tensor(0.0348)\n",
      "whipped tensor(0.0333)\n",
      "anglo tensor(0.0309)\n",
      "clinically tensor(0.0301)\n",
      "separates tensor(0.0291)\n",
      "3\n",
      "gun tensor(0.0543)\n",
      "beaver tensor(0.0533)\n",
      "equipment tensor(0.0505)\n",
      "tomcat tensor(0.0452)\n",
      "cruise tensor(0.0373)\n",
      "ptr tensor(0.0367)\n",
      "ship tensor(0.0322)\n",
      "vehicles tensor(0.0322)\n",
      "inlet tensor(0.0320)\n",
      "4\n",
      "carton tensor(0.0588)\n",
      "shaping tensor(0.0530)\n",
      "sandwich tensor(0.0495)\n",
      "teaching tensor(0.0487)\n",
      "squash tensor(0.0455)\n",
      "setup tensor(0.0429)\n",
      "cardboard tensor(0.0391)\n",
      "gymnastics tensor(0.0283)\n",
      "shoes tensor(0.0275)\n",
      "5\n",
      "larvae tensor(0.1055)\n",
      "sausage tensor(0.0735)\n",
      "bottle tensor(0.0661)\n",
      "pens tensor(0.0659)\n",
      "weapons tensor(0.0598)\n",
      "opteron tensor(0.0503)\n",
      "trout tensor(0.0493)\n",
      "missile tensor(0.0478)\n",
      "rocket tensor(0.0396)\n",
      "6\n",
      "formal tensor(0.1019)\n",
      "terrier tensor(0.0873)\n",
      "uniform tensor(0.0710)\n",
      "ginger tensor(0.0619)\n",
      "monkey tensor(0.0396)\n",
      "doctor tensor(0.0355)\n",
      "uniformly tensor(0.0348)\n",
      "commencement tensor(0.0340)\n",
      "groom tensor(0.0339)\n",
      "7\n",
      "grizzly tensor(0.1004)\n",
      "lifting tensor(0.0650)\n",
      "bodybuilding tensor(0.0595)\n",
      "adjustable tensor(0.0504)\n",
      "dug tensor(0.0495)\n",
      "safe tensor(0.0453)\n",
      "cricket tensor(0.0393)\n",
      "detector tensor(0.0385)\n",
      "cassette tensor(0.0367)\n",
      "8\n",
      "elephant tensor(0.2747)\n",
      "hog tensor(0.1209)\n",
      "arch tensor(0.0546)\n",
      "utensils tensor(0.0530)\n",
      "tablespoons tensor(0.0451)\n",
      "mammoth tensor(0.0283)\n",
      "swan tensor(0.0279)\n",
      "herd tensor(0.0268)\n",
      "wolf tensor(0.0242)\n",
      "9\n",
      "sailing tensor(0.0832)\n",
      "greenhouse tensor(0.0766)\n",
      "labor tensor(0.0707)\n",
      "wore tensor(0.0686)\n",
      "yacht tensor(0.0685)\n",
      "dragonfly tensor(0.0680)\n",
      "train tensor(0.0609)\n",
      "mast tensor(0.0607)\n",
      "ostg tensor(0.0542)\n",
      "10\n",
      "cur tensor(0.1113)\n",
      "arch tensor(0.0890)\n",
      "flames tensor(0.0541)\n",
      "altar tensor(0.0483)\n",
      "celebration tensor(0.0444)\n",
      "wore tensor(0.0425)\n",
      "musician tensor(0.0410)\n",
      "illumination tensor(0.0405)\n",
      "wolves tensor(0.0403)\n",
      "11\n",
      "bookshelf tensor(0.1878)\n",
      "gorilla tensor(0.0895)\n",
      "axel tensor(0.0716)\n",
      "library tensor(0.0616)\n",
      "kit tensor(0.0516)\n",
      "cylinder tensor(0.0374)\n",
      "lotion tensor(0.0338)\n",
      "wen tensor(0.0315)\n",
      "lipstick tensor(0.0308)\n",
      "12\n",
      "grows tensor(0.1458)\n",
      "rainforest tensor(0.1349)\n",
      "monkey tensor(0.1115)\n",
      "soup tensor(0.0595)\n",
      "vegetarian tensor(0.0579)\n",
      "ibis tensor(0.0558)\n",
      "birding tensor(0.0522)\n",
      "frog tensor(0.0464)\n",
      "salad tensor(0.0449)\n",
      "13\n",
      "anglo tensor(0.1043)\n",
      "springer tensor(0.1038)\n",
      "bernard tensor(0.0883)\n",
      "pembroke tensor(0.0536)\n",
      "blogroll tensor(0.0480)\n",
      "puppies tensor(0.0393)\n",
      "shaker tensor(0.0363)\n",
      "pitbull tensor(0.0346)\n",
      "greyhound tensor(0.0335)\n",
      "14\n",
      "formal tensor(0.1008)\n",
      "uniformly tensor(0.0558)\n",
      "officers tensor(0.0467)\n",
      "groom tensor(0.0383)\n",
      "peoples tensor(0.0380)\n",
      "casino tensor(0.0352)\n",
      "students tensor(0.0345)\n",
      "demux tensor(0.0340)\n",
      "wore tensor(0.0327)\n",
      "15\n",
      "soup tensor(0.1356)\n",
      "bucket tensor(0.1269)\n",
      "stir tensor(0.0943)\n",
      "bowl tensor(0.0925)\n",
      "tubs tensor(0.0807)\n",
      "pots tensor(0.0672)\n",
      "canoeing tensor(0.0320)\n",
      "cup tensor(0.0262)\n",
      "coffee tensor(0.0253)\n",
      "16\n",
      "taxi tensor(0.0869)\n",
      "amusement tensor(0.0848)\n",
      "cho tensor(0.0691)\n",
      "carriage tensor(0.0689)\n",
      "metro tensor(0.0608)\n",
      "cavalier tensor(0.0583)\n",
      "palace tensor(0.0535)\n",
      "arriving tensor(0.0501)\n",
      "venice tensor(0.0434)\n",
      "17\n",
      "fossil tensor(0.1037)\n",
      "ape tensor(0.0874)\n",
      "spider tensor(0.0860)\n",
      "topped tensor(0.0649)\n",
      "dinosaur tensor(0.0611)\n",
      "oyster tensor(0.0483)\n",
      "ants tensor(0.0412)\n",
      "livestock tensor(0.0301)\n",
      "whipped tensor(0.0276)\n",
      "18\n",
      "corn tensor(0.1017)\n",
      "squash tensor(0.0807)\n",
      "grizzly tensor(0.0454)\n",
      "ruler tensor(0.0411)\n",
      "kernels tensor(0.0369)\n",
      "topped tensor(0.0322)\n",
      "knit tensor(0.0298)\n",
      "landscape tensor(0.0280)\n",
      "wolves tensor(0.0277)\n",
      "19\n",
      "frog tensor(0.0873)\n",
      "boa tensor(0.0845)\n",
      "decorated tensor(0.0659)\n",
      "dishes tensor(0.0578)\n",
      "bedding tensor(0.0539)\n",
      "pottery tensor(0.0379)\n",
      "depicted tensor(0.0356)\n",
      "rocks tensor(0.0316)\n",
      "pizza tensor(0.0301)\n",
      "20\n",
      "whirlpool tensor(0.0646)\n",
      "tub tensor(0.0591)\n",
      "fluffy tensor(0.0475)\n",
      "copier tensor(0.0410)\n",
      "atm tensor(0.0389)\n",
      "refrigerator tensor(0.0370)\n",
      "ventilation tensor(0.0295)\n",
      "plastic tensor(0.0286)\n",
      "washer tensor(0.0230)\n",
      "21\n",
      "glassware tensor(0.1545)\n",
      "bubble tensor(0.0930)\n",
      "glass tensor(0.0626)\n",
      "bottled tensor(0.0503)\n",
      "dessert tensor(0.0376)\n",
      "clear tensor(0.0319)\n",
      "soluble tensor(0.0318)\n",
      "escherichia tensor(0.0295)\n",
      "cocktail tensor(0.0292)\n",
      "22\n",
      "cabbage tensor(0.0742)\n",
      "beaver tensor(0.0643)\n",
      "spherical tensor(0.0470)\n",
      "observatory tensor(0.0462)\n",
      "bear tensor(0.0451)\n",
      "polar tensor(0.0419)\n",
      "turtle tensor(0.0415)\n",
      "curly tensor(0.0395)\n",
      "solar tensor(0.0343)\n",
      "23\n",
      "fluffy tensor(0.1053)\n",
      "yellowstone tensor(0.0814)\n",
      "fish tensor(0.0606)\n",
      "axel tensor(0.0564)\n",
      "fuzzy tensor(0.0444)\n",
      "frog tensor(0.0399)\n",
      "spark tensor(0.0357)\n",
      "slug tensor(0.0342)\n",
      "vapor tensor(0.0323)\n",
      "24\n",
      "jeans tensor(0.2109)\n",
      "denim tensor(0.1030)\n",
      "shoes tensor(0.0553)\n",
      "mariner tensor(0.0419)\n",
      "ship tensor(0.0326)\n",
      "fisheries tensor(0.0207)\n",
      "shark tensor(0.0175)\n",
      "blu tensor(0.0162)\n",
      "buckle tensor(0.0162)\n",
      "25\n",
      "chair tensor(0.1339)\n",
      "bike tensor(0.0973)\n",
      "stroller tensor(0.0742)\n",
      "holster tensor(0.0569)\n",
      "chaired tensor(0.0508)\n",
      "wheelchair tensor(0.0468)\n",
      "acl tensor(0.0452)\n",
      "tackling tensor(0.0392)\n",
      "straps tensor(0.0372)\n",
      "26\n",
      "beetle tensor(0.2306)\n",
      "peacock tensor(0.0656)\n",
      "brushes tensor(0.0622)\n",
      "ave tensor(0.0501)\n",
      "traditional tensor(0.0458)\n",
      "formal tensor(0.0327)\n",
      "colored tensor(0.0306)\n",
      "squash tensor(0.0256)\n",
      "trout tensor(0.0242)\n",
      "27\n",
      "long tensor(0.1073)\n",
      "cats tensor(0.0817)\n",
      "knife tensor(0.0787)\n",
      "greyhound tensor(0.0708)\n",
      "sperm tensor(0.0594)\n",
      "receiver tensor(0.0506)\n",
      "bridge tensor(0.0472)\n",
      "kittens tensor(0.0384)\n",
      "length tensor(0.0375)\n",
      "28\n",
      "cages tensor(0.1292)\n",
      "guitar tensor(0.1072)\n",
      "husky tensor(0.1057)\n",
      "library tensor(0.0846)\n",
      "window tensor(0.0719)\n",
      "mesh tensor(0.0472)\n",
      "soo tensor(0.0467)\n",
      "partitions tensor(0.0451)\n",
      "cage tensor(0.0415)\n",
      "29\n",
      "coyote tensor(0.1295)\n",
      "cats tensor(0.0645)\n",
      "camera tensor(0.0622)\n",
      "wheel tensor(0.0489)\n",
      "utter tensor(0.0482)\n",
      "regulator tensor(0.0432)\n",
      "church tensor(0.0371)\n",
      "gong tensor(0.0314)\n",
      "wolf tensor(0.0314)\n",
      "30\n",
      "cape tensor(0.0575)\n",
      "chow tensor(0.0565)\n",
      "crochet tensor(0.0437)\n",
      "skirt tensor(0.0398)\n",
      "fur tensor(0.0340)\n",
      "fluffy tensor(0.0281)\n",
      "umbrella tensor(0.0253)\n",
      "romanian tensor(0.0250)\n",
      "bohemian tensor(0.0248)\n",
      "31\n",
      "whistle tensor(0.0903)\n",
      "camera tensor(0.0582)\n",
      "joystick tensor(0.0495)\n",
      "indicate tensor(0.0474)\n",
      "alibaba tensor(0.0467)\n",
      "mop tensor(0.0424)\n",
      "adjustable tensor(0.0370)\n",
      "pottery tensor(0.0362)\n",
      "connector tensor(0.0353)\n",
      "32\n",
      "frog tensor(0.0729)\n",
      "capped tensor(0.0614)\n",
      "pillar tensor(0.0576)\n",
      "cucumber tensor(0.0550)\n",
      "bottle tensor(0.0535)\n",
      "vases tensor(0.0495)\n",
      "half tensor(0.0478)\n",
      "jar tensor(0.0473)\n",
      "mortar tensor(0.0408)\n",
      "33\n",
      "armor tensor(0.1294)\n",
      "statue tensor(0.1137)\n",
      "plaque tensor(0.1133)\n",
      "pineapple tensor(0.0689)\n",
      "dried tensor(0.0625)\n",
      "gorilla tensor(0.0573)\n",
      "ape tensor(0.0455)\n",
      "pewter tensor(0.0452)\n",
      "carving tensor(0.0433)\n",
      "34\n",
      "zoo tensor(0.1254)\n",
      "endangered tensor(0.1013)\n",
      "bridge tensor(0.0719)\n",
      "venice tensor(0.0685)\n",
      "ape tensor(0.0673)\n",
      "river tensor(0.0611)\n",
      "diving tensor(0.0507)\n",
      "canoe tensor(0.0483)\n",
      "cave tensor(0.0423)\n",
      "35\n",
      "gong tensor(0.1069)\n",
      "shark tensor(0.0773)\n",
      "drum tensor(0.0713)\n",
      "camel tensor(0.0660)\n",
      "trout tensor(0.0570)\n",
      "brass tensor(0.0547)\n",
      "hath tensor(0.0351)\n",
      "bell tensor(0.0346)\n",
      "carp tensor(0.0338)\n",
      "36\n",
      "canal tensor(0.0727)\n",
      "tubs tensor(0.0663)\n",
      "submarine tensor(0.0662)\n",
      "dam tensor(0.0480)\n",
      "trailer tensor(0.0480)\n",
      "remodeling tensor(0.0441)\n",
      "dams tensor(0.0430)\n",
      "limousines tensor(0.0426)\n",
      "recreational tensor(0.0335)\n",
      "37\n",
      "bag tensor(0.1013)\n",
      "hooded tensor(0.0657)\n",
      "dane tensor(0.0656)\n",
      "bloodhound tensor(0.0527)\n",
      "phd tensor(0.0490)\n",
      "cape tensor(0.0474)\n",
      "retriever tensor(0.0446)\n",
      "outerwear tensor(0.0429)\n",
      "leather tensor(0.0426)\n",
      "38\n",
      "outfit tensor(0.0563)\n",
      "stocking tensor(0.0536)\n",
      "sleeve tensor(0.0517)\n",
      "statue tensor(0.0423)\n",
      "modeled tensor(0.0422)\n",
      "wore tensor(0.0364)\n",
      "holding tensor(0.0359)\n",
      "hang tensor(0.0280)\n",
      "cone tensor(0.0260)\n",
      "39\n",
      "cats tensor(0.2451)\n",
      "retriever tensor(0.1423)\n",
      "leopard tensor(0.1290)\n",
      "springer tensor(0.1175)\n",
      "pussycat tensor(0.0641)\n",
      "pussy tensor(0.0569)\n",
      "tiger tensor(0.0463)\n",
      "lion tensor(0.0440)\n",
      "bulgarian tensor(0.0436)\n",
      "40\n",
      "kettle tensor(0.1148)\n",
      "car tensor(0.1029)\n",
      "shoes tensor(0.0792)\n",
      "dinnerware tensor(0.0745)\n",
      "limo tensor(0.0496)\n",
      "housewares tensor(0.0468)\n",
      "railway tensor(0.0450)\n",
      "yorkshire tensor(0.0366)\n",
      "chevrolet tensor(0.0352)\n",
      "41\n",
      "desert tensor(0.0974)\n",
      "baseball tensor(0.0823)\n",
      "canyon tensor(0.0511)\n",
      "roof tensor(0.0498)\n",
      "clay tensor(0.0478)\n",
      "erosion tensor(0.0455)\n",
      "arid tensor(0.0414)\n",
      "leather tensor(0.0380)\n",
      "blush tensor(0.0333)\n",
      "42\n",
      "digging tensor(0.0600)\n",
      "foliage tensor(0.0596)\n",
      "hiking tensor(0.0589)\n",
      "habitat tensor(0.0569)\n",
      "dried tensor(0.0502)\n",
      "puzzle tensor(0.0489)\n",
      "stream tensor(0.0448)\n",
      "creek tensor(0.0441)\n",
      "vegetation tensor(0.0401)\n",
      "43\n",
      "monkey tensor(0.1494)\n",
      "mortar tensor(0.0543)\n",
      "dicke tensor(0.0511)\n",
      "rocks tensor(0.0455)\n",
      "iron tensor(0.0436)\n",
      "birds tensor(0.0422)\n",
      "bird tensor(0.0397)\n",
      "axes tensor(0.0384)\n",
      "fauna tensor(0.0379)\n",
      "44\n",
      "shoes tensor(0.2105)\n",
      "armor tensor(0.1428)\n",
      "leather tensor(0.1014)\n",
      "knee tensor(0.0737)\n",
      "holster tensor(0.0664)\n",
      "crocodile tensor(0.0517)\n",
      "beetle tensor(0.0485)\n",
      "padded tensor(0.0463)\n",
      "scat tensor(0.0442)\n",
      "45\n",
      "bedding tensor(0.2048)\n",
      "prone tensor(0.0705)\n",
      "newborn tensor(0.0702)\n",
      "couch tensor(0.0589)\n",
      "sofa tensor(0.0542)\n",
      "pillow tensor(0.0461)\n",
      "laying tensor(0.0448)\n",
      "sofas tensor(0.0413)\n",
      "suite tensor(0.0378)\n",
      "46\n",
      "curly tensor(0.1554)\n",
      "broccoli tensor(0.0966)\n",
      "exterior tensor(0.0928)\n",
      "printer tensor(0.0404)\n",
      "lam tensor(0.0382)\n",
      "crab tensor(0.0379)\n",
      "frog tensor(0.0311)\n",
      "stuffed tensor(0.0292)\n",
      "galloway tensor(0.0289)\n",
      "47\n",
      "closet tensor(0.0647)\n",
      "soaring tensor(0.0523)\n",
      "helix tensor(0.0408)\n",
      "refrigerator tensor(0.0377)\n",
      "pendant tensor(0.0352)\n",
      "flare tensor(0.0346)\n",
      "shark tensor(0.0321)\n",
      "reversible tensor(0.0308)\n",
      "lamp tensor(0.0295)\n",
      "48\n",
      "cabbage tensor(0.0786)\n",
      "basket tensor(0.0504)\n",
      "cradle tensor(0.0488)\n",
      "spider tensor(0.0453)\n",
      "rope tensor(0.0443)\n",
      "bike tensor(0.0406)\n",
      "cobra tensor(0.0363)\n",
      "sling tensor(0.0342)\n",
      "retaining tensor(0.0297)\n",
      "49\n",
      "ape tensor(0.1148)\n",
      "gorilla tensor(0.0745)\n",
      "stereo tensor(0.0725)\n",
      "lizard tensor(0.0695)\n",
      "atm tensor(0.0677)\n",
      "lcd tensor(0.0587)\n",
      "terminal tensor(0.0538)\n",
      "hifi tensor(0.0504)\n",
      "cavalier tensor(0.0396)\n"
     ]
    },
    {
     "data": {
      "text/plain": [
       "torch.Size([50, 100])"
      ]
     },
     "execution_count": 17,
     "metadata": {},
     "output_type": "execute_result"
    }
   ],
   "source": [
    "all_ids = []\n",
    "for i, target_neuron in enumerate(target_neurons):\n",
    "    print(target_neuron)\n",
    "    vals, ids = torch.sort(W_g[i], descending=True)\n",
    "    all_ids.append(ids[:100])\n",
    "    for i, id in enumerate(ids[:9]):\n",
    "        print(text[id], vals[i])\n",
    "all_ids = torch.stack(all_ids, dim=0)\n",
    "all_ids.shape"
   ]
  },
  {
   "cell_type": "code",
   "execution_count": 18,
   "id": "2d3408b9-a0b1-49c1-a687-2a3bd98eb59a",
   "metadata": {},
   "outputs": [
    {
     "name": "stdout",
     "output_type": "stream",
     "text": [
      "Loss:0.1452\n",
      "Avg corr:0.5282\n"
     ]
    }
   ],
   "source": [
    "corrs = []\n",
    "loss_fn = torch.nn.MSELoss()\n",
    "simulated = linear(val_data)*target_std + target_mean\n",
    "target = val_target*target_std + target_mean\n",
    "\n",
    "print(\"Loss:{:.4f}\".format(loss_fn(simulated, target)))\n",
    "for i, target_neuron in enumerate(target_neurons):\n",
    "    corr_coefficient = np.corrcoef(target[:, i].cpu(), simulated[:, i].cpu().detach())[0, 1]\n",
    "    corrs.append(corr_coefficient)\n",
    "    #print(\"Neuron:{}, Correlation: {:.3f}\".format(target_neuron, corr_coefficient))\n",
    "print(\"Avg corr:{:.4f}\".format(np.mean(corrs)))"
   ]
  },
  {
   "cell_type": "code",
   "execution_count": 19,
   "id": "46f870c5-a7be-4411-8011-e91a546f6835",
   "metadata": {},
   "outputs": [
    {
     "name": "stdout",
     "output_type": "stream",
     "text": [
      "0\n",
      "['refill', 'stainless', 'bottle', 'cosmetic', 'adjustable']\n",
      "1\n",
      "signage sign tensor(0.8394, device='cuda:0')\n",
      "fade barber tensor(0.6741, device='cuda:0')\n",
      "['autographed', 'signage', 'cider', 'fade', 'bottle']\n",
      "2\n",
      "wedding wed tensor(0.9293, device='cuda:0')\n",
      "scientist pharmacist tensor(0.6184, device='cuda:0')\n",
      "['wedding', 'scientist', 'formal', 'whipped', 'anglo']\n",
      "3\n",
      "['gun', 'beaver', 'equipment', 'tomcat', 'cruise']\n",
      "4\n",
      "['carton', 'shaping', 'sandwich', 'teaching', 'squash']\n",
      "5\n",
      "['larvae', 'sausage', 'bottle', 'pens', 'weapons']\n",
      "6\n",
      "terrier ginger tensor(0.5749, device='cuda:0')\n",
      "['formal', 'terrier', 'uniform', 'monkey', 'doctor']\n",
      "7\n",
      "lifting bodybuilding tensor(0.7422, device='cuda:0')\n",
      "['grizzly', 'lifting', 'adjustable', 'dug', 'safe']\n",
      "8\n",
      "utensils tablespoons tensor(0.6460, device='cuda:0')\n",
      "elephant mammoth tensor(0.7465, device='cuda:0')\n",
      "['elephant', 'hog', 'arch', 'utensils', 'swan']\n",
      "9\n",
      "sailing yacht tensor(0.8636, device='cuda:0')\n",
      "['sailing', 'greenhouse', 'labor', 'wore', 'dragonfly']\n",
      "10\n",
      "['cur', 'arch', 'flames', 'altar', 'celebration']\n",
      "11\n",
      "bookshelf library tensor(0.6567, device='cuda:0')\n",
      "['bookshelf', 'gorilla', 'axel', 'kit', 'cylinder']\n",
      "12\n",
      "rainforest monkey tensor(0.5269, device='cuda:0')\n",
      "['grows', 'rainforest', 'soup', 'vegetarian', 'ibis']\n",
      "13\n",
      "['anglo', 'springer', 'bernard', 'pembroke', 'blogroll']\n",
      "14\n",
      "uniformly officers tensor(0.6783, device='cuda:0')\n",
      "formal groom tensor(0.5989, device='cuda:0')\n",
      "['formal', 'uniformly', 'peoples', 'casino', 'students']\n",
      "15\n",
      "['soup', 'bucket', 'stir', 'bowl', 'tubs']\n",
      "16\n",
      "['taxi', 'amusement', 'cho', 'carriage', 'metro']\n",
      "17\n",
      "['fossil', 'ape', 'spider', 'topped', 'dinosaur']\n",
      "18\n",
      "corn kernels tensor(0.7229, device='cuda:0')\n",
      "['corn', 'squash', 'grizzly', 'ruler', 'topped']\n",
      "19\n",
      "['frog', 'boa', 'decorated', 'dishes', 'bedding']\n",
      "20\n",
      "['whirlpool', 'tub', 'fluffy', 'copier', 'atm']\n",
      "21\n",
      "glassware glass tensor(0.7917, device='cuda:0')\n",
      "['glassware', 'bubble', 'bottled', 'dessert', 'clear']\n",
      "22\n",
      "['cabbage', 'beaver', 'spherical', 'observatory', 'bear']\n",
      "23\n",
      "fluffy fuzzy tensor(0.8571, device='cuda:0')\n",
      "['fluffy', 'yellowstone', 'fish', 'axel', 'frog']\n",
      "24\n",
      "jeans denim tensor(0.8211, device='cuda:0')\n",
      "mariner ship tensor(0.6492, device='cuda:0')\n",
      "['jeans', 'shoes', 'mariner', 'fisheries', 'shark']\n",
      "25\n",
      "chair chaired tensor(0.6208, device='cuda:0')\n",
      "['chair', 'bike', 'stroller', 'holster', 'wheelchair']\n",
      "26\n",
      "['beetle', 'peacock', 'brushes', 'ave', 'traditional']\n",
      "27\n",
      "['long', 'cats', 'knife', 'greyhound', 'sperm']\n",
      "28\n",
      "['cages', 'guitar', 'husky', 'library', 'window']\n",
      "29\n",
      "['coyote', 'cats', 'camera', 'wheel', 'utter']\n",
      "30\n",
      "['cape', 'chow', 'crochet', 'skirt', 'fur']\n",
      "31\n",
      "whistle indicate tensor(0.5024, device='cuda:0')\n",
      "['whistle', 'camera', 'joystick', 'alibaba', 'mop']\n",
      "32\n",
      "['frog', 'capped', 'pillar', 'cucumber', 'bottle']\n",
      "33\n",
      "['armor', 'statue', 'plaque', 'pineapple', 'dried']\n",
      "34\n",
      "zoo endangered tensor(0.6196, device='cuda:0')\n",
      "['zoo', 'bridge', 'venice', 'ape', 'river']\n",
      "35\n",
      "gong drum tensor(0.5390, device='cuda:0')\n",
      "['gong', 'shark', 'camel', 'trout', 'brass']\n",
      "36\n",
      "['canal', 'tubs', 'submarine', 'dam', 'trailer']\n",
      "37\n",
      "['bag', 'hooded', 'dane', 'bloodhound', 'phd']\n",
      "38\n",
      "['outfit', 'stocking', 'sleeve', 'statue', 'modeled']\n",
      "39\n",
      "cats pussycat tensor(0.8565, device='cuda:0')\n",
      "cats pussy tensor(0.6705, device='cuda:0')\n",
      "leopard tiger tensor(0.6097, device='cuda:0')\n",
      "['cats', 'retriever', 'leopard', 'springer', 'lion']\n",
      "40\n",
      "['kettle', 'car', 'shoes', 'dinnerware', 'limo']\n",
      "41\n",
      "['desert', 'baseball', 'canyon', 'roof', 'clay']\n",
      "42\n",
      "['digging', 'foliage', 'hiking', 'habitat', 'dried']\n",
      "43\n",
      "['monkey', 'mortar', 'dicke', 'rocks', 'iron']\n",
      "44\n",
      "['shoes', 'armor', 'leather', 'knee', 'holster']\n",
      "45\n",
      "couch sofa tensor(0.8981, device='cuda:0')\n",
      "bedding pillow tensor(0.5294, device='cuda:0')\n",
      "['bedding', 'prone', 'newborn', 'couch', 'laying']\n",
      "46\n",
      "['curly', 'broccoli', 'exterior', 'printer', 'lam']\n",
      "47\n",
      "['closet', 'soaring', 'helix', 'refrigerator', 'pendant']\n",
      "48\n",
      "['cabbage', 'basket', 'cradle', 'spider', 'rope']\n",
      "49\n",
      "ape gorilla tensor(0.8078, device='cuda:0')\n",
      "['ape', 'stereo', 'lizard', 'atm', 'lcd']\n"
     ]
    }
   ],
   "source": [
    "all_finetune_ids = []\n",
    "for i, neuron in enumerate(target_neurons):\n",
    "    print(neuron)\n",
    "    finetune_ids = []\n",
    "    for ind in all_ids[i]:\n",
    "        independent = True\n",
    "        for ft_id in finetune_ids:\n",
    "            corr = (train_data[:, ind]@train_data[:, ft_id])/len(train_data)\n",
    "            if corr > 0.5:\n",
    "                print(text[ft_id], text[ind], corr)\n",
    "                independent = False\n",
    "        if independent:\n",
    "            finetune_ids.append(ind)\n",
    "        if len(finetune_ids) > 4:\n",
    "            break\n",
    "    print([text[id] for id in finetune_ids])\n",
    "    all_finetune_ids.append(torch.tensor(finetune_ids))\n",
    "all_finetune_ids = torch.stack(all_finetune_ids, dim=0)\n",
    "#all_finetune_ids"
   ]
  },
  {
   "cell_type": "markdown",
   "id": "3038e6c0-a49a-4b3a-b2e4-d3b0d4ba5a5d",
   "metadata": {},
   "source": [
    "## Finetune results"
   ]
  },
  {
   "cell_type": "code",
   "execution_count": 20,
   "id": "ae7214a2-9ac2-4ada-aa3f-0384824fd9ff",
   "metadata": {},
   "outputs": [
    {
     "name": "stdout",
     "output_type": "stream",
     "text": [
      "\n",
      "Neuron: 0\n",
      "Epoch: 1, Loss: 0.1682\n",
      "Epoch: 5000, Loss: 0.1286\n",
      "Epoch: 10000, Loss: 0.1286\n",
      "Train Loss:0.1286\n",
      "Val Loss:0.1318\n",
      "Val Correlation: 0.377\n",
      "Bias: 0.293\n",
      "Weights:\n",
      "adjustable 2.382\n",
      "cosmetic 2.052\n",
      "refill 1.755\n",
      "bottle 1.288\n",
      "stainless 1.150\n",
      "\n",
      "Neuron: 1\n",
      "Epoch: 1, Loss: 0.4794\n",
      "Epoch: 5000, Loss: 0.2467\n",
      "Epoch: 10000, Loss: 0.2443\n",
      "Train Loss:0.2443\n",
      "Val Loss:0.2605\n",
      "Val Correlation: 0.330\n",
      "Bias: 0.490\n",
      "Weights:\n",
      "signage 7.004\n",
      "autographed 4.430\n",
      "fade 3.204\n",
      "cider 1.955\n",
      "bottle 1.666\n",
      "\n",
      "Neuron: 2\n",
      "Epoch: 1, Loss: 0.5783\n",
      "Epoch: 5000, Loss: 0.1761\n",
      "Epoch: 10000, Loss: 0.1760\n",
      "Train Loss:0.1760\n",
      "Val Loss:0.1763\n",
      "Val Correlation: 0.398\n",
      "Bias: 0.380\n",
      "Weights:\n",
      "wedding 3.228\n",
      "scientist 3.086\n",
      "formal 1.652\n",
      "whipped 1.515\n",
      "anglo 0.574\n",
      "\n",
      "Neuron: 3\n",
      "Epoch: 1, Loss: 0.2111\n",
      "Epoch: 5000, Loss: 0.1346\n",
      "Epoch: 10000, Loss: 0.1346\n",
      "Train Loss:0.1346\n",
      "Val Loss:0.1377\n",
      "Val Correlation: 0.400\n",
      "Bias: 0.306\n",
      "Weights:\n",
      "cruise 2.516\n",
      "gun 1.644\n",
      "equipment 1.491\n",
      "beaver 0.941\n",
      "tomcat 0.861\n",
      "\n",
      "Neuron: 4\n",
      "Epoch: 1, Loss: 0.5607\n",
      "Epoch: 5000, Loss: 0.2033\n",
      "Epoch: 10000, Loss: 0.2029\n",
      "Train Loss:0.2029\n",
      "Val Loss:0.2005\n",
      "Val Correlation: 0.354\n",
      "Bias: 0.422\n",
      "Weights:\n",
      "teaching 4.317\n",
      "carton 3.578\n",
      "sandwich 2.781\n",
      "shaping 2.639\n",
      "squash 0.830\n",
      "\n",
      "Neuron: 5\n",
      "Epoch: 1, Loss: 1.1471\n",
      "Epoch: 5000, Loss: 0.2564\n",
      "Epoch: 10000, Loss: 0.2559\n",
      "Train Loss:0.2559\n",
      "Val Loss:0.2410\n",
      "Val Correlation: 0.355\n",
      "Bias: 0.394\n",
      "Weights:\n",
      "sausage 3.573\n",
      "weapons 2.624\n",
      "pens 2.265\n",
      "bottle 2.016\n",
      "larvae 1.798\n",
      "\n",
      "Neuron: 6\n",
      "Epoch: 1, Loss: 0.4044\n",
      "Epoch: 5000, Loss: 0.1784\n",
      "Epoch: 10000, Loss: 0.1783\n",
      "Train Loss:0.1783\n",
      "Val Loss:0.1847\n",
      "Val Correlation: 0.402\n",
      "Bias: 0.402\n",
      "Weights:\n",
      "formal 2.743\n",
      "doctor 2.374\n",
      "uniform 1.585\n",
      "terrier 0.801\n",
      "monkey 0.474\n",
      "\n",
      "Neuron: 7\n",
      "Epoch: 1, Loss: 0.3444\n",
      "Epoch: 5000, Loss: 0.2234\n",
      "Epoch: 10000, Loss: 0.2233\n",
      "Train Loss:0.2233\n",
      "Val Loss:0.2260\n",
      "Val Correlation: 0.373\n",
      "Bias: 0.367\n",
      "Weights:\n",
      "adjustable 3.107\n",
      "lifting 2.319\n",
      "safe 1.914\n",
      "grizzly 1.736\n",
      "dug 1.112\n",
      "\n",
      "Neuron: 8\n",
      "Epoch: 1, Loss: 0.5238\n",
      "Epoch: 5000, Loss: 0.1150\n",
      "Epoch: 10000, Loss: 0.1148\n",
      "Train Loss:0.1148\n",
      "Val Loss:0.1052\n",
      "Val Correlation: 0.500\n",
      "Bias: 0.278\n",
      "Weights:\n",
      "elephant 2.905\n",
      "utensils 1.049\n",
      "hog 1.048\n",
      "arch 0.882\n",
      "swan 0.820\n",
      "\n",
      "Neuron: 9\n",
      "Epoch: 1, Loss: 0.8854\n",
      "Epoch: 5000, Loss: 0.1482\n",
      "Epoch: 10000, Loss: 0.1481\n",
      "Train Loss:0.1481\n",
      "Val Loss:0.1595\n",
      "Val Correlation: 0.434\n",
      "Bias: 0.339\n",
      "Weights:\n",
      "sailing 2.300\n",
      "greenhouse 2.255\n",
      "labor 2.212\n",
      "wore 1.365\n",
      "dragonfly 1.159\n",
      "\n",
      "Neuron: 10\n",
      "Epoch: 1, Loss: 0.4947\n",
      "Epoch: 5000, Loss: 0.0533\n",
      "Epoch: 10000, Loss: 0.0533\n",
      "Train Loss:0.0533\n",
      "Val Loss:0.0575\n",
      "Val Correlation: 0.447\n",
      "Bias: 0.193\n",
      "Weights:\n",
      "celebration 1.428\n",
      "flames 0.849\n",
      "arch 0.809\n",
      "altar 0.686\n",
      "cur 0.681\n",
      "\n",
      "Neuron: 11\n",
      "Epoch: 1, Loss: 0.6247\n",
      "Epoch: 5000, Loss: 0.1012\n",
      "Epoch: 10000, Loss: 0.1011\n",
      "Train Loss:0.1011\n",
      "Val Loss:0.0969\n",
      "Val Correlation: 0.470\n",
      "Bias: 0.264\n",
      "Weights:\n",
      "bookshelf 2.729\n",
      "axel 1.710\n",
      "kit 1.522\n",
      "gorilla 1.367\n",
      "cylinder 0.898\n",
      "\n",
      "Neuron: 12\n",
      "Epoch: 1, Loss: 0.6893\n",
      "Epoch: 5000, Loss: 0.2336\n",
      "Epoch: 10000, Loss: 0.2330\n",
      "Train Loss:0.2330\n",
      "Val Loss:0.2241\n",
      "Val Correlation: 0.550\n",
      "Bias: 0.375\n",
      "Weights:\n",
      "rainforest 3.969\n",
      "grows 2.470\n",
      "vegetarian 2.371\n",
      "ibis 1.806\n",
      "soup 1.471\n",
      "\n",
      "Neuron: 13\n",
      "Epoch: 1, Loss: 0.3666\n",
      "Epoch: 5000, Loss: 0.2412\n",
      "Epoch: 10000, Loss: 0.2412\n",
      "Train Loss:0.2412\n",
      "Val Loss:0.2551\n",
      "Val Correlation: 0.355\n",
      "Bias: 0.369\n",
      "Weights:\n",
      "blogroll 1.467\n",
      "anglo 1.319\n",
      "springer 1.015\n",
      "pembroke 0.636\n",
      "bernard 0.280\n",
      "\n",
      "Neuron: 14\n",
      "Epoch: 1, Loss: 0.6737\n",
      "Epoch: 5000, Loss: 0.2016\n",
      "Epoch: 10000, Loss: 0.2011\n",
      "Train Loss:0.2011\n",
      "Val Loss:0.2165\n",
      "Val Correlation: 0.454\n",
      "Bias: 0.454\n",
      "Weights:\n",
      "peoples 4.666\n",
      "formal 2.762\n",
      "casino 2.597\n",
      "uniformly 1.673\n",
      "students 1.476\n",
      "\n",
      "Neuron: 15\n",
      "Epoch: 1, Loss: 0.2198\n",
      "Epoch: 5000, Loss: 0.1627\n",
      "Epoch: 10000, Loss: 0.1627\n",
      "Train Loss:0.1627\n",
      "Val Loss:0.1568\n",
      "Val Correlation: 0.517\n",
      "Bias: 0.323\n",
      "Weights:\n",
      "soup 1.883\n",
      "bucket 1.878\n",
      "bowl 1.394\n",
      "tubs 1.348\n",
      "stir 1.267\n",
      "\n",
      "Neuron: 16\n",
      "Epoch: 1, Loss: 0.3527\n",
      "Epoch: 5000, Loss: 0.2290\n",
      "Epoch: 10000, Loss: 0.2290\n",
      "Train Loss:0.2290\n",
      "Val Loss:0.2380\n",
      "Val Correlation: 0.452\n",
      "Bias: 0.340\n",
      "Weights:\n",
      "amusement 2.831\n",
      "metro 2.470\n",
      "taxi 2.118\n",
      "carriage 1.986\n",
      "cho 1.476\n",
      "\n",
      "Neuron: 17\n",
      "Epoch: 1, Loss: 0.0604\n",
      "Epoch: 5000, Loss: 0.0520\n",
      "Epoch: 10000, Loss: 0.0520\n",
      "Train Loss:0.0520\n",
      "Val Loss:0.0504\n",
      "Val Correlation: 0.370\n",
      "Bias: 0.193\n",
      "Weights:\n",
      "fossil 0.884\n",
      "topped 0.738\n",
      "dinosaur 0.660\n",
      "spider 0.492\n",
      "ape 0.467\n",
      "\n",
      "Neuron: 18\n",
      "Epoch: 1, Loss: 0.2847\n",
      "Epoch: 5000, Loss: 0.1242\n",
      "Epoch: 10000, Loss: 0.1242\n",
      "Train Loss:0.1242\n",
      "Val Loss:0.1163\n",
      "Val Correlation: 0.309\n",
      "Bias: 0.334\n",
      "Weights:\n",
      "corn 1.813\n",
      "ruler 1.132\n",
      "topped 0.952\n",
      "squash 0.944\n",
      "grizzly 0.778\n",
      "\n",
      "Neuron: 19\n",
      "Epoch: 1, Loss: 0.2323\n",
      "Epoch: 5000, Loss: 0.1307\n",
      "Epoch: 10000, Loss: 0.1307\n",
      "Train Loss:0.1307\n",
      "Val Loss:0.1387\n",
      "Val Correlation: 0.329\n",
      "Bias: 0.287\n",
      "Weights:\n",
      "decorated 1.491\n",
      "bedding 1.220\n",
      "frog 1.150\n",
      "boa 1.052\n",
      "dishes 0.960\n",
      "\n",
      "Neuron: 20\n",
      "Epoch: 1, Loss: 0.5427\n",
      "Epoch: 5000, Loss: 0.1168\n",
      "Epoch: 10000, Loss: 0.1167\n",
      "Train Loss:0.1167\n",
      "Val Loss:0.1192\n",
      "Val Correlation: 0.335\n",
      "Bias: 0.331\n",
      "Weights:\n",
      "whirlpool 2.229\n",
      "copier 1.312\n",
      "atm 1.113\n",
      "tub 0.994\n",
      "fluffy 0.272\n",
      "\n",
      "Neuron: 21\n",
      "Epoch: 1, Loss: 0.2531\n",
      "Epoch: 5000, Loss: 0.1733\n",
      "Epoch: 10000, Loss: 0.1732\n",
      "Train Loss:0.1732\n",
      "Val Loss:0.1629\n",
      "Val Correlation: 0.530\n",
      "Bias: 0.390\n",
      "Weights:\n",
      "glassware 3.357\n",
      "clear 2.960\n",
      "bubble 2.133\n",
      "bottled 1.729\n",
      "dessert 1.704\n",
      "\n",
      "Neuron: 22\n",
      "Epoch: 1, Loss: 0.4160\n",
      "Epoch: 5000, Loss: 0.1830\n",
      "Epoch: 10000, Loss: 0.1830\n",
      "Train Loss:0.1830\n",
      "Val Loss:0.1826\n",
      "Val Correlation: 0.337\n",
      "Bias: 0.357\n",
      "Weights:\n",
      "cabbage 1.837\n",
      "observatory 1.549\n",
      "beaver 1.494\n",
      "spherical 1.269\n",
      "bear 0.832\n",
      "\n",
      "Neuron: 23\n",
      "Epoch: 1, Loss: 0.8128\n",
      "Epoch: 5000, Loss: 0.1318\n",
      "Epoch: 10000, Loss: 0.1318\n",
      "Train Loss:0.1318\n",
      "Val Loss:0.1194\n",
      "Val Correlation: 0.303\n",
      "Bias: 0.283\n",
      "Weights:\n",
      "yellowstone 1.794\n",
      "axel 1.192\n",
      "fish 0.731\n",
      "frog 0.721\n",
      "fluffy 0.620\n",
      "\n",
      "Neuron: 24\n",
      "Epoch: 1, Loss: 0.3721\n",
      "Epoch: 5000, Loss: 0.2179\n",
      "Epoch: 10000, Loss: 0.2130\n",
      "Train Loss:0.2130\n",
      "Val Loss:0.2379\n",
      "Val Correlation: 0.424\n",
      "Bias: 0.432\n",
      "Weights:\n",
      "jeans 7.525\n",
      "mariner 1.341\n",
      "shoes 1.310\n",
      "fisheries 0.568\n",
      "shark 0.553\n",
      "\n",
      "Neuron: 25\n",
      "Epoch: 1, Loss: 0.2531\n",
      "Epoch: 5000, Loss: 0.1988\n",
      "Epoch: 10000, Loss: 0.1988\n",
      "Train Loss:0.1988\n",
      "Val Loss:0.2058\n",
      "Val Correlation: 0.397\n",
      "Bias: 0.374\n",
      "Weights:\n",
      "wheelchair 2.295\n",
      "chair 2.201\n",
      "holster 2.154\n",
      "stroller 2.098\n",
      "bike 2.037\n",
      "\n",
      "Neuron: 26\n",
      "Epoch: 1, Loss: 0.8974\n",
      "Epoch: 5000, Loss: 0.1763\n",
      "Epoch: 10000, Loss: 0.1763\n",
      "Train Loss:0.1763\n",
      "Val Loss:0.1759\n",
      "Val Correlation: 0.332\n",
      "Bias: 0.299\n",
      "Weights:\n",
      "beetle 2.061\n",
      "brushes 1.766\n",
      "peacock 1.481\n",
      "traditional 0.972\n",
      "ave 0.604\n",
      "\n",
      "Neuron: 27\n",
      "Epoch: 1, Loss: 0.2960\n",
      "Epoch: 5000, Loss: 0.1362\n",
      "Epoch: 10000, Loss: 0.1362\n",
      "Train Loss:0.1362\n",
      "Val Loss:0.1444\n",
      "Val Correlation: 0.341\n",
      "Bias: 0.310\n",
      "Weights:\n",
      "sperm 3.128\n",
      "knife 1.571\n",
      "cats 1.477\n",
      "long 1.237\n",
      "greyhound 0.767\n",
      "\n",
      "Neuron: 28\n",
      "Epoch: 1, Loss: 0.3626\n",
      "Epoch: 5000, Loss: 0.1807\n",
      "Epoch: 10000, Loss: 0.1806\n",
      "Train Loss:0.1806\n",
      "Val Loss:0.1829\n",
      "Val Correlation: 0.434\n",
      "Bias: 0.328\n",
      "Weights:\n",
      "cages 2.893\n",
      "library 2.389\n",
      "guitar 1.767\n",
      "husky 1.719\n",
      "window 1.346\n",
      "\n",
      "Neuron: 29\n",
      "Epoch: 1, Loss: 0.1422\n",
      "Epoch: 5000, Loss: 0.1202\n",
      "Epoch: 10000, Loss: 0.1202\n",
      "Train Loss:0.1202\n",
      "Val Loss:0.1333\n",
      "Val Correlation: 0.323\n",
      "Bias: 0.277\n",
      "Weights:\n",
      "coyote 1.565\n",
      "wheel 1.438\n",
      "camera 1.284\n",
      "cats 0.877\n",
      "utter 0.607\n",
      "\n",
      "Neuron: 30\n",
      "Epoch: 1, Loss: 0.1290\n",
      "Epoch: 5000, Loss: 0.1107\n",
      "Epoch: 10000, Loss: 0.1107\n",
      "Train Loss:0.1107\n",
      "Val Loss:0.1095\n",
      "Val Correlation: 0.278\n",
      "Bias: 0.329\n",
      "Weights:\n",
      "crochet 1.179\n",
      "skirt 1.010\n",
      "cape 0.914\n",
      "chow 0.645\n",
      "fur 0.412\n",
      "\n",
      "Neuron: 31\n",
      "Epoch: 1, Loss: 0.1778\n",
      "Epoch: 5000, Loss: 0.1608\n",
      "Epoch: 10000, Loss: 0.1607\n",
      "Train Loss:0.1607\n",
      "Val Loss:0.1436\n",
      "Val Correlation: 0.302\n",
      "Bias: 0.349\n",
      "Weights:\n",
      "alibaba 5.522\n",
      "whistle 2.419\n",
      "joystick 1.937\n",
      "camera 1.582\n",
      "mop 1.075\n",
      "\n",
      "Neuron: 32\n",
      "Epoch: 1, Loss: 0.3166\n",
      "Epoch: 5000, Loss: 0.1525\n",
      "Epoch: 10000, Loss: 0.1525\n",
      "Train Loss:0.1525\n",
      "Val Loss:0.1557\n",
      "Val Correlation: 0.337\n",
      "Bias: 0.339\n",
      "Weights:\n",
      "cucumber 1.784\n",
      "bottle 1.747\n",
      "pillar 1.369\n",
      "frog 1.037\n",
      "capped 0.791\n",
      "\n",
      "Neuron: 33\n",
      "Epoch: 1, Loss: 0.2680\n",
      "Epoch: 5000, Loss: 0.1561\n",
      "Epoch: 10000, Loss: 0.1561\n",
      "Train Loss:0.1561\n",
      "Val Loss:0.1668\n",
      "Val Correlation: 0.400\n",
      "Bias: 0.299\n",
      "Weights:\n",
      "plaque 2.804\n",
      "statue 2.037\n",
      "armor 1.884\n",
      "dried 1.729\n",
      "pineapple 1.629\n",
      "\n",
      "Neuron: 34\n",
      "Epoch: 1, Loss: 0.9218\n",
      "Epoch: 5000, Loss: 0.3739\n",
      "Epoch: 10000, Loss: 0.3718\n",
      "Train Loss:0.3718\n",
      "Val Loss:0.3689\n",
      "Val Correlation: 0.516\n",
      "Bias: 0.562\n",
      "Weights:\n",
      "river 4.799\n",
      "venice 2.693\n",
      "zoo 2.138\n",
      "ape 1.753\n",
      "bridge 1.321\n",
      "\n",
      "Neuron: 35\n",
      "Epoch: 1, Loss: 0.4582\n",
      "Epoch: 5000, Loss: 0.1961\n",
      "Epoch: 10000, Loss: 0.1961\n",
      "Train Loss:0.1961\n",
      "Val Loss:0.1956\n",
      "Val Correlation: 0.381\n",
      "Bias: 0.341\n",
      "Weights:\n",
      "gong 2.278\n",
      "camel 2.030\n",
      "trout 1.938\n",
      "brass 1.335\n",
      "shark 1.141\n",
      "\n",
      "Neuron: 36\n",
      "Epoch: 1, Loss: 0.4043\n",
      "Epoch: 5000, Loss: 0.1478\n",
      "Epoch: 10000, Loss: 0.1478\n",
      "Train Loss:0.1478\n",
      "Val Loss:0.1527\n",
      "Val Correlation: 0.398\n",
      "Bias: 0.360\n",
      "Weights:\n",
      "trailer 2.172\n",
      "dam 1.977\n",
      "canal 1.974\n",
      "submarine 1.745\n",
      "tubs 1.704\n",
      "\n",
      "Neuron: 37\n",
      "Epoch: 1, Loss: 0.2805\n",
      "Epoch: 5000, Loss: 0.1322\n",
      "Epoch: 10000, Loss: 0.1322\n",
      "Train Loss:0.1322\n",
      "Val Loss:0.1397\n",
      "Val Correlation: 0.389\n",
      "Bias: 0.317\n",
      "Weights:\n",
      "bag 2.046\n",
      "hooded 1.709\n",
      "phd 1.595\n",
      "bloodhound 1.184\n",
      "dane 0.813\n",
      "\n",
      "Neuron: 38\n",
      "Epoch: 1, Loss: 0.4805\n",
      "Epoch: 5000, Loss: 0.0534\n",
      "Epoch: 10000, Loss: 0.0534\n",
      "Train Loss:0.0534\n",
      "Val Loss:0.0530\n",
      "Val Correlation: 0.326\n",
      "Bias: 0.269\n",
      "Weights:\n",
      "outfit 1.735\n",
      "stocking 0.658\n",
      "sleeve 0.646\n",
      "statue 0.600\n",
      "modeled 0.446\n",
      "\n",
      "Neuron: 39\n",
      "Epoch: 1, Loss: 0.4280\n",
      "Epoch: 5000, Loss: 0.2303\n",
      "Epoch: 10000, Loss: 0.2258\n",
      "Train Loss:0.2258\n",
      "Val Loss:0.2218\n",
      "Val Correlation: 0.589\n",
      "Bias: 0.339\n",
      "Weights:\n",
      "cats 5.815\n",
      "leopard 2.527\n",
      "lion 1.690\n",
      "retriever 1.581\n",
      "springer 1.435\n",
      "\n",
      "Neuron: 40\n",
      "Epoch: 1, Loss: 0.2890\n",
      "Epoch: 5000, Loss: 0.1042\n",
      "Epoch: 10000, Loss: 0.1042\n",
      "Train Loss:0.1042\n",
      "Val Loss:0.1087\n",
      "Val Correlation: 0.397\n",
      "Bias: 0.297\n",
      "Weights:\n",
      "car 2.099\n",
      "dinnerware 1.949\n",
      "kettle 1.474\n",
      "shoes 1.219\n",
      "limo 0.978\n",
      "\n",
      "Neuron: 41\n",
      "Epoch: 1, Loss: 1.0261\n",
      "Epoch: 5000, Loss: 0.1662\n",
      "Epoch: 10000, Loss: 0.1656\n",
      "Train Loss:0.1656\n",
      "Val Loss:0.1538\n",
      "Val Correlation: 0.346\n",
      "Bias: 0.402\n",
      "Weights:\n",
      "desert 3.767\n",
      "baseball 1.485\n",
      "roof 1.351\n",
      "clay 1.339\n",
      "canyon 1.073\n",
      "\n",
      "Neuron: 42\n",
      "Epoch: 1, Loss: 0.4331\n",
      "Epoch: 5000, Loss: 0.1263\n",
      "Epoch: 10000, Loss: 0.1263\n",
      "Train Loss:0.1263\n",
      "Val Loss:0.1304\n",
      "Val Correlation: 0.350\n",
      "Bias: 0.322\n",
      "Weights:\n",
      "hiking 1.924\n",
      "foliage 1.434\n",
      "dried 1.017\n",
      "digging 0.694\n",
      "habitat 0.583\n",
      "\n",
      "Neuron: 43\n",
      "Epoch: 1, Loss: 0.1440\n",
      "Epoch: 5000, Loss: 0.1266\n",
      "Epoch: 10000, Loss: 0.1266\n",
      "Train Loss:0.1266\n",
      "Val Loss:0.1275\n",
      "Val Correlation: 0.333\n",
      "Bias: 0.269\n",
      "Weights:\n",
      "iron 1.043\n",
      "monkey 1.032\n",
      "rocks 0.972\n",
      "dicke 0.966\n",
      "mortar 0.946\n",
      "\n",
      "Neuron: 44\n",
      "Epoch: 1, Loss: 0.0972\n",
      "Epoch: 5000, Loss: 0.0758\n",
      "Epoch: 10000, Loss: 0.0758\n",
      "Train Loss:0.0758\n",
      "Val Loss:0.0784\n",
      "Val Correlation: 0.423\n",
      "Bias: 0.261\n",
      "Weights:\n",
      "knee 2.185\n",
      "shoes 2.126\n",
      "leather 1.373\n",
      "armor 1.164\n",
      "holster 0.894\n",
      "\n",
      "Neuron: 45\n",
      "Epoch: 1, Loss: 0.4161\n",
      "Epoch: 5000, Loss: 0.1903\n",
      "Epoch: 10000, Loss: 0.1880\n",
      "Train Loss:0.1880\n",
      "Val Loss:0.1945\n",
      "Val Correlation: 0.572\n",
      "Bias: 0.343\n",
      "Weights:\n",
      "bedding 5.145\n",
      "couch 2.202\n",
      "newborn 2.026\n",
      "prone 1.284\n",
      "laying 0.588\n",
      "\n",
      "Neuron: 46\n",
      "Epoch: 1, Loss: 0.8167\n",
      "Epoch: 5000, Loss: 0.1459\n",
      "Epoch: 10000, Loss: 0.1458\n",
      "Train Loss:0.1458\n",
      "Val Loss:0.1393\n",
      "Val Correlation: 0.311\n",
      "Bias: 0.355\n",
      "Weights:\n",
      "exterior 3.425\n",
      "broccoli 1.861\n",
      "printer 1.434\n",
      "curly 1.033\n",
      "lam 0.363\n",
      "\n",
      "Neuron: 47\n",
      "Epoch: 1, Loss: 0.3527\n",
      "Epoch: 5000, Loss: 0.2203\n",
      "Epoch: 10000, Loss: 0.2203\n",
      "Train Loss:0.2203\n",
      "Val Loss:0.2246\n",
      "Val Correlation: 0.372\n",
      "Bias: 0.432\n",
      "Weights:\n",
      "pendant 3.243\n",
      "closet 2.514\n",
      "helix 2.260\n",
      "refrigerator 1.978\n",
      "soaring 1.389\n",
      "\n",
      "Neuron: 48\n",
      "Epoch: 1, Loss: 0.3297\n",
      "Epoch: 5000, Loss: 0.1310\n",
      "Epoch: 10000, Loss: 0.1310\n",
      "Train Loss:0.1310\n",
      "Val Loss:0.1295\n",
      "Val Correlation: 0.281\n",
      "Bias: 0.377\n",
      "Weights:\n",
      "rope 1.376\n",
      "cabbage 1.372\n",
      "cradle 1.050\n",
      "basket 0.922\n",
      "spider 0.563\n",
      "\n",
      "Neuron: 49\n",
      "Epoch: 1, Loss: 0.9922\n",
      "Epoch: 5000, Loss: 0.2066\n",
      "Epoch: 10000, Loss: 0.2065\n",
      "Train Loss:0.2065\n",
      "Val Loss:0.2243\n",
      "Val Correlation: 0.454\n",
      "Bias: 0.344\n",
      "Weights:\n",
      "atm 3.066\n",
      "lcd 2.114\n",
      "stereo 1.954\n",
      "ape 1.520\n",
      "lizard 0.643\n"
     ]
    }
   ],
   "source": [
    "finetune_train_target = train_target*target_std + target_mean\n",
    "finetune_val_target = val_target*target_std + target_mean\n",
    "\n",
    "result_df = {\"layer\":[], \"unit\":[], \"correlation\":[]}\n",
    "for i in range(5):\n",
    "    result_df[\"weight{}\".format(i)] = []\n",
    "    result_df[\"concept{}\".format(i)] = []\n",
    "result_df[\"bias\"] = []\n",
    "\n",
    "for i, neuron in enumerate(target_neurons):\n",
    "    result_df[\"layer\"].append(target_layer)\n",
    "    result_df[\"unit\"].append(neuron)\n",
    "    print(\"\\nNeuron: {}\".format(neuron))\n",
    "    finetune_texts = [text[id] for id in all_finetune_ids[i]]\n",
    "    finetune_train_data = train_data[:, all_finetune_ids[i]]\n",
    "    finetune_train_data *= train_std[:, all_finetune_ids[i]]\n",
    "    finetune_train_data += train_mean[:, all_finetune_ids[i]]\n",
    "\n",
    "    finetune_val_data = val_data[:, all_finetune_ids[i]]\n",
    "    finetune_val_data *= train_std[:, all_finetune_ids[i]]\n",
    "    finetune_val_data += train_mean[:, all_finetune_ids[i]]\n",
    "    \n",
    "    new_linear = torch.nn.Linear(in_features = finetune_train_data.shape[1], out_features = 1).to(device)\n",
    "    loss_fn = torch.nn.MSELoss()\n",
    "    #optimizer = torch.optim.SGD(new_linear.parameters(), lr=3e-4)\n",
    "    optimizer = torch.optim.Adam(new_linear.parameters(), lr=1e-3, betas=(0.9, 0.999), eps=1e-8)\n",
    "    \n",
    "    for epoch in range(10000):\n",
    "        simulated = new_linear(finetune_train_data)\n",
    "        loss = loss_fn(simulated, finetune_train_target[:, i:i+1])\n",
    "        \n",
    "        optimizer.zero_grad()\n",
    "        loss.backward()\n",
    "        optimizer.step()\n",
    "        if epoch%5000==4999 or epoch==0:\n",
    "            print(f'Epoch: {epoch+1}, Loss: {loss.item():.4f}')\n",
    "\n",
    "    with torch.no_grad():\n",
    "        print(\"Train Loss:{:.4f}\".format(loss_fn(simulated, finetune_train_target[:, i:i+1])))\n",
    "        simulated_val = new_linear(finetune_val_data)\n",
    "        print(\"Val Loss:{:.4f}\".format(loss_fn(simulated_val, finetune_val_target[:, i:i+1])))\n",
    "    corr_coefficient = np.corrcoef(finetune_val_target[:, i].cpu(), simulated_val[:, 0].cpu().detach())[0, 1]\n",
    "    result_df[\"correlation\"].append(corr_coefficient)\n",
    "    print(\"Val Correlation: {:.3f}\".format(corr_coefficient))\n",
    "    \n",
    "    new_vals, new_ids = torch.sort(new_linear.weight[0], descending=True)\n",
    "    bias = float(new_linear.bias)\n",
    "    result_df[\"bias\"].append(bias)\n",
    "    print(\"Weights:\")\n",
    "    for i, id in enumerate(new_ids):\n",
    "        concept, weight = finetune_texts[id], new_vals[i].detach().cpu().numpy()\n",
    "        result_df[\"concept{}\".format(i)].append(concept)\n",
    "        result_df[\"weight{}\".format(i)].append(weight)\n",
    "        print(concept, \"{:.3f}\".format(weight))\n",
    "        print(\"Bias: {:.3f}\".format(bias))"
   ]
  },
  {
   "cell_type": "code",
   "execution_count": 21,
   "id": "0b17ebc3-edc3-4c03-9aad-ec7f696b915a",
   "metadata": {},
   "outputs": [
    {
     "name": "stdout",
     "output_type": "stream",
     "text": [
      "0.3937\n"
     ]
    }
   ],
   "source": [
    "print(\"{:.4f}\".format(np.mean(result_df[\"correlation\"])))"
   ]
  },
  {
   "cell_type": "code",
   "execution_count": 22,
   "id": "17828adc-a0ab-425e-a2d5-2f1b015ea052",
   "metadata": {},
   "outputs": [
    {
     "data": {
      "text/html": [
       "<div>\n",
       "<style scoped>\n",
       "    .dataframe tbody tr th:only-of-type {\n",
       "        vertical-align: middle;\n",
       "    }\n",
       "\n",
       "    .dataframe tbody tr th {\n",
       "        vertical-align: top;\n",
       "    }\n",
       "\n",
       "    .dataframe thead th {\n",
       "        text-align: right;\n",
       "    }\n",
       "</style>\n",
       "<table border=\"1\" class=\"dataframe\">\n",
       "  <thead>\n",
       "    <tr style=\"text-align: right;\">\n",
       "      <th></th>\n",
       "      <th>layer</th>\n",
       "      <th>unit</th>\n",
       "      <th>correlation</th>\n",
       "      <th>weight0</th>\n",
       "      <th>concept0</th>\n",
       "      <th>weight1</th>\n",
       "      <th>concept1</th>\n",
       "      <th>weight2</th>\n",
       "      <th>concept2</th>\n",
       "      <th>weight3</th>\n",
       "      <th>concept3</th>\n",
       "      <th>weight4</th>\n",
       "      <th>concept4</th>\n",
       "      <th>bias</th>\n",
       "    </tr>\n",
       "  </thead>\n",
       "  <tbody>\n",
       "    <tr>\n",
       "      <th>0</th>\n",
       "      <td>layer4</td>\n",
       "      <td>0</td>\n",
       "      <td>0.377215</td>\n",
       "      <td>2.382103</td>\n",
       "      <td>adjustable</td>\n",
       "      <td>2.0521119</td>\n",
       "      <td>cosmetic</td>\n",
       "      <td>1.7552088</td>\n",
       "      <td>refill</td>\n",
       "      <td>1.287842</td>\n",
       "      <td>bottle</td>\n",
       "      <td>1.1503644</td>\n",
       "      <td>stainless</td>\n",
       "      <td>0.293337</td>\n",
       "    </tr>\n",
       "    <tr>\n",
       "      <th>1</th>\n",
       "      <td>layer4</td>\n",
       "      <td>1</td>\n",
       "      <td>0.330263</td>\n",
       "      <td>7.0042024</td>\n",
       "      <td>signage</td>\n",
       "      <td>4.4298377</td>\n",
       "      <td>autographed</td>\n",
       "      <td>3.2038736</td>\n",
       "      <td>fade</td>\n",
       "      <td>1.9549007</td>\n",
       "      <td>cider</td>\n",
       "      <td>1.6659812</td>\n",
       "      <td>bottle</td>\n",
       "      <td>0.489773</td>\n",
       "    </tr>\n",
       "    <tr>\n",
       "      <th>2</th>\n",
       "      <td>layer4</td>\n",
       "      <td>2</td>\n",
       "      <td>0.398274</td>\n",
       "      <td>3.2275984</td>\n",
       "      <td>wedding</td>\n",
       "      <td>3.086292</td>\n",
       "      <td>scientist</td>\n",
       "      <td>1.6521993</td>\n",
       "      <td>formal</td>\n",
       "      <td>1.514733</td>\n",
       "      <td>whipped</td>\n",
       "      <td>0.5744931</td>\n",
       "      <td>anglo</td>\n",
       "      <td>0.380480</td>\n",
       "    </tr>\n",
       "    <tr>\n",
       "      <th>3</th>\n",
       "      <td>layer4</td>\n",
       "      <td>3</td>\n",
       "      <td>0.399916</td>\n",
       "      <td>2.5160763</td>\n",
       "      <td>cruise</td>\n",
       "      <td>1.6443017</td>\n",
       "      <td>gun</td>\n",
       "      <td>1.4908068</td>\n",
       "      <td>equipment</td>\n",
       "      <td>0.9413853</td>\n",
       "      <td>beaver</td>\n",
       "      <td>0.8612078</td>\n",
       "      <td>tomcat</td>\n",
       "      <td>0.305594</td>\n",
       "    </tr>\n",
       "    <tr>\n",
       "      <th>4</th>\n",
       "      <td>layer4</td>\n",
       "      <td>4</td>\n",
       "      <td>0.353505</td>\n",
       "      <td>4.3172197</td>\n",
       "      <td>teaching</td>\n",
       "      <td>3.577893</td>\n",
       "      <td>carton</td>\n",
       "      <td>2.7805684</td>\n",
       "      <td>sandwich</td>\n",
       "      <td>2.6388555</td>\n",
       "      <td>shaping</td>\n",
       "      <td>0.8304039</td>\n",
       "      <td>squash</td>\n",
       "      <td>0.422467</td>\n",
       "    </tr>\n",
       "    <tr>\n",
       "      <th>5</th>\n",
       "      <td>layer4</td>\n",
       "      <td>5</td>\n",
       "      <td>0.355001</td>\n",
       "      <td>3.572888</td>\n",
       "      <td>sausage</td>\n",
       "      <td>2.623857</td>\n",
       "      <td>weapons</td>\n",
       "      <td>2.2646747</td>\n",
       "      <td>pens</td>\n",
       "      <td>2.0156837</td>\n",
       "      <td>bottle</td>\n",
       "      <td>1.7976598</td>\n",
       "      <td>larvae</td>\n",
       "      <td>0.394400</td>\n",
       "    </tr>\n",
       "    <tr>\n",
       "      <th>6</th>\n",
       "      <td>layer4</td>\n",
       "      <td>6</td>\n",
       "      <td>0.401510</td>\n",
       "      <td>2.7432346</td>\n",
       "      <td>formal</td>\n",
       "      <td>2.373991</td>\n",
       "      <td>doctor</td>\n",
       "      <td>1.5851823</td>\n",
       "      <td>uniform</td>\n",
       "      <td>0.8005871</td>\n",
       "      <td>terrier</td>\n",
       "      <td>0.4741193</td>\n",
       "      <td>monkey</td>\n",
       "      <td>0.402444</td>\n",
       "    </tr>\n",
       "    <tr>\n",
       "      <th>7</th>\n",
       "      <td>layer4</td>\n",
       "      <td>7</td>\n",
       "      <td>0.373050</td>\n",
       "      <td>3.1072683</td>\n",
       "      <td>adjustable</td>\n",
       "      <td>2.319222</td>\n",
       "      <td>lifting</td>\n",
       "      <td>1.9144187</td>\n",
       "      <td>safe</td>\n",
       "      <td>1.7363571</td>\n",
       "      <td>grizzly</td>\n",
       "      <td>1.1120399</td>\n",
       "      <td>dug</td>\n",
       "      <td>0.366901</td>\n",
       "    </tr>\n",
       "    <tr>\n",
       "      <th>8</th>\n",
       "      <td>layer4</td>\n",
       "      <td>8</td>\n",
       "      <td>0.499908</td>\n",
       "      <td>2.9047585</td>\n",
       "      <td>elephant</td>\n",
       "      <td>1.048602</td>\n",
       "      <td>utensils</td>\n",
       "      <td>1.0478146</td>\n",
       "      <td>hog</td>\n",
       "      <td>0.8819162</td>\n",
       "      <td>arch</td>\n",
       "      <td>0.8199932</td>\n",
       "      <td>swan</td>\n",
       "      <td>0.277847</td>\n",
       "    </tr>\n",
       "    <tr>\n",
       "      <th>9</th>\n",
       "      <td>layer4</td>\n",
       "      <td>9</td>\n",
       "      <td>0.433692</td>\n",
       "      <td>2.2999315</td>\n",
       "      <td>sailing</td>\n",
       "      <td>2.254897</td>\n",
       "      <td>greenhouse</td>\n",
       "      <td>2.212181</td>\n",
       "      <td>labor</td>\n",
       "      <td>1.3654319</td>\n",
       "      <td>wore</td>\n",
       "      <td>1.1590737</td>\n",
       "      <td>dragonfly</td>\n",
       "      <td>0.339252</td>\n",
       "    </tr>\n",
       "    <tr>\n",
       "      <th>10</th>\n",
       "      <td>layer4</td>\n",
       "      <td>10</td>\n",
       "      <td>0.446659</td>\n",
       "      <td>1.427796</td>\n",
       "      <td>celebration</td>\n",
       "      <td>0.84926045</td>\n",
       "      <td>flames</td>\n",
       "      <td>0.8093053</td>\n",
       "      <td>arch</td>\n",
       "      <td>0.68606657</td>\n",
       "      <td>altar</td>\n",
       "      <td>0.6813522</td>\n",
       "      <td>cur</td>\n",
       "      <td>0.193487</td>\n",
       "    </tr>\n",
       "    <tr>\n",
       "      <th>11</th>\n",
       "      <td>layer4</td>\n",
       "      <td>11</td>\n",
       "      <td>0.469629</td>\n",
       "      <td>2.7290885</td>\n",
       "      <td>bookshelf</td>\n",
       "      <td>1.7103508</td>\n",
       "      <td>axel</td>\n",
       "      <td>1.5219429</td>\n",
       "      <td>kit</td>\n",
       "      <td>1.3667578</td>\n",
       "      <td>gorilla</td>\n",
       "      <td>0.8975593</td>\n",
       "      <td>cylinder</td>\n",
       "      <td>0.264300</td>\n",
       "    </tr>\n",
       "    <tr>\n",
       "      <th>12</th>\n",
       "      <td>layer4</td>\n",
       "      <td>12</td>\n",
       "      <td>0.550396</td>\n",
       "      <td>3.9689124</td>\n",
       "      <td>rainforest</td>\n",
       "      <td>2.4698973</td>\n",
       "      <td>grows</td>\n",
       "      <td>2.3711545</td>\n",
       "      <td>vegetarian</td>\n",
       "      <td>1.8061035</td>\n",
       "      <td>ibis</td>\n",
       "      <td>1.4712245</td>\n",
       "      <td>soup</td>\n",
       "      <td>0.375188</td>\n",
       "    </tr>\n",
       "    <tr>\n",
       "      <th>13</th>\n",
       "      <td>layer4</td>\n",
       "      <td>13</td>\n",
       "      <td>0.355416</td>\n",
       "      <td>1.4667083</td>\n",
       "      <td>blogroll</td>\n",
       "      <td>1.3193511</td>\n",
       "      <td>anglo</td>\n",
       "      <td>1.0150052</td>\n",
       "      <td>springer</td>\n",
       "      <td>0.63630754</td>\n",
       "      <td>pembroke</td>\n",
       "      <td>0.28004926</td>\n",
       "      <td>bernard</td>\n",
       "      <td>0.369227</td>\n",
       "    </tr>\n",
       "    <tr>\n",
       "      <th>14</th>\n",
       "      <td>layer4</td>\n",
       "      <td>14</td>\n",
       "      <td>0.453559</td>\n",
       "      <td>4.6660476</td>\n",
       "      <td>peoples</td>\n",
       "      <td>2.762001</td>\n",
       "      <td>formal</td>\n",
       "      <td>2.5968096</td>\n",
       "      <td>casino</td>\n",
       "      <td>1.6727505</td>\n",
       "      <td>uniformly</td>\n",
       "      <td>1.476308</td>\n",
       "      <td>students</td>\n",
       "      <td>0.453764</td>\n",
       "    </tr>\n",
       "    <tr>\n",
       "      <th>15</th>\n",
       "      <td>layer4</td>\n",
       "      <td>15</td>\n",
       "      <td>0.516622</td>\n",
       "      <td>1.8828355</td>\n",
       "      <td>soup</td>\n",
       "      <td>1.8783807</td>\n",
       "      <td>bucket</td>\n",
       "      <td>1.3942502</td>\n",
       "      <td>bowl</td>\n",
       "      <td>1.3475345</td>\n",
       "      <td>tubs</td>\n",
       "      <td>1.2671077</td>\n",
       "      <td>stir</td>\n",
       "      <td>0.322751</td>\n",
       "    </tr>\n",
       "    <tr>\n",
       "      <th>16</th>\n",
       "      <td>layer4</td>\n",
       "      <td>16</td>\n",
       "      <td>0.452221</td>\n",
       "      <td>2.8312247</td>\n",
       "      <td>amusement</td>\n",
       "      <td>2.4697511</td>\n",
       "      <td>metro</td>\n",
       "      <td>2.1182568</td>\n",
       "      <td>taxi</td>\n",
       "      <td>1.9862992</td>\n",
       "      <td>carriage</td>\n",
       "      <td>1.4756743</td>\n",
       "      <td>cho</td>\n",
       "      <td>0.339779</td>\n",
       "    </tr>\n",
       "    <tr>\n",
       "      <th>17</th>\n",
       "      <td>layer4</td>\n",
       "      <td>17</td>\n",
       "      <td>0.370344</td>\n",
       "      <td>0.88389564</td>\n",
       "      <td>fossil</td>\n",
       "      <td>0.7381647</td>\n",
       "      <td>topped</td>\n",
       "      <td>0.6603824</td>\n",
       "      <td>dinosaur</td>\n",
       "      <td>0.4921124</td>\n",
       "      <td>spider</td>\n",
       "      <td>0.46716416</td>\n",
       "      <td>ape</td>\n",
       "      <td>0.192888</td>\n",
       "    </tr>\n",
       "    <tr>\n",
       "      <th>18</th>\n",
       "      <td>layer4</td>\n",
       "      <td>18</td>\n",
       "      <td>0.308844</td>\n",
       "      <td>1.8134892</td>\n",
       "      <td>corn</td>\n",
       "      <td>1.1318418</td>\n",
       "      <td>ruler</td>\n",
       "      <td>0.9522891</td>\n",
       "      <td>topped</td>\n",
       "      <td>0.9440155</td>\n",
       "      <td>squash</td>\n",
       "      <td>0.7776528</td>\n",
       "      <td>grizzly</td>\n",
       "      <td>0.333989</td>\n",
       "    </tr>\n",
       "    <tr>\n",
       "      <th>19</th>\n",
       "      <td>layer4</td>\n",
       "      <td>19</td>\n",
       "      <td>0.329204</td>\n",
       "      <td>1.4914191</td>\n",
       "      <td>decorated</td>\n",
       "      <td>1.2195137</td>\n",
       "      <td>bedding</td>\n",
       "      <td>1.149957</td>\n",
       "      <td>frog</td>\n",
       "      <td>1.0519379</td>\n",
       "      <td>boa</td>\n",
       "      <td>0.96040624</td>\n",
       "      <td>dishes</td>\n",
       "      <td>0.287178</td>\n",
       "    </tr>\n",
       "    <tr>\n",
       "      <th>20</th>\n",
       "      <td>layer4</td>\n",
       "      <td>20</td>\n",
       "      <td>0.334546</td>\n",
       "      <td>2.2289867</td>\n",
       "      <td>whirlpool</td>\n",
       "      <td>1.3118219</td>\n",
       "      <td>copier</td>\n",
       "      <td>1.1132774</td>\n",
       "      <td>atm</td>\n",
       "      <td>0.99407923</td>\n",
       "      <td>tub</td>\n",
       "      <td>0.27150276</td>\n",
       "      <td>fluffy</td>\n",
       "      <td>0.330784</td>\n",
       "    </tr>\n",
       "    <tr>\n",
       "      <th>21</th>\n",
       "      <td>layer4</td>\n",
       "      <td>21</td>\n",
       "      <td>0.529677</td>\n",
       "      <td>3.3570857</td>\n",
       "      <td>glassware</td>\n",
       "      <td>2.960248</td>\n",
       "      <td>clear</td>\n",
       "      <td>2.1327248</td>\n",
       "      <td>bubble</td>\n",
       "      <td>1.7289407</td>\n",
       "      <td>bottled</td>\n",
       "      <td>1.7041531</td>\n",
       "      <td>dessert</td>\n",
       "      <td>0.390322</td>\n",
       "    </tr>\n",
       "    <tr>\n",
       "      <th>22</th>\n",
       "      <td>layer4</td>\n",
       "      <td>22</td>\n",
       "      <td>0.336694</td>\n",
       "      <td>1.8366716</td>\n",
       "      <td>cabbage</td>\n",
       "      <td>1.5489008</td>\n",
       "      <td>observatory</td>\n",
       "      <td>1.4943986</td>\n",
       "      <td>beaver</td>\n",
       "      <td>1.2685645</td>\n",
       "      <td>spherical</td>\n",
       "      <td>0.83191454</td>\n",
       "      <td>bear</td>\n",
       "      <td>0.356657</td>\n",
       "    </tr>\n",
       "    <tr>\n",
       "      <th>23</th>\n",
       "      <td>layer4</td>\n",
       "      <td>23</td>\n",
       "      <td>0.303218</td>\n",
       "      <td>1.7944828</td>\n",
       "      <td>yellowstone</td>\n",
       "      <td>1.1918839</td>\n",
       "      <td>axel</td>\n",
       "      <td>0.7306333</td>\n",
       "      <td>fish</td>\n",
       "      <td>0.7209825</td>\n",
       "      <td>frog</td>\n",
       "      <td>0.6199178</td>\n",
       "      <td>fluffy</td>\n",
       "      <td>0.283391</td>\n",
       "    </tr>\n",
       "    <tr>\n",
       "      <th>24</th>\n",
       "      <td>layer4</td>\n",
       "      <td>24</td>\n",
       "      <td>0.423897</td>\n",
       "      <td>7.5250306</td>\n",
       "      <td>jeans</td>\n",
       "      <td>1.3413037</td>\n",
       "      <td>mariner</td>\n",
       "      <td>1.3102244</td>\n",
       "      <td>shoes</td>\n",
       "      <td>0.56750584</td>\n",
       "      <td>fisheries</td>\n",
       "      <td>0.5533194</td>\n",
       "      <td>shark</td>\n",
       "      <td>0.431897</td>\n",
       "    </tr>\n",
       "    <tr>\n",
       "      <th>25</th>\n",
       "      <td>layer4</td>\n",
       "      <td>25</td>\n",
       "      <td>0.397394</td>\n",
       "      <td>2.2950764</td>\n",
       "      <td>wheelchair</td>\n",
       "      <td>2.201073</td>\n",
       "      <td>chair</td>\n",
       "      <td>2.15371</td>\n",
       "      <td>holster</td>\n",
       "      <td>2.0975819</td>\n",
       "      <td>stroller</td>\n",
       "      <td>2.0374172</td>\n",
       "      <td>bike</td>\n",
       "      <td>0.373771</td>\n",
       "    </tr>\n",
       "    <tr>\n",
       "      <th>26</th>\n",
       "      <td>layer4</td>\n",
       "      <td>26</td>\n",
       "      <td>0.332215</td>\n",
       "      <td>2.0611043</td>\n",
       "      <td>beetle</td>\n",
       "      <td>1.765736</td>\n",
       "      <td>brushes</td>\n",
       "      <td>1.4806967</td>\n",
       "      <td>peacock</td>\n",
       "      <td>0.972301</td>\n",
       "      <td>traditional</td>\n",
       "      <td>0.60399014</td>\n",
       "      <td>ave</td>\n",
       "      <td>0.298935</td>\n",
       "    </tr>\n",
       "    <tr>\n",
       "      <th>27</th>\n",
       "      <td>layer4</td>\n",
       "      <td>27</td>\n",
       "      <td>0.341195</td>\n",
       "      <td>3.127557</td>\n",
       "      <td>sperm</td>\n",
       "      <td>1.5710533</td>\n",
       "      <td>knife</td>\n",
       "      <td>1.4767935</td>\n",
       "      <td>cats</td>\n",
       "      <td>1.2367767</td>\n",
       "      <td>long</td>\n",
       "      <td>0.7667012</td>\n",
       "      <td>greyhound</td>\n",
       "      <td>0.309865</td>\n",
       "    </tr>\n",
       "    <tr>\n",
       "      <th>28</th>\n",
       "      <td>layer4</td>\n",
       "      <td>28</td>\n",
       "      <td>0.434066</td>\n",
       "      <td>2.8926663</td>\n",
       "      <td>cages</td>\n",
       "      <td>2.3885138</td>\n",
       "      <td>library</td>\n",
       "      <td>1.7672448</td>\n",
       "      <td>guitar</td>\n",
       "      <td>1.7187485</td>\n",
       "      <td>husky</td>\n",
       "      <td>1.3457952</td>\n",
       "      <td>window</td>\n",
       "      <td>0.327590</td>\n",
       "    </tr>\n",
       "    <tr>\n",
       "      <th>29</th>\n",
       "      <td>layer4</td>\n",
       "      <td>29</td>\n",
       "      <td>0.323487</td>\n",
       "      <td>1.5646688</td>\n",
       "      <td>coyote</td>\n",
       "      <td>1.4376761</td>\n",
       "      <td>wheel</td>\n",
       "      <td>1.283697</td>\n",
       "      <td>camera</td>\n",
       "      <td>0.8767263</td>\n",
       "      <td>cats</td>\n",
       "      <td>0.6065416</td>\n",
       "      <td>utter</td>\n",
       "      <td>0.277128</td>\n",
       "    </tr>\n",
       "    <tr>\n",
       "      <th>30</th>\n",
       "      <td>layer4</td>\n",
       "      <td>30</td>\n",
       "      <td>0.278238</td>\n",
       "      <td>1.1785744</td>\n",
       "      <td>crochet</td>\n",
       "      <td>1.0095463</td>\n",
       "      <td>skirt</td>\n",
       "      <td>0.9139463</td>\n",
       "      <td>cape</td>\n",
       "      <td>0.6450092</td>\n",
       "      <td>chow</td>\n",
       "      <td>0.41216615</td>\n",
       "      <td>fur</td>\n",
       "      <td>0.328526</td>\n",
       "    </tr>\n",
       "    <tr>\n",
       "      <th>31</th>\n",
       "      <td>layer4</td>\n",
       "      <td>31</td>\n",
       "      <td>0.301900</td>\n",
       "      <td>5.522208</td>\n",
       "      <td>alibaba</td>\n",
       "      <td>2.418832</td>\n",
       "      <td>whistle</td>\n",
       "      <td>1.9374812</td>\n",
       "      <td>joystick</td>\n",
       "      <td>1.5816364</td>\n",
       "      <td>camera</td>\n",
       "      <td>1.0748823</td>\n",
       "      <td>mop</td>\n",
       "      <td>0.348621</td>\n",
       "    </tr>\n",
       "    <tr>\n",
       "      <th>32</th>\n",
       "      <td>layer4</td>\n",
       "      <td>32</td>\n",
       "      <td>0.336538</td>\n",
       "      <td>1.7840891</td>\n",
       "      <td>cucumber</td>\n",
       "      <td>1.746949</td>\n",
       "      <td>bottle</td>\n",
       "      <td>1.3689742</td>\n",
       "      <td>pillar</td>\n",
       "      <td>1.0374826</td>\n",
       "      <td>frog</td>\n",
       "      <td>0.7906362</td>\n",
       "      <td>capped</td>\n",
       "      <td>0.338524</td>\n",
       "    </tr>\n",
       "    <tr>\n",
       "      <th>33</th>\n",
       "      <td>layer4</td>\n",
       "      <td>33</td>\n",
       "      <td>0.399675</td>\n",
       "      <td>2.8043704</td>\n",
       "      <td>plaque</td>\n",
       "      <td>2.0370278</td>\n",
       "      <td>statue</td>\n",
       "      <td>1.8836259</td>\n",
       "      <td>armor</td>\n",
       "      <td>1.7290505</td>\n",
       "      <td>dried</td>\n",
       "      <td>1.6293973</td>\n",
       "      <td>pineapple</td>\n",
       "      <td>0.298773</td>\n",
       "    </tr>\n",
       "    <tr>\n",
       "      <th>34</th>\n",
       "      <td>layer4</td>\n",
       "      <td>34</td>\n",
       "      <td>0.515963</td>\n",
       "      <td>4.7986407</td>\n",
       "      <td>river</td>\n",
       "      <td>2.69277</td>\n",
       "      <td>venice</td>\n",
       "      <td>2.13815</td>\n",
       "      <td>zoo</td>\n",
       "      <td>1.7529112</td>\n",
       "      <td>ape</td>\n",
       "      <td>1.3208222</td>\n",
       "      <td>bridge</td>\n",
       "      <td>0.562391</td>\n",
       "    </tr>\n",
       "    <tr>\n",
       "      <th>35</th>\n",
       "      <td>layer4</td>\n",
       "      <td>35</td>\n",
       "      <td>0.380587</td>\n",
       "      <td>2.277833</td>\n",
       "      <td>gong</td>\n",
       "      <td>2.0301893</td>\n",
       "      <td>camel</td>\n",
       "      <td>1.9379796</td>\n",
       "      <td>trout</td>\n",
       "      <td>1.3345296</td>\n",
       "      <td>brass</td>\n",
       "      <td>1.1411737</td>\n",
       "      <td>shark</td>\n",
       "      <td>0.340538</td>\n",
       "    </tr>\n",
       "    <tr>\n",
       "      <th>36</th>\n",
       "      <td>layer4</td>\n",
       "      <td>36</td>\n",
       "      <td>0.397625</td>\n",
       "      <td>2.1720586</td>\n",
       "      <td>trailer</td>\n",
       "      <td>1.9766763</td>\n",
       "      <td>dam</td>\n",
       "      <td>1.974292</td>\n",
       "      <td>canal</td>\n",
       "      <td>1.7454431</td>\n",
       "      <td>submarine</td>\n",
       "      <td>1.703735</td>\n",
       "      <td>tubs</td>\n",
       "      <td>0.360052</td>\n",
       "    </tr>\n",
       "    <tr>\n",
       "      <th>37</th>\n",
       "      <td>layer4</td>\n",
       "      <td>37</td>\n",
       "      <td>0.389179</td>\n",
       "      <td>2.0461252</td>\n",
       "      <td>bag</td>\n",
       "      <td>1.7085515</td>\n",
       "      <td>hooded</td>\n",
       "      <td>1.5952933</td>\n",
       "      <td>phd</td>\n",
       "      <td>1.1837455</td>\n",
       "      <td>bloodhound</td>\n",
       "      <td>0.813067</td>\n",
       "      <td>dane</td>\n",
       "      <td>0.317356</td>\n",
       "    </tr>\n",
       "    <tr>\n",
       "      <th>38</th>\n",
       "      <td>layer4</td>\n",
       "      <td>38</td>\n",
       "      <td>0.326312</td>\n",
       "      <td>1.7345614</td>\n",
       "      <td>outfit</td>\n",
       "      <td>0.6584814</td>\n",
       "      <td>stocking</td>\n",
       "      <td>0.6455257</td>\n",
       "      <td>sleeve</td>\n",
       "      <td>0.6004566</td>\n",
       "      <td>statue</td>\n",
       "      <td>0.44630456</td>\n",
       "      <td>modeled</td>\n",
       "      <td>0.268534</td>\n",
       "    </tr>\n",
       "    <tr>\n",
       "      <th>39</th>\n",
       "      <td>layer4</td>\n",
       "      <td>39</td>\n",
       "      <td>0.588648</td>\n",
       "      <td>5.8152966</td>\n",
       "      <td>cats</td>\n",
       "      <td>2.527067</td>\n",
       "      <td>leopard</td>\n",
       "      <td>1.6904248</td>\n",
       "      <td>lion</td>\n",
       "      <td>1.580597</td>\n",
       "      <td>retriever</td>\n",
       "      <td>1.4349138</td>\n",
       "      <td>springer</td>\n",
       "      <td>0.339137</td>\n",
       "    </tr>\n",
       "    <tr>\n",
       "      <th>40</th>\n",
       "      <td>layer4</td>\n",
       "      <td>40</td>\n",
       "      <td>0.396968</td>\n",
       "      <td>2.0994012</td>\n",
       "      <td>car</td>\n",
       "      <td>1.9490557</td>\n",
       "      <td>dinnerware</td>\n",
       "      <td>1.4741778</td>\n",
       "      <td>kettle</td>\n",
       "      <td>1.219057</td>\n",
       "      <td>shoes</td>\n",
       "      <td>0.97846526</td>\n",
       "      <td>limo</td>\n",
       "      <td>0.297434</td>\n",
       "    </tr>\n",
       "    <tr>\n",
       "      <th>41</th>\n",
       "      <td>layer4</td>\n",
       "      <td>41</td>\n",
       "      <td>0.345531</td>\n",
       "      <td>3.766954</td>\n",
       "      <td>desert</td>\n",
       "      <td>1.4848249</td>\n",
       "      <td>baseball</td>\n",
       "      <td>1.3509798</td>\n",
       "      <td>roof</td>\n",
       "      <td>1.3392818</td>\n",
       "      <td>clay</td>\n",
       "      <td>1.0729305</td>\n",
       "      <td>canyon</td>\n",
       "      <td>0.402050</td>\n",
       "    </tr>\n",
       "    <tr>\n",
       "      <th>42</th>\n",
       "      <td>layer4</td>\n",
       "      <td>42</td>\n",
       "      <td>0.350059</td>\n",
       "      <td>1.9239644</td>\n",
       "      <td>hiking</td>\n",
       "      <td>1.4344183</td>\n",
       "      <td>foliage</td>\n",
       "      <td>1.0173159</td>\n",
       "      <td>dried</td>\n",
       "      <td>0.69385785</td>\n",
       "      <td>digging</td>\n",
       "      <td>0.5826843</td>\n",
       "      <td>habitat</td>\n",
       "      <td>0.321934</td>\n",
       "    </tr>\n",
       "    <tr>\n",
       "      <th>43</th>\n",
       "      <td>layer4</td>\n",
       "      <td>43</td>\n",
       "      <td>0.333233</td>\n",
       "      <td>1.0430396</td>\n",
       "      <td>iron</td>\n",
       "      <td>1.03186</td>\n",
       "      <td>monkey</td>\n",
       "      <td>0.97172076</td>\n",
       "      <td>rocks</td>\n",
       "      <td>0.9661248</td>\n",
       "      <td>dicke</td>\n",
       "      <td>0.94586843</td>\n",
       "      <td>mortar</td>\n",
       "      <td>0.269174</td>\n",
       "    </tr>\n",
       "    <tr>\n",
       "      <th>44</th>\n",
       "      <td>layer4</td>\n",
       "      <td>44</td>\n",
       "      <td>0.423033</td>\n",
       "      <td>2.184607</td>\n",
       "      <td>knee</td>\n",
       "      <td>2.1256294</td>\n",
       "      <td>shoes</td>\n",
       "      <td>1.3727182</td>\n",
       "      <td>leather</td>\n",
       "      <td>1.1641686</td>\n",
       "      <td>armor</td>\n",
       "      <td>0.8935556</td>\n",
       "      <td>holster</td>\n",
       "      <td>0.261170</td>\n",
       "    </tr>\n",
       "    <tr>\n",
       "      <th>45</th>\n",
       "      <td>layer4</td>\n",
       "      <td>45</td>\n",
       "      <td>0.571907</td>\n",
       "      <td>5.1450067</td>\n",
       "      <td>bedding</td>\n",
       "      <td>2.2022924</td>\n",
       "      <td>couch</td>\n",
       "      <td>2.0264783</td>\n",
       "      <td>newborn</td>\n",
       "      <td>1.2838583</td>\n",
       "      <td>prone</td>\n",
       "      <td>0.5881945</td>\n",
       "      <td>laying</td>\n",
       "      <td>0.342589</td>\n",
       "    </tr>\n",
       "    <tr>\n",
       "      <th>46</th>\n",
       "      <td>layer4</td>\n",
       "      <td>46</td>\n",
       "      <td>0.310754</td>\n",
       "      <td>3.4248374</td>\n",
       "      <td>exterior</td>\n",
       "      <td>1.8614875</td>\n",
       "      <td>broccoli</td>\n",
       "      <td>1.4337803</td>\n",
       "      <td>printer</td>\n",
       "      <td>1.0333072</td>\n",
       "      <td>curly</td>\n",
       "      <td>0.36318675</td>\n",
       "      <td>lam</td>\n",
       "      <td>0.355281</td>\n",
       "    </tr>\n",
       "    <tr>\n",
       "      <th>47</th>\n",
       "      <td>layer4</td>\n",
       "      <td>47</td>\n",
       "      <td>0.372452</td>\n",
       "      <td>3.243185</td>\n",
       "      <td>pendant</td>\n",
       "      <td>2.5135024</td>\n",
       "      <td>closet</td>\n",
       "      <td>2.2602134</td>\n",
       "      <td>helix</td>\n",
       "      <td>1.97821</td>\n",
       "      <td>refrigerator</td>\n",
       "      <td>1.3891801</td>\n",
       "      <td>soaring</td>\n",
       "      <td>0.432145</td>\n",
       "    </tr>\n",
       "    <tr>\n",
       "      <th>48</th>\n",
       "      <td>layer4</td>\n",
       "      <td>48</td>\n",
       "      <td>0.280601</td>\n",
       "      <td>1.376438</td>\n",
       "      <td>rope</td>\n",
       "      <td>1.3718368</td>\n",
       "      <td>cabbage</td>\n",
       "      <td>1.0502336</td>\n",
       "      <td>cradle</td>\n",
       "      <td>0.922078</td>\n",
       "      <td>basket</td>\n",
       "      <td>0.5632373</td>\n",
       "      <td>spider</td>\n",
       "      <td>0.377466</td>\n",
       "    </tr>\n",
       "    <tr>\n",
       "      <th>49</th>\n",
       "      <td>layer4</td>\n",
       "      <td>49</td>\n",
       "      <td>0.453929</td>\n",
       "      <td>3.0655515</td>\n",
       "      <td>atm</td>\n",
       "      <td>2.1138272</td>\n",
       "      <td>lcd</td>\n",
       "      <td>1.9541097</td>\n",
       "      <td>stereo</td>\n",
       "      <td>1.5195098</td>\n",
       "      <td>ape</td>\n",
       "      <td>0.6433627</td>\n",
       "      <td>lizard</td>\n",
       "      <td>0.343968</td>\n",
       "    </tr>\n",
       "  </tbody>\n",
       "</table>\n",
       "</div>"
      ],
      "text/plain": [
       "     layer  unit  correlation     weight0     concept0     weight1  \\\n",
       "0   layer4     0     0.377215    2.382103   adjustable   2.0521119   \n",
       "1   layer4     1     0.330263   7.0042024      signage   4.4298377   \n",
       "2   layer4     2     0.398274   3.2275984      wedding    3.086292   \n",
       "3   layer4     3     0.399916   2.5160763       cruise   1.6443017   \n",
       "4   layer4     4     0.353505   4.3172197     teaching    3.577893   \n",
       "5   layer4     5     0.355001    3.572888      sausage    2.623857   \n",
       "6   layer4     6     0.401510   2.7432346       formal    2.373991   \n",
       "7   layer4     7     0.373050   3.1072683   adjustable    2.319222   \n",
       "8   layer4     8     0.499908   2.9047585     elephant    1.048602   \n",
       "9   layer4     9     0.433692   2.2999315      sailing    2.254897   \n",
       "10  layer4    10     0.446659    1.427796  celebration  0.84926045   \n",
       "11  layer4    11     0.469629   2.7290885    bookshelf   1.7103508   \n",
       "12  layer4    12     0.550396   3.9689124   rainforest   2.4698973   \n",
       "13  layer4    13     0.355416   1.4667083     blogroll   1.3193511   \n",
       "14  layer4    14     0.453559   4.6660476      peoples    2.762001   \n",
       "15  layer4    15     0.516622   1.8828355         soup   1.8783807   \n",
       "16  layer4    16     0.452221   2.8312247    amusement   2.4697511   \n",
       "17  layer4    17     0.370344  0.88389564       fossil   0.7381647   \n",
       "18  layer4    18     0.308844   1.8134892         corn   1.1318418   \n",
       "19  layer4    19     0.329204   1.4914191    decorated   1.2195137   \n",
       "20  layer4    20     0.334546   2.2289867    whirlpool   1.3118219   \n",
       "21  layer4    21     0.529677   3.3570857    glassware    2.960248   \n",
       "22  layer4    22     0.336694   1.8366716      cabbage   1.5489008   \n",
       "23  layer4    23     0.303218   1.7944828  yellowstone   1.1918839   \n",
       "24  layer4    24     0.423897   7.5250306        jeans   1.3413037   \n",
       "25  layer4    25     0.397394   2.2950764   wheelchair    2.201073   \n",
       "26  layer4    26     0.332215   2.0611043       beetle    1.765736   \n",
       "27  layer4    27     0.341195    3.127557        sperm   1.5710533   \n",
       "28  layer4    28     0.434066   2.8926663        cages   2.3885138   \n",
       "29  layer4    29     0.323487   1.5646688       coyote   1.4376761   \n",
       "30  layer4    30     0.278238   1.1785744      crochet   1.0095463   \n",
       "31  layer4    31     0.301900    5.522208      alibaba    2.418832   \n",
       "32  layer4    32     0.336538   1.7840891     cucumber    1.746949   \n",
       "33  layer4    33     0.399675   2.8043704       plaque   2.0370278   \n",
       "34  layer4    34     0.515963   4.7986407        river     2.69277   \n",
       "35  layer4    35     0.380587    2.277833         gong   2.0301893   \n",
       "36  layer4    36     0.397625   2.1720586      trailer   1.9766763   \n",
       "37  layer4    37     0.389179   2.0461252          bag   1.7085515   \n",
       "38  layer4    38     0.326312   1.7345614       outfit   0.6584814   \n",
       "39  layer4    39     0.588648   5.8152966         cats    2.527067   \n",
       "40  layer4    40     0.396968   2.0994012          car   1.9490557   \n",
       "41  layer4    41     0.345531    3.766954       desert   1.4848249   \n",
       "42  layer4    42     0.350059   1.9239644       hiking   1.4344183   \n",
       "43  layer4    43     0.333233   1.0430396         iron     1.03186   \n",
       "44  layer4    44     0.423033    2.184607         knee   2.1256294   \n",
       "45  layer4    45     0.571907   5.1450067      bedding   2.2022924   \n",
       "46  layer4    46     0.310754   3.4248374     exterior   1.8614875   \n",
       "47  layer4    47     0.372452    3.243185      pendant   2.5135024   \n",
       "48  layer4    48     0.280601    1.376438         rope   1.3718368   \n",
       "49  layer4    49     0.453929   3.0655515          atm   2.1138272   \n",
       "\n",
       "       concept1     weight2    concept2     weight3      concept3     weight4  \\\n",
       "0      cosmetic   1.7552088      refill    1.287842        bottle   1.1503644   \n",
       "1   autographed   3.2038736        fade   1.9549007         cider   1.6659812   \n",
       "2     scientist   1.6521993      formal    1.514733       whipped   0.5744931   \n",
       "3           gun   1.4908068   equipment   0.9413853        beaver   0.8612078   \n",
       "4        carton   2.7805684    sandwich   2.6388555       shaping   0.8304039   \n",
       "5       weapons   2.2646747        pens   2.0156837        bottle   1.7976598   \n",
       "6        doctor   1.5851823     uniform   0.8005871       terrier   0.4741193   \n",
       "7       lifting   1.9144187        safe   1.7363571       grizzly   1.1120399   \n",
       "8      utensils   1.0478146         hog   0.8819162          arch   0.8199932   \n",
       "9    greenhouse    2.212181       labor   1.3654319          wore   1.1590737   \n",
       "10       flames   0.8093053        arch  0.68606657         altar   0.6813522   \n",
       "11         axel   1.5219429         kit   1.3667578       gorilla   0.8975593   \n",
       "12        grows   2.3711545  vegetarian   1.8061035          ibis   1.4712245   \n",
       "13        anglo   1.0150052    springer  0.63630754      pembroke  0.28004926   \n",
       "14       formal   2.5968096      casino   1.6727505     uniformly    1.476308   \n",
       "15       bucket   1.3942502        bowl   1.3475345          tubs   1.2671077   \n",
       "16        metro   2.1182568        taxi   1.9862992      carriage   1.4756743   \n",
       "17       topped   0.6603824    dinosaur   0.4921124        spider  0.46716416   \n",
       "18        ruler   0.9522891      topped   0.9440155        squash   0.7776528   \n",
       "19      bedding    1.149957        frog   1.0519379           boa  0.96040624   \n",
       "20       copier   1.1132774         atm  0.99407923           tub  0.27150276   \n",
       "21        clear   2.1327248      bubble   1.7289407       bottled   1.7041531   \n",
       "22  observatory   1.4943986      beaver   1.2685645     spherical  0.83191454   \n",
       "23         axel   0.7306333        fish   0.7209825          frog   0.6199178   \n",
       "24      mariner   1.3102244       shoes  0.56750584     fisheries   0.5533194   \n",
       "25        chair     2.15371     holster   2.0975819      stroller   2.0374172   \n",
       "26      brushes   1.4806967     peacock    0.972301   traditional  0.60399014   \n",
       "27        knife   1.4767935        cats   1.2367767          long   0.7667012   \n",
       "28      library   1.7672448      guitar   1.7187485         husky   1.3457952   \n",
       "29        wheel    1.283697      camera   0.8767263          cats   0.6065416   \n",
       "30        skirt   0.9139463        cape   0.6450092          chow  0.41216615   \n",
       "31      whistle   1.9374812    joystick   1.5816364        camera   1.0748823   \n",
       "32       bottle   1.3689742      pillar   1.0374826          frog   0.7906362   \n",
       "33       statue   1.8836259       armor   1.7290505         dried   1.6293973   \n",
       "34       venice     2.13815         zoo   1.7529112           ape   1.3208222   \n",
       "35        camel   1.9379796       trout   1.3345296         brass   1.1411737   \n",
       "36          dam    1.974292       canal   1.7454431     submarine    1.703735   \n",
       "37       hooded   1.5952933         phd   1.1837455    bloodhound    0.813067   \n",
       "38     stocking   0.6455257      sleeve   0.6004566        statue  0.44630456   \n",
       "39      leopard   1.6904248        lion    1.580597     retriever   1.4349138   \n",
       "40   dinnerware   1.4741778      kettle    1.219057         shoes  0.97846526   \n",
       "41     baseball   1.3509798        roof   1.3392818          clay   1.0729305   \n",
       "42      foliage   1.0173159       dried  0.69385785       digging   0.5826843   \n",
       "43       monkey  0.97172076       rocks   0.9661248         dicke  0.94586843   \n",
       "44        shoes   1.3727182     leather   1.1641686         armor   0.8935556   \n",
       "45        couch   2.0264783     newborn   1.2838583         prone   0.5881945   \n",
       "46     broccoli   1.4337803     printer   1.0333072         curly  0.36318675   \n",
       "47       closet   2.2602134       helix     1.97821  refrigerator   1.3891801   \n",
       "48      cabbage   1.0502336      cradle    0.922078        basket   0.5632373   \n",
       "49          lcd   1.9541097      stereo   1.5195098           ape   0.6433627   \n",
       "\n",
       "     concept4      bias  \n",
       "0   stainless  0.293337  \n",
       "1      bottle  0.489773  \n",
       "2       anglo  0.380480  \n",
       "3      tomcat  0.305594  \n",
       "4      squash  0.422467  \n",
       "5      larvae  0.394400  \n",
       "6      monkey  0.402444  \n",
       "7         dug  0.366901  \n",
       "8        swan  0.277847  \n",
       "9   dragonfly  0.339252  \n",
       "10        cur  0.193487  \n",
       "11   cylinder  0.264300  \n",
       "12       soup  0.375188  \n",
       "13    bernard  0.369227  \n",
       "14   students  0.453764  \n",
       "15       stir  0.322751  \n",
       "16        cho  0.339779  \n",
       "17        ape  0.192888  \n",
       "18    grizzly  0.333989  \n",
       "19     dishes  0.287178  \n",
       "20     fluffy  0.330784  \n",
       "21    dessert  0.390322  \n",
       "22       bear  0.356657  \n",
       "23     fluffy  0.283391  \n",
       "24      shark  0.431897  \n",
       "25       bike  0.373771  \n",
       "26        ave  0.298935  \n",
       "27  greyhound  0.309865  \n",
       "28     window  0.327590  \n",
       "29      utter  0.277128  \n",
       "30        fur  0.328526  \n",
       "31        mop  0.348621  \n",
       "32     capped  0.338524  \n",
       "33  pineapple  0.298773  \n",
       "34     bridge  0.562391  \n",
       "35      shark  0.340538  \n",
       "36       tubs  0.360052  \n",
       "37       dane  0.317356  \n",
       "38    modeled  0.268534  \n",
       "39   springer  0.339137  \n",
       "40       limo  0.297434  \n",
       "41     canyon  0.402050  \n",
       "42    habitat  0.321934  \n",
       "43     mortar  0.269174  \n",
       "44    holster  0.261170  \n",
       "45     laying  0.342589  \n",
       "46        lam  0.355281  \n",
       "47    soaring  0.432145  \n",
       "48     spider  0.377466  \n",
       "49     lizard  0.343968  "
      ]
     },
     "execution_count": 22,
     "metadata": {},
     "output_type": "execute_result"
    }
   ],
   "source": [
    "result_df = pd.DataFrame(result_df)\n",
    "result_df"
   ]
  },
  {
   "cell_type": "code",
   "execution_count": 23,
   "id": "bb394431-4dbe-4077-bcde-08f1ba0e9f98",
   "metadata": {},
   "outputs": [],
   "source": [
    "result_df.to_csv(\"results/linear_{}_first50_new.csv\".format(target_name))"
   ]
  },
  {
   "cell_type": "code",
   "execution_count": 24,
   "id": "3bec139d-45df-45c0-b5c4-0fb94fbca733",
   "metadata": {},
   "outputs": [],
   "source": [
    "### generating train-val-test split out of the validation data\n",
    "# import random\n",
    "\n",
    "# ids = [i for i in range(50000)]\n",
    "# random.shuffle(ids)\n",
    "# train_ids = ids[:35000]\n",
    "# val_ids = ids[35000:40000]\n",
    "# test_ids = ids[40000:]\n",
    "# train_ids = torch.sort(torch.tensor(train_ids))[0]\n",
    "# val_ids = torch.sort(torch.tensor(val_ids))[0]\n",
    "# test_ids = torch.sort(torch.tensor(test_ids))[0]\n",
    "\n",
    "# print(train_ids[:20])\n",
    "# print(val_ids[:5])\n",
    "# print(test_ids[:5])\n",
    "\n",
    "# torch.save(train_ids, 'data/imagenet_val_splits/train_ids.pt')\n",
    "# torch.save(val_ids, 'data/imagenet_val_splits/val_ids.pt')\n",
    "# torch.save(test_ids, 'data/imagenet_val_splits/test_ids.pt')"
   ]
  }
 ],
 "metadata": {
  "kernelspec": {
   "display_name": "Python 3 (ipykernel)",
   "language": "python",
   "name": "python3"
  },
  "language_info": {
   "codemirror_mode": {
    "name": "ipython",
    "version": 3
   },
   "file_extension": ".py",
   "mimetype": "text/x-python",
   "name": "python",
   "nbconvert_exporter": "python",
   "pygments_lexer": "ipython3",
   "version": "3.11.4"
  }
 },
 "nbformat": 4,
 "nbformat_minor": 5
}
