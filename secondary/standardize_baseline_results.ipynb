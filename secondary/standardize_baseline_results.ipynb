{
 "cells": [
  {
   "cell_type": "code",
   "execution_count": 1,
   "metadata": {},
   "outputs": [],
   "source": [
    "import os\n",
    "os.chdir(\"..\")\n",
    "import pandas as pd\n",
    "import numpy as np"
   ]
  },
  {
   "cell_type": "code",
   "execution_count": 5,
   "metadata": {},
   "outputs": [],
   "source": [
    "# Network Dissection\n",
    "def clean_description(word):\n",
    "    \"\"\"\n",
    "    Cleans up Network Dissection labels to be more readable\n",
    "    \"\"\"\n",
    "    word = word.replace(\"-c\", \" color\")\n",
    "    word = word.replace(\"_\", \" \")\n",
    "    word = word.replace(\"-s\", \"\")\n",
    "    word = word.replace(\"-\", \", \")\n",
    "    return word\n",
    "\n",
    "for target_name in [\"resnet18_places365\", \"resnet50_imagenet\"]:\n",
    "    for target_layer in [\"layer1\", \"layer2\", \"layer3\", \"layer4\"]:\n",
    "        new_df = {}\n",
    "        explanation_path = \"results/baselines_orig/NetDissect/{}_{}.csv\".format(target_name, target_layer)\n",
    "        result_df = pd.read_csv(explanation_path)\n",
    "        descriptions = list(result_df[\"label\"])\n",
    "        descriptions = [clean_description(description) for description in descriptions]\n",
    "        neurons = np.array(result_df[\"unit\"])-1 #nd starts indexing from 1\n",
    "        new_df[\"unit\"] = neurons\n",
    "        new_df[\"description\"] = descriptions\n",
    "        new_df = pd.DataFrame(new_df)\n",
    "        if not os.path.exists(\"results/baselines/NetDissect\"):\n",
    "            os.makedirs(\"results/baselines/NetDissect\")\n",
    "        new_df.to_csv(\"results/baselines/NetDissect/{}_{}.csv\".format(target_name, target_layer), index=False)"
   ]
  },
  {
   "cell_type": "code",
   "execution_count": 6,
   "metadata": {},
   "outputs": [],
   "source": [
    "#MILAN\n",
    "for target_name in [\"resnet18_places365\", \"resnet50_imagenet\"]:\n",
    "    for target_layer in [\"layer1\", \"layer2\", \"layer3\", \"layer4\"]:\n",
    "        new_df = {}\n",
    "        explanation_path = \"results/baselines_orig/MILAN/m_base_{}.csv\".format(target_name)\n",
    "        result_df = pd.read_csv(explanation_path)\n",
    "        result_df = result_df[result_df[\"layer\"]==target_layer]\n",
    "\n",
    "        descriptions = list(result_df[\"description\"])\n",
    "        neurons = np.array(result_df[\"unit\"])\n",
    "        new_df[\"unit\"] = neurons\n",
    "        new_df[\"description\"] = descriptions\n",
    "        new_df = pd.DataFrame(new_df)\n",
    "        if not os.path.exists(\"results/baselines/MILAN\"):\n",
    "            os.makedirs(\"results/baselines/MILAN\")\n",
    "        new_df.to_csv(\"results/baselines/MILAN/{}_{}.csv\".format(target_name, target_layer), index=False)"
   ]
  },
  {
   "cell_type": "code",
   "execution_count": 8,
   "metadata": {},
   "outputs": [],
   "source": [
    "#CLIP-DISSECT\n",
    "for target_name in [\"resnet18_places365\", \"resnet50_imagenet\"]:\n",
    "    for target_layer in [\"layer1\", \"layer2\", \"layer3\", \"layer4\"]:\n",
    "        new_df = {}\n",
    "        explanation_path = \"results/baselines_orig/CLIP_Dissect/{}.csv\".format(target_name)\n",
    "        result_df = pd.read_csv(explanation_path)\n",
    "        result_df = result_df[result_df[\"layer\"]==target_layer]\n",
    "\n",
    "        descriptions = list(result_df[\"description\"])\n",
    "        neurons = np.array(result_df[\"unit\"])\n",
    "        new_df[\"unit\"] = neurons\n",
    "        new_df[\"description\"] = descriptions\n",
    "        new_df = pd.DataFrame(new_df)\n",
    "        if not os.path.exists(\"results/baselines/CLIP_Dissect\"):\n",
    "            os.makedirs(\"results/baselines/CLIP_Dissect\")\n",
    "        new_df.to_csv(\"results/baselines/CLIP_Dissect/{}_{}.csv\".format(target_name, target_layer), index=False)"
   ]
  },
  {
   "cell_type": "code",
   "execution_count": null,
   "metadata": {},
   "outputs": [],
   "source": []
  }
 ],
 "metadata": {
  "kernelspec": {
   "display_name": "pytorch2",
   "language": "python",
   "name": "python3"
  },
  "language_info": {
   "codemirror_mode": {
    "name": "ipython",
    "version": 3
   },
   "file_extension": ".py",
   "mimetype": "text/x-python",
   "name": "python",
   "nbconvert_exporter": "python",
   "pygments_lexer": "ipython3",
   "version": "3.11.4"
  }
 },
 "nbformat": 4,
 "nbformat_minor": 2
}
